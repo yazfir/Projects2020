{
  "nbformat": 4,
  "nbformat_minor": 0,
  "metadata": {
    "colab": {
      "name": "Linear_Regression.ipynb",
      "provenance": [],
      "collapsed_sections": [],
      "include_colab_link": true
    },
    "kernelspec": {
      "name": "python3",
      "display_name": "Python 3"
    },
    "language_info": {
      "name": "python"
    }
  },
  "cells": [
    {
      "cell_type": "markdown",
      "metadata": {
        "id": "view-in-github",
        "colab_type": "text"
      },
      "source": [
        "<a href=\"https://colab.research.google.com/github/yazfir/Projects2021/blob/master/ProysDatacademy/Linear_Regression.ipynb\" target=\"_parent\"><img src=\"https://colab.research.google.com/assets/colab-badge.svg\" alt=\"Open In Colab\"/></a>"
      ]
    },
    {
      "cell_type": "markdown",
      "metadata": {
        "id": "c0XRjbPqF9NI"
      },
      "source": [
        "# Visualización y entrenamiento de un modelo de Regresión lineal con scikit-learn"
      ]
    },
    {
      "cell_type": "markdown",
      "metadata": {
        "id": "eSFESh08hPtG"
      },
      "source": [
        "## Importando dependencias"
      ]
    },
    {
      "cell_type": "code",
      "metadata": {
        "id": "f2YD7Mz_Ych_"
      },
      "source": [
        "import pandas as pd # Manejo de datos\n",
        "import seaborn as sns # Creación de gráficas y visualización de datos\n",
        "import matplotlib.pyplot as plt # Dependencia para crear gráficos"
      ],
      "execution_count": 1,
      "outputs": []
    },
    {
      "cell_type": "markdown",
      "metadata": {
        "id": "CV5o6mrKhCcA"
      },
      "source": [
        "## Explorando nuestro set de datos"
      ]
    },
    {
      "cell_type": "code",
      "metadata": {
        "id": "XAoF43djZxsD"
      },
      "source": [
        ""
      ],
      "execution_count": null,
      "outputs": []
    },
    {
      "cell_type": "code",
      "metadata": {
        "colab": {
          "base_uri": "https://localhost:8080/"
        },
        "id": "2C1nKEUz2LwA",
        "outputId": "452f20f6-25e1-4d43-c02a-3b1ec5f6276f"
      },
      "source": [
        "from google.colab import drive\n",
        "drive.mount('/content/drive')"
      ],
      "execution_count": 2,
      "outputs": [
        {
          "output_type": "stream",
          "text": [
            "Mounted at /content/drive\n"
          ],
          "name": "stdout"
        }
      ]
    },
    {
      "cell_type": "code",
      "metadata": {
        "id": "RoXnjnv5Z4xO"
      },
      "source": [
        "df = pd.read_csv('/content/drive/MyDrive/Estudio/Proyectos/PrimerProyDatacademy/studentsperformance.csv')"
      ],
      "execution_count": 3,
      "outputs": []
    },
    {
      "cell_type": "code",
      "metadata": {
        "colab": {
          "base_uri": "https://localhost:8080/",
          "height": 419
        },
        "id": "ptFHqkb92xof",
        "outputId": "436e38c3-c8a7-402b-f6a1-8887a342bbaf"
      },
      "source": [
        "df"
      ],
      "execution_count": 4,
      "outputs": [
        {
          "output_type": "execute_result",
          "data": {
            "text/html": [
              "<div>\n",
              "<style scoped>\n",
              "    .dataframe tbody tr th:only-of-type {\n",
              "        vertical-align: middle;\n",
              "    }\n",
              "\n",
              "    .dataframe tbody tr th {\n",
              "        vertical-align: top;\n",
              "    }\n",
              "\n",
              "    .dataframe thead th {\n",
              "        text-align: right;\n",
              "    }\n",
              "</style>\n",
              "<table border=\"1\" class=\"dataframe\">\n",
              "  <thead>\n",
              "    <tr style=\"text-align: right;\">\n",
              "      <th></th>\n",
              "      <th>gender</th>\n",
              "      <th>race/ethnicity</th>\n",
              "      <th>parental level of education</th>\n",
              "      <th>lunch</th>\n",
              "      <th>test preparation course</th>\n",
              "      <th>math score</th>\n",
              "      <th>reading score</th>\n",
              "      <th>writing score</th>\n",
              "    </tr>\n",
              "  </thead>\n",
              "  <tbody>\n",
              "    <tr>\n",
              "      <th>0</th>\n",
              "      <td>female</td>\n",
              "      <td>group B</td>\n",
              "      <td>bachelor's degree</td>\n",
              "      <td>standard</td>\n",
              "      <td>none</td>\n",
              "      <td>72</td>\n",
              "      <td>72</td>\n",
              "      <td>74</td>\n",
              "    </tr>\n",
              "    <tr>\n",
              "      <th>1</th>\n",
              "      <td>female</td>\n",
              "      <td>group C</td>\n",
              "      <td>some college</td>\n",
              "      <td>standard</td>\n",
              "      <td>completed</td>\n",
              "      <td>69</td>\n",
              "      <td>90</td>\n",
              "      <td>88</td>\n",
              "    </tr>\n",
              "    <tr>\n",
              "      <th>2</th>\n",
              "      <td>female</td>\n",
              "      <td>group B</td>\n",
              "      <td>master's degree</td>\n",
              "      <td>standard</td>\n",
              "      <td>none</td>\n",
              "      <td>90</td>\n",
              "      <td>95</td>\n",
              "      <td>93</td>\n",
              "    </tr>\n",
              "    <tr>\n",
              "      <th>3</th>\n",
              "      <td>male</td>\n",
              "      <td>group A</td>\n",
              "      <td>associate's degree</td>\n",
              "      <td>free/reduced</td>\n",
              "      <td>none</td>\n",
              "      <td>47</td>\n",
              "      <td>57</td>\n",
              "      <td>44</td>\n",
              "    </tr>\n",
              "    <tr>\n",
              "      <th>4</th>\n",
              "      <td>male</td>\n",
              "      <td>group C</td>\n",
              "      <td>some college</td>\n",
              "      <td>standard</td>\n",
              "      <td>none</td>\n",
              "      <td>76</td>\n",
              "      <td>78</td>\n",
              "      <td>75</td>\n",
              "    </tr>\n",
              "    <tr>\n",
              "      <th>...</th>\n",
              "      <td>...</td>\n",
              "      <td>...</td>\n",
              "      <td>...</td>\n",
              "      <td>...</td>\n",
              "      <td>...</td>\n",
              "      <td>...</td>\n",
              "      <td>...</td>\n",
              "      <td>...</td>\n",
              "    </tr>\n",
              "    <tr>\n",
              "      <th>995</th>\n",
              "      <td>female</td>\n",
              "      <td>group E</td>\n",
              "      <td>master's degree</td>\n",
              "      <td>standard</td>\n",
              "      <td>completed</td>\n",
              "      <td>88</td>\n",
              "      <td>99</td>\n",
              "      <td>95</td>\n",
              "    </tr>\n",
              "    <tr>\n",
              "      <th>996</th>\n",
              "      <td>male</td>\n",
              "      <td>group C</td>\n",
              "      <td>high school</td>\n",
              "      <td>free/reduced</td>\n",
              "      <td>none</td>\n",
              "      <td>62</td>\n",
              "      <td>55</td>\n",
              "      <td>55</td>\n",
              "    </tr>\n",
              "    <tr>\n",
              "      <th>997</th>\n",
              "      <td>female</td>\n",
              "      <td>group C</td>\n",
              "      <td>high school</td>\n",
              "      <td>free/reduced</td>\n",
              "      <td>completed</td>\n",
              "      <td>59</td>\n",
              "      <td>71</td>\n",
              "      <td>65</td>\n",
              "    </tr>\n",
              "    <tr>\n",
              "      <th>998</th>\n",
              "      <td>female</td>\n",
              "      <td>group D</td>\n",
              "      <td>some college</td>\n",
              "      <td>standard</td>\n",
              "      <td>completed</td>\n",
              "      <td>68</td>\n",
              "      <td>78</td>\n",
              "      <td>77</td>\n",
              "    </tr>\n",
              "    <tr>\n",
              "      <th>999</th>\n",
              "      <td>female</td>\n",
              "      <td>group D</td>\n",
              "      <td>some college</td>\n",
              "      <td>free/reduced</td>\n",
              "      <td>none</td>\n",
              "      <td>77</td>\n",
              "      <td>86</td>\n",
              "      <td>86</td>\n",
              "    </tr>\n",
              "  </tbody>\n",
              "</table>\n",
              "<p>1000 rows × 8 columns</p>\n",
              "</div>"
            ],
            "text/plain": [
              "     gender race/ethnicity  ... reading score writing score\n",
              "0    female        group B  ...            72            74\n",
              "1    female        group C  ...            90            88\n",
              "2    female        group B  ...            95            93\n",
              "3      male        group A  ...            57            44\n",
              "4      male        group C  ...            78            75\n",
              "..      ...            ...  ...           ...           ...\n",
              "995  female        group E  ...            99            95\n",
              "996    male        group C  ...            55            55\n",
              "997  female        group C  ...            71            65\n",
              "998  female        group D  ...            78            77\n",
              "999  female        group D  ...            86            86\n",
              "\n",
              "[1000 rows x 8 columns]"
            ]
          },
          "metadata": {
            "tags": []
          },
          "execution_count": 4
        }
      ]
    },
    {
      "cell_type": "code",
      "metadata": {
        "id": "gU4qmoUie5QL",
        "colab": {
          "base_uri": "https://localhost:8080/",
          "height": 359
        },
        "outputId": "4700f157-aba1-497e-8692-842958846b40"
      },
      "source": [
        "df.head(10)"
      ],
      "execution_count": 5,
      "outputs": [
        {
          "output_type": "execute_result",
          "data": {
            "text/html": [
              "<div>\n",
              "<style scoped>\n",
              "    .dataframe tbody tr th:only-of-type {\n",
              "        vertical-align: middle;\n",
              "    }\n",
              "\n",
              "    .dataframe tbody tr th {\n",
              "        vertical-align: top;\n",
              "    }\n",
              "\n",
              "    .dataframe thead th {\n",
              "        text-align: right;\n",
              "    }\n",
              "</style>\n",
              "<table border=\"1\" class=\"dataframe\">\n",
              "  <thead>\n",
              "    <tr style=\"text-align: right;\">\n",
              "      <th></th>\n",
              "      <th>gender</th>\n",
              "      <th>race/ethnicity</th>\n",
              "      <th>parental level of education</th>\n",
              "      <th>lunch</th>\n",
              "      <th>test preparation course</th>\n",
              "      <th>math score</th>\n",
              "      <th>reading score</th>\n",
              "      <th>writing score</th>\n",
              "    </tr>\n",
              "  </thead>\n",
              "  <tbody>\n",
              "    <tr>\n",
              "      <th>0</th>\n",
              "      <td>female</td>\n",
              "      <td>group B</td>\n",
              "      <td>bachelor's degree</td>\n",
              "      <td>standard</td>\n",
              "      <td>none</td>\n",
              "      <td>72</td>\n",
              "      <td>72</td>\n",
              "      <td>74</td>\n",
              "    </tr>\n",
              "    <tr>\n",
              "      <th>1</th>\n",
              "      <td>female</td>\n",
              "      <td>group C</td>\n",
              "      <td>some college</td>\n",
              "      <td>standard</td>\n",
              "      <td>completed</td>\n",
              "      <td>69</td>\n",
              "      <td>90</td>\n",
              "      <td>88</td>\n",
              "    </tr>\n",
              "    <tr>\n",
              "      <th>2</th>\n",
              "      <td>female</td>\n",
              "      <td>group B</td>\n",
              "      <td>master's degree</td>\n",
              "      <td>standard</td>\n",
              "      <td>none</td>\n",
              "      <td>90</td>\n",
              "      <td>95</td>\n",
              "      <td>93</td>\n",
              "    </tr>\n",
              "    <tr>\n",
              "      <th>3</th>\n",
              "      <td>male</td>\n",
              "      <td>group A</td>\n",
              "      <td>associate's degree</td>\n",
              "      <td>free/reduced</td>\n",
              "      <td>none</td>\n",
              "      <td>47</td>\n",
              "      <td>57</td>\n",
              "      <td>44</td>\n",
              "    </tr>\n",
              "    <tr>\n",
              "      <th>4</th>\n",
              "      <td>male</td>\n",
              "      <td>group C</td>\n",
              "      <td>some college</td>\n",
              "      <td>standard</td>\n",
              "      <td>none</td>\n",
              "      <td>76</td>\n",
              "      <td>78</td>\n",
              "      <td>75</td>\n",
              "    </tr>\n",
              "    <tr>\n",
              "      <th>5</th>\n",
              "      <td>female</td>\n",
              "      <td>group B</td>\n",
              "      <td>associate's degree</td>\n",
              "      <td>standard</td>\n",
              "      <td>none</td>\n",
              "      <td>71</td>\n",
              "      <td>83</td>\n",
              "      <td>78</td>\n",
              "    </tr>\n",
              "    <tr>\n",
              "      <th>6</th>\n",
              "      <td>female</td>\n",
              "      <td>group B</td>\n",
              "      <td>some college</td>\n",
              "      <td>standard</td>\n",
              "      <td>completed</td>\n",
              "      <td>88</td>\n",
              "      <td>95</td>\n",
              "      <td>92</td>\n",
              "    </tr>\n",
              "    <tr>\n",
              "      <th>7</th>\n",
              "      <td>male</td>\n",
              "      <td>group B</td>\n",
              "      <td>some college</td>\n",
              "      <td>free/reduced</td>\n",
              "      <td>none</td>\n",
              "      <td>40</td>\n",
              "      <td>43</td>\n",
              "      <td>39</td>\n",
              "    </tr>\n",
              "    <tr>\n",
              "      <th>8</th>\n",
              "      <td>male</td>\n",
              "      <td>group D</td>\n",
              "      <td>high school</td>\n",
              "      <td>free/reduced</td>\n",
              "      <td>completed</td>\n",
              "      <td>64</td>\n",
              "      <td>64</td>\n",
              "      <td>67</td>\n",
              "    </tr>\n",
              "    <tr>\n",
              "      <th>9</th>\n",
              "      <td>female</td>\n",
              "      <td>group B</td>\n",
              "      <td>high school</td>\n",
              "      <td>free/reduced</td>\n",
              "      <td>none</td>\n",
              "      <td>38</td>\n",
              "      <td>60</td>\n",
              "      <td>50</td>\n",
              "    </tr>\n",
              "  </tbody>\n",
              "</table>\n",
              "</div>"
            ],
            "text/plain": [
              "   gender race/ethnicity  ... reading score writing score\n",
              "0  female        group B  ...            72            74\n",
              "1  female        group C  ...            90            88\n",
              "2  female        group B  ...            95            93\n",
              "3    male        group A  ...            57            44\n",
              "4    male        group C  ...            78            75\n",
              "5  female        group B  ...            83            78\n",
              "6  female        group B  ...            95            92\n",
              "7    male        group B  ...            43            39\n",
              "8    male        group D  ...            64            67\n",
              "9  female        group B  ...            60            50\n",
              "\n",
              "[10 rows x 8 columns]"
            ]
          },
          "metadata": {
            "tags": []
          },
          "execution_count": 5
        }
      ]
    },
    {
      "cell_type": "code",
      "metadata": {
        "id": "EGpRHURWfEXi",
        "colab": {
          "base_uri": "https://localhost:8080/"
        },
        "outputId": "e0f543aa-935a-477e-8582-7ee892866498"
      },
      "source": [
        "df.shape"
      ],
      "execution_count": 6,
      "outputs": [
        {
          "output_type": "execute_result",
          "data": {
            "text/plain": [
              "(1000, 8)"
            ]
          },
          "metadata": {
            "tags": []
          },
          "execution_count": 6
        }
      ]
    },
    {
      "cell_type": "code",
      "metadata": {
        "id": "ZmLzDQuVfovt",
        "colab": {
          "base_uri": "https://localhost:8080/"
        },
        "outputId": "65dd374f-23d3-4297-ef9c-d9f09148f742"
      },
      "source": [
        "df.columns"
      ],
      "execution_count": 7,
      "outputs": [
        {
          "output_type": "execute_result",
          "data": {
            "text/plain": [
              "Index(['gender', 'race/ethnicity', 'parental level of education', 'lunch',\n",
              "       'test preparation course', 'math score', 'reading score',\n",
              "       'writing score'],\n",
              "      dtype='object')"
            ]
          },
          "metadata": {
            "tags": []
          },
          "execution_count": 7
        }
      ]
    },
    {
      "cell_type": "code",
      "metadata": {
        "colab": {
          "base_uri": "https://localhost:8080/"
        },
        "id": "7JoGjDaX3HYd",
        "outputId": "f1a197ca-d4f2-4cff-e741-f24c87e5353a"
      },
      "source": [
        "df.dtypes"
      ],
      "execution_count": 8,
      "outputs": [
        {
          "output_type": "execute_result",
          "data": {
            "text/plain": [
              "gender                         object\n",
              "race/ethnicity                 object\n",
              "parental level of education    object\n",
              "lunch                          object\n",
              "test preparation course        object\n",
              "math score                      int64\n",
              "reading score                   int64\n",
              "writing score                   int64\n",
              "dtype: object"
            ]
          },
          "metadata": {
            "tags": []
          },
          "execution_count": 8
        }
      ]
    },
    {
      "cell_type": "markdown",
      "metadata": {
        "id": "NoossBnRsX9s"
      },
      "source": [
        "### Creando un histograma"
      ]
    },
    {
      "cell_type": "code",
      "metadata": {
        "id": "lMRvKcqVgusl",
        "colab": {
          "base_uri": "https://localhost:8080/",
          "height": 296
        },
        "outputId": "d1abaf99-b43f-407e-d34e-91f8e3d20135"
      },
      "source": [
        "sns.histplot(data=df, x='writing score')"
      ],
      "execution_count": 9,
      "outputs": [
        {
          "output_type": "execute_result",
          "data": {
            "text/plain": [
              "<matplotlib.axes._subplots.AxesSubplot at 0x7fcf978574d0>"
            ]
          },
          "metadata": {
            "tags": []
          },
          "execution_count": 9
        },
        {
          "output_type": "display_data",
          "data": {
            "image/png": "[encoded data removed]",
            "text/plain": [
              "<Figure size 432x288 with 1 Axes>"
            ]
          },
          "metadata": {
            "tags": [],
            "needs_background": "light"
          }
        }
      ]
    },
    {
      "cell_type": "code",
      "metadata": {
        "colab": {
          "base_uri": "https://localhost:8080/",
          "height": 296
        },
        "id": "LjvLt2ao4PZh",
        "outputId": "cc08f201-f226-4f70-c622-a7c8d1494924"
      },
      "source": [
        "sns.histplot(data=df, x='writing score', hue='test preparation course', multiple='stack')"
      ],
      "execution_count": 10,
      "outputs": [
        {
          "output_type": "execute_result",
          "data": {
            "text/plain": [
              "<matplotlib.axes._subplots.AxesSubplot at 0x7fcf9753b3d0>"
            ]
          },
          "metadata": {
            "tags": []
          },
          "execution_count": 10
        },
        {
          "output_type": "display_data",
          "data": {
            "image/png": "[encoded data removed]",
            "text/plain": [
              "<Figure size 432x288 with 1 Axes>"
            ]
          },
          "metadata": {
            "tags": [],
            "needs_background": "light"
          }
        }
      ]
    },
    {
      "cell_type": "markdown",
      "metadata": {
        "id": "5klhxYeEuXlC"
      },
      "source": [
        "### Visualizando nuestros datos"
      ]
    },
    {
      "cell_type": "code",
      "metadata": {
        "id": "BzPgRE1sDuD1",
        "colab": {
          "base_uri": "https://localhost:8080/",
          "height": 296
        },
        "outputId": "073050a5-7c1d-4a5a-9ec2-b6118a90fca2"
      },
      "source": [
        "sns.scatterplot(data=df, x='reading score', y='writing score')"
      ],
      "execution_count": 11,
      "outputs": [
        {
          "output_type": "execute_result",
          "data": {
            "text/plain": [
              "<matplotlib.axes._subplots.AxesSubplot at 0x7fcf96f1ff90>"
            ]
          },
          "metadata": {
            "tags": []
          },
          "execution_count": 11
        },
        {
          "output_type": "display_data",
          "data": {
            "image/png": "[encoded data removed]",
            "text/plain": [
              "<Figure size 432x288 with 1 Axes>"
            ]
          },
          "metadata": {
            "tags": [],
            "needs_background": "light"
          }
        }
      ]
    },
    {
      "cell_type": "markdown",
      "metadata": {
        "id": "yDXZSbWgHbcY"
      },
      "source": [
        "### Creando una tabla de frecuencias"
      ]
    },
    {
      "cell_type": "code",
      "metadata": {
        "id": "BehvQch5uyPq",
        "colab": {
          "base_uri": "https://localhost:8080/"
        },
        "outputId": "58e20c00-296c-4476-ac52-61fa84384b0e"
      },
      "source": [
        "freq = df['writing score'].value_counts()\n",
        "freq"
      ],
      "execution_count": 13,
      "outputs": [
        {
          "output_type": "execute_result",
          "data": {
            "text/plain": [
              "74    35\n",
              "70    33\n",
              "68    31\n",
              "73    28\n",
              "62    27\n",
              "      ..\n",
              "23     1\n",
              "22     1\n",
              "19     1\n",
              "15     1\n",
              "10     1\n",
              "Name: writing score, Length: 77, dtype: int64"
            ]
          },
          "metadata": {
            "tags": []
          },
          "execution_count": 13
        }
      ]
    },
    {
      "cell_type": "code",
      "metadata": {
        "colab": {
          "base_uri": "https://localhost:8080/",
          "height": 419
        },
        "id": "qUfIX-Fs51XQ",
        "outputId": "ee174e3f-6176-4c85-89fe-f541c37e1577"
      },
      "source": [
        "df_freq = freq.to_frame()\n",
        "df_freq.reset_index(inplace=True) # Ayuda a volver indice o llave a la 1er columna\n",
        "df_freq = df_freq.rename(columns={'index':'writing score', 'writing score': 'number of students'})\n",
        "df_freq"
      ],
      "execution_count": 15,
      "outputs": [
        {
          "output_type": "execute_result",
          "data": {
            "text/html": [
              "<div>\n",
              "<style scoped>\n",
              "    .dataframe tbody tr th:only-of-type {\n",
              "        vertical-align: middle;\n",
              "    }\n",
              "\n",
              "    .dataframe tbody tr th {\n",
              "        vertical-align: top;\n",
              "    }\n",
              "\n",
              "    .dataframe thead th {\n",
              "        text-align: right;\n",
              "    }\n",
              "</style>\n",
              "<table border=\"1\" class=\"dataframe\">\n",
              "  <thead>\n",
              "    <tr style=\"text-align: right;\">\n",
              "      <th></th>\n",
              "      <th>writing score</th>\n",
              "      <th>number of students</th>\n",
              "    </tr>\n",
              "  </thead>\n",
              "  <tbody>\n",
              "    <tr>\n",
              "      <th>0</th>\n",
              "      <td>74</td>\n",
              "      <td>35</td>\n",
              "    </tr>\n",
              "    <tr>\n",
              "      <th>1</th>\n",
              "      <td>70</td>\n",
              "      <td>33</td>\n",
              "    </tr>\n",
              "    <tr>\n",
              "      <th>2</th>\n",
              "      <td>68</td>\n",
              "      <td>31</td>\n",
              "    </tr>\n",
              "    <tr>\n",
              "      <th>3</th>\n",
              "      <td>73</td>\n",
              "      <td>28</td>\n",
              "    </tr>\n",
              "    <tr>\n",
              "      <th>4</th>\n",
              "      <td>62</td>\n",
              "      <td>27</td>\n",
              "    </tr>\n",
              "    <tr>\n",
              "      <th>...</th>\n",
              "      <td>...</td>\n",
              "      <td>...</td>\n",
              "    </tr>\n",
              "    <tr>\n",
              "      <th>72</th>\n",
              "      <td>23</td>\n",
              "      <td>1</td>\n",
              "    </tr>\n",
              "    <tr>\n",
              "      <th>73</th>\n",
              "      <td>22</td>\n",
              "      <td>1</td>\n",
              "    </tr>\n",
              "    <tr>\n",
              "      <th>74</th>\n",
              "      <td>19</td>\n",
              "      <td>1</td>\n",
              "    </tr>\n",
              "    <tr>\n",
              "      <th>75</th>\n",
              "      <td>15</td>\n",
              "      <td>1</td>\n",
              "    </tr>\n",
              "    <tr>\n",
              "      <th>76</th>\n",
              "      <td>10</td>\n",
              "      <td>1</td>\n",
              "    </tr>\n",
              "  </tbody>\n",
              "</table>\n",
              "<p>77 rows × 2 columns</p>\n",
              "</div>"
            ],
            "text/plain": [
              "    writing score  number of students\n",
              "0              74                  35\n",
              "1              70                  33\n",
              "2              68                  31\n",
              "3              73                  28\n",
              "4              62                  27\n",
              "..            ...                 ...\n",
              "72             23                   1\n",
              "73             22                   1\n",
              "74             19                   1\n",
              "75             15                   1\n",
              "76             10                   1\n",
              "\n",
              "[77 rows x 2 columns]"
            ]
          },
          "metadata": {
            "tags": []
          },
          "execution_count": 15
        }
      ]
    },
    {
      "cell_type": "markdown",
      "metadata": {
        "id": "efawsB81oB0F"
      },
      "source": [
        "### Promedio de los puntajes"
      ]
    },
    {
      "cell_type": "code",
      "metadata": {
        "id": "8U0pn1fbq1kF",
        "colab": {
          "base_uri": "https://localhost:8080/"
        },
        "outputId": "b8d43d40-6e74-428d-aa93-b8f2beb5d712"
      },
      "source": [
        "df.mean()"
      ],
      "execution_count": 16,
      "outputs": [
        {
          "output_type": "execute_result",
          "data": {
            "text/plain": [
              "math score       66.089\n",
              "reading score    69.169\n",
              "writing score    68.054\n",
              "dtype: float64"
            ]
          },
          "metadata": {
            "tags": []
          },
          "execution_count": 16
        }
      ]
    },
    {
      "cell_type": "markdown",
      "metadata": {
        "id": "0phUKTPBqurP"
      },
      "source": [
        "### Mediana de los puntajes"
      ]
    },
    {
      "cell_type": "code",
      "metadata": {
        "id": "t2n1yVCqiX3p",
        "colab": {
          "base_uri": "https://localhost:8080/"
        },
        "outputId": "67b931f8-7137-45e7-fbec-a6271082e998"
      },
      "source": [
        "df.median()"
      ],
      "execution_count": 17,
      "outputs": [
        {
          "output_type": "execute_result",
          "data": {
            "text/plain": [
              "math score       66.0\n",
              "reading score    70.0\n",
              "writing score    69.0\n",
              "dtype: float64"
            ]
          },
          "metadata": {
            "tags": []
          },
          "execution_count": 17
        }
      ]
    },
    {
      "cell_type": "code",
      "metadata": {
        "id": "ioBHjsFX9tB-"
      },
      "source": [
        ""
      ],
      "execution_count": null,
      "outputs": []
    },
    {
      "cell_type": "markdown",
      "metadata": {
        "id": "06iacLM0g_u1"
      },
      "source": [
        "## Entrenando nuestro modelo"
      ]
    },
    {
      "cell_type": "markdown",
      "metadata": {
        "id": "TmnZf7HNDfg8"
      },
      "source": [
        "***x*** será el puntaje de lectura\n",
        "y ***y*** sera el puntaje de escritura\n",
        "\n",
        "Suponemos que si obtienen un buen puntaje en el test de lectura deben obtener un mayor puntaje en el test escritura"
      ]
    },
    {
      "cell_type": "code",
      "metadata": {
        "id": "Bahk8SE0Cs-x"
      },
      "source": [
        "X = df['reading score'].values\n",
        "Y = df['writing score'].values\n",
        "\n",
        "X = X.reshape(-1,1) # Cada valor en X es necesario pasarlo como un tensor de 'N' matrices (valores)\n",
        "\n",
        "from sklearn.model_selection import train_test_split\n",
        "\n",
        "# Le decimos que mi datos de prueba van hacer el 20% \n",
        "# y los de entrenamiento el 80% restante de nuestros datos reales.\n",
        "\n",
        "X_train, X_test, Y_train, Y_test = train_test_split(X, Y, test_size = 0.2)"
      ],
      "execution_count": 26,
      "outputs": []
    },
    {
      "cell_type": "code",
      "metadata": {
        "colab": {
          "base_uri": "https://localhost:8080/"
        },
        "id": "oE3xYcylAg42",
        "outputId": "c3f1257a-2b9a-48db-d798-8c57f79510e3"
      },
      "source": [
        "# Regresión Lineal\n",
        "\n",
        "from sklearn.linear_model import  LinearRegression\n",
        "\n",
        "reg = LinearRegression()\n",
        "reg.fit(X_train, Y_train) #Entrenate\n",
        "\n",
        "print(\"La pendiente es: \", reg.coef_)\n",
        "print(\"El bias es: \", reg.intercept_)\n",
        "print(reg.score(X_train, Y_train)) #Coeficiente de determinación"
      ],
      "execution_count": 42,
      "outputs": [
        {
          "output_type": "stream",
          "text": [
            "La pendiente es:  [0.9958233]\n",
            "El bias es:  -0.7181623396979688\n",
            "0.9135143541504174\n"
          ],
          "name": "stdout"
        }
      ]
    },
    {
      "cell_type": "markdown",
      "metadata": {
        "id": "46MDocQ1-Wd7"
      },
      "source": [
        "**Nota.- Cuando nosotros metemos nuestros datos a nuestros modelos siempre tenemos que dividirlo en 2 partes una sección que va hacer de entrenamiento y otra sección que va hacer de test o evaluación. Esto se hace en la mayoría de modelos de machine learning para ver que nuestros datos no esten sesgados.**"
      ]
    },
    {
      "cell_type": "markdown",
      "metadata": {
        "id": "fr5HpXvNDx1o"
      },
      "source": [
        "\n",
        "\n",
        "```\n",
        "- Bias .- es la diferencia entre la prediccion esperada de nuestro modelo y los valores verdaderos.\n",
        "\n",
        "\n",
        "- El coeficiente de determinación mide que porcentaje de la varianza de la variable dependiente es explicado por la varianza de \n",
        "la(s) variable(s) independiente(s) en un modelo de regresión. \n",
        "\n",
        "Por ejemplo en este caso vemos que el coeficiente es 0.91 o 91%, esto significa que 91% de la varianza del writing score puede ser \n",
        "explicada por la varianza del reading score bajo el modelo de regresión aplicado. \n",
        "\n",
        "Más información: https://www.investopedia.com/terms/r/r-squared.asp\n",
        "```\n",
        "\n"
      ]
    },
    {
      "cell_type": "markdown",
      "metadata": {
        "id": "x5PcF1aGH7NZ"
      },
      "source": [
        "## Visualización de nuestro modelo entrenado"
      ]
    },
    {
      "cell_type": "code",
      "metadata": {
        "id": "CgjxJbyIMBkA",
        "colab": {
          "base_uri": "https://localhost:8080/",
          "height": 282
        },
        "outputId": "4b9b38db-f488-4bc9-92a2-84fc15940a2d"
      },
      "source": [
        "x_flat = X_train.flatten() # regresar los valores a lista\n",
        "\n",
        "\n",
        "y_hat = reg.predict(X_train) # Predicción\n",
        "\n",
        "fig, ax = plt.subplots()\n",
        "sns.scatterplot(x=x_flat,y=Y_train)\n",
        "plt.plot(X_train, y_hat, color='red')"
      ],
      "execution_count": 44,
      "outputs": [
        {
          "output_type": "execute_result",
          "data": {
            "text/plain": [
              "[<matplotlib.lines.Line2D at 0x7fcf8f03b050>]"
            ]
          },
          "metadata": {
            "tags": []
          },
          "execution_count": 44
        },
        {
          "output_type": "display_data",
          "data": {
            "image/png": "[encoded data removed]",
            "text/plain": [
              "<Figure size 432x288 with 1 Axes>"
            ]
          },
          "metadata": {
            "tags": [],
            "needs_background": "light"
          }
        }
      ]
    },
    {
      "cell_type": "markdown",
      "metadata": {
        "id": "lJfipdX3qq91"
      },
      "source": [
        "## Evaluación de nuestro modelo"
      ]
    },
    {
      "cell_type": "code",
      "metadata": {
        "id": "X2m6SWvTqxBg",
        "colab": {
          "base_uri": "https://localhost:8080/"
        },
        "outputId": "735141b2-a7c2-42e8-bcee-666fcaf5b3f9"
      },
      "source": [
        "from sklearn.metrics import  mean_squared_error\n",
        "\n",
        "Y_pred = reg.predict(X_test)\n",
        "\n",
        "#Calcular el mean squared error\n",
        "\n",
        "print(mean_squared_error(Y_test, Y_pred))"
      ],
      "execution_count": 45,
      "outputs": [
        {
          "output_type": "stream",
          "text": [
            "20.80848803268196\n"
          ],
          "name": "stdout"
        }
      ]
    },
    {
      "cell_type": "code",
      "metadata": {
        "id": "sJLOALXt5bTz",
        "colab": {
          "base_uri": "https://localhost:8080/",
          "height": 419
        },
        "outputId": "f8ecc6e8-9f9b-4350-cb56-b0211bd137a7"
      },
      "source": [
        "values = pd.DataFrame({'Actual Test': Y_test.flatten(), 'Predict': Y_pred.flatten()})\n",
        "values"
      ],
      "execution_count": 48,
      "outputs": [
        {
          "output_type": "execute_result",
          "data": {
            "text/html": [
              "<div>\n",
              "<style scoped>\n",
              "    .dataframe tbody tr th:only-of-type {\n",
              "        vertical-align: middle;\n",
              "    }\n",
              "\n",
              "    .dataframe tbody tr th {\n",
              "        vertical-align: top;\n",
              "    }\n",
              "\n",
              "    .dataframe thead th {\n",
              "        text-align: right;\n",
              "    }\n",
              "</style>\n",
              "<table border=\"1\" class=\"dataframe\">\n",
              "  <thead>\n",
              "    <tr style=\"text-align: right;\">\n",
              "      <th></th>\n",
              "      <th>Actual Test</th>\n",
              "      <th>Predict</th>\n",
              "    </tr>\n",
              "  </thead>\n",
              "  <tbody>\n",
              "    <tr>\n",
              "      <th>0</th>\n",
              "      <td>79</td>\n",
              "      <td>76.956055</td>\n",
              "    </tr>\n",
              "    <tr>\n",
              "      <th>1</th>\n",
              "      <td>65</td>\n",
              "      <td>74.964409</td>\n",
              "    </tr>\n",
              "    <tr>\n",
              "      <th>2</th>\n",
              "      <td>67</td>\n",
              "      <td>68.989469</td>\n",
              "    </tr>\n",
              "    <tr>\n",
              "      <th>3</th>\n",
              "      <td>70</td>\n",
              "      <td>75.960232</td>\n",
              "    </tr>\n",
              "    <tr>\n",
              "      <th>4</th>\n",
              "      <td>90</td>\n",
              "      <td>91.893405</td>\n",
              "    </tr>\n",
              "    <tr>\n",
              "      <th>...</th>\n",
              "      <td>...</td>\n",
              "      <td>...</td>\n",
              "    </tr>\n",
              "    <tr>\n",
              "      <th>195</th>\n",
              "      <td>64</td>\n",
              "      <td>66.001999</td>\n",
              "    </tr>\n",
              "    <tr>\n",
              "      <th>196</th>\n",
              "      <td>72</td>\n",
              "      <td>63.014529</td>\n",
              "    </tr>\n",
              "    <tr>\n",
              "      <th>197</th>\n",
              "      <td>82</td>\n",
              "      <td>82.930995</td>\n",
              "    </tr>\n",
              "    <tr>\n",
              "      <th>198</th>\n",
              "      <td>74</td>\n",
              "      <td>68.989469</td>\n",
              "    </tr>\n",
              "    <tr>\n",
              "      <th>199</th>\n",
              "      <td>68</td>\n",
              "      <td>71.976939</td>\n",
              "    </tr>\n",
              "  </tbody>\n",
              "</table>\n",
              "<p>200 rows × 2 columns</p>\n",
              "</div>"
            ],
            "text/plain": [
              "     Actual Test    Predict\n",
              "0             79  76.956055\n",
              "1             65  74.964409\n",
              "2             67  68.989469\n",
              "3             70  75.960232\n",
              "4             90  91.893405\n",
              "..           ...        ...\n",
              "195           64  66.001999\n",
              "196           72  63.014529\n",
              "197           82  82.930995\n",
              "198           74  68.989469\n",
              "199           68  71.976939\n",
              "\n",
              "[200 rows x 2 columns]"
            ]
          },
          "metadata": {
            "tags": []
          },
          "execution_count": 48
        }
      ]
    }
  ]
}