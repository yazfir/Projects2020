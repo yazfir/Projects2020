{
  "nbformat": 4,
  "nbformat_minor": 0,
  "metadata": {
    "colab": {
      "name": "Original_Dataset_LR.ipynb",
      "provenance": [],
      "collapsed_sections": [],
      "include_colab_link": true
    },
    "kernelspec": {
      "display_name": "Python 3",
      "name": "python3"
    },
    "language_info": {
      "name": "python"
    }
  },
  "cells": [
    {
      "cell_type": "markdown",
      "metadata": {
        "id": "view-in-github",
        "colab_type": "text"
      },
      "source": [
        "<a href=\"https://colab.research.google.com/github/yazfir/Projects2021/blob/master/ProysDatacademy/Original_Dataset_LR.ipynb\" target=\"_parent\"><img src=\"https://colab.research.google.com/assets/colab-badge.svg\" alt=\"Open In Colab\"/></a>"
      ]
    },
    {
      "cell_type": "markdown",
      "metadata": {
        "id": "n03I5tGI89L9"
      },
      "source": [
        "# Regresión logística usando Scikit Learn"
      ]
    },
    {
      "cell_type": "markdown",
      "metadata": {
        "id": "GW6pA4pH_zqV"
      },
      "source": [
        "## Importar nuestras librerías"
      ]
    },
    {
      "cell_type": "code",
      "metadata": {
        "id": "vjNNP2zy85ZN"
      },
      "source": [
        "import numpy as np\n",
        "import matplotlib.pyplot as plt\n",
        "import seaborn as sns"
      ],
      "execution_count": 1,
      "outputs": []
    },
    {
      "cell_type": "markdown",
      "metadata": {
        "id": "ZRYS7weYAfB2"
      },
      "source": [
        "## Cargar y explorar nuestro set de datos"
      ]
    },
    {
      "cell_type": "code",
      "metadata": {
        "id": "JchYFpjW9XgR"
      },
      "source": [
        "from sklearn.datasets import fetch_openml\n",
        "\n",
        "data, target = fetch_openml('mnist_784', version=1, return_X_y=True, as_frame=False)"
      ],
      "execution_count": 2,
      "outputs": []
    },
    {
      "cell_type": "code",
      "metadata": {
        "colab": {
          "base_uri": "https://localhost:8080/"
        },
        "id": "oqUB8WbJeBCb",
        "outputId": "5b90ad54-40b2-4f8f-f918-50a6de679451"
      },
      "source": [
        "data.shape"
      ],
      "execution_count": 3,
      "outputs": [
        {
          "output_type": "execute_result",
          "data": {
            "text/plain": [
              "(70000, 784)"
            ]
          },
          "metadata": {
            "tags": []
          },
          "execution_count": 3
        }
      ]
    },
    {
      "cell_type": "code",
      "metadata": {
        "colab": {
          "base_uri": "https://localhost:8080/"
        },
        "id": "9hSUIUkQfFr5",
        "outputId": "42dc3f18-f8b4-4637-af29-f7dc40bbce2d"
      },
      "source": [
        "target.shape"
      ],
      "execution_count": 4,
      "outputs": [
        {
          "output_type": "execute_result",
          "data": {
            "text/plain": [
              "(70000,)"
            ]
          },
          "metadata": {
            "tags": []
          },
          "execution_count": 4
        }
      ]
    },
    {
      "cell_type": "code",
      "metadata": {
        "colab": {
          "base_uri": "https://localhost:8080/"
        },
        "id": "HKp3ZJxDmnbh",
        "outputId": "8cf45362-95e4-4a8f-b646-73752f4f823e"
      },
      "source": [
        "digit_sample = data[0]\n",
        "digit_sample"
      ],
      "execution_count": 5,
      "outputs": [
        {
          "output_type": "execute_result",
          "data": {
            "text/plain": [
              "array([  0.,   0.,   0.,   0.,   0.,   0.,   0.,   0.,   0.,   0.,   0.,\n",
              "         0.,   0.,   0.,   0.,   0.,   0.,   0.,   0.,   0.,   0.,   0.,\n",
              "         0.,   0.,   0.,   0.,   0.,   0.,   0.,   0.,   0.,   0.,   0.,\n",
              "         0.,   0.,   0.,   0.,   0.,   0.,   0.,   0.,   0.,   0.,   0.,\n",
              "         0.,   0.,   0.,   0.,   0.,   0.,   0.,   0.,   0.,   0.,   0.,\n",
              "         0.,   0.,   0.,   0.,   0.,   0.,   0.,   0.,   0.,   0.,   0.,\n",
              "         0.,   0.,   0.,   0.,   0.,   0.,   0.,   0.,   0.,   0.,   0.,\n",
              "         0.,   0.,   0.,   0.,   0.,   0.,   0.,   0.,   0.,   0.,   0.,\n",
              "         0.,   0.,   0.,   0.,   0.,   0.,   0.,   0.,   0.,   0.,   0.,\n",
              "         0.,   0.,   0.,   0.,   0.,   0.,   0.,   0.,   0.,   0.,   0.,\n",
              "         0.,   0.,   0.,   0.,   0.,   0.,   0.,   0.,   0.,   0.,   0.,\n",
              "         0.,   0.,   0.,   0.,   0.,   0.,   0.,   0.,   0.,   0.,   0.,\n",
              "         0.,   0.,   0.,   0.,   0.,   0.,   0.,   0.,   0.,   0.,   0.,\n",
              "         0.,   0.,   0.,   0.,   0.,   0.,   0.,   0.,   0.,   3.,  18.,\n",
              "        18.,  18., 126., 136., 175.,  26., 166., 255., 247., 127.,   0.,\n",
              "         0.,   0.,   0.,   0.,   0.,   0.,   0.,   0.,   0.,   0.,   0.,\n",
              "        30.,  36.,  94., 154., 170., 253., 253., 253., 253., 253., 225.,\n",
              "       172., 253., 242., 195.,  64.,   0.,   0.,   0.,   0.,   0.,   0.,\n",
              "         0.,   0.,   0.,   0.,   0.,  49., 238., 253., 253., 253., 253.,\n",
              "       253., 253., 253., 253., 251.,  93.,  82.,  82.,  56.,  39.,   0.,\n",
              "         0.,   0.,   0.,   0.,   0.,   0.,   0.,   0.,   0.,   0.,   0.,\n",
              "        18., 219., 253., 253., 253., 253., 253., 198., 182., 247., 241.,\n",
              "         0.,   0.,   0.,   0.,   0.,   0.,   0.,   0.,   0.,   0.,   0.,\n",
              "         0.,   0.,   0.,   0.,   0.,   0.,   0.,  80., 156., 107., 253.,\n",
              "       253., 205.,  11.,   0.,  43., 154.,   0.,   0.,   0.,   0.,   0.,\n",
              "         0.,   0.,   0.,   0.,   0.,   0.,   0.,   0.,   0.,   0.,   0.,\n",
              "         0.,   0.,   0.,  14.,   1., 154., 253.,  90.,   0.,   0.,   0.,\n",
              "         0.,   0.,   0.,   0.,   0.,   0.,   0.,   0.,   0.,   0.,   0.,\n",
              "         0.,   0.,   0.,   0.,   0.,   0.,   0.,   0.,   0.,   0.,   0.,\n",
              "       139., 253., 190.,   2.,   0.,   0.,   0.,   0.,   0.,   0.,   0.,\n",
              "         0.,   0.,   0.,   0.,   0.,   0.,   0.,   0.,   0.,   0.,   0.,\n",
              "         0.,   0.,   0.,   0.,   0.,   0.,  11., 190., 253.,  70.,   0.,\n",
              "         0.,   0.,   0.,   0.,   0.,   0.,   0.,   0.,   0.,   0.,   0.,\n",
              "         0.,   0.,   0.,   0.,   0.,   0.,   0.,   0.,   0.,   0.,   0.,\n",
              "         0.,   0.,  35., 241., 225., 160., 108.,   1.,   0.,   0.,   0.,\n",
              "         0.,   0.,   0.,   0.,   0.,   0.,   0.,   0.,   0.,   0.,   0.,\n",
              "         0.,   0.,   0.,   0.,   0.,   0.,   0.,   0.,   0.,  81., 240.,\n",
              "       253., 253., 119.,  25.,   0.,   0.,   0.,   0.,   0.,   0.,   0.,\n",
              "         0.,   0.,   0.,   0.,   0.,   0.,   0.,   0.,   0.,   0.,   0.,\n",
              "         0.,   0.,   0.,   0.,   0.,  45., 186., 253., 253., 150.,  27.,\n",
              "         0.,   0.,   0.,   0.,   0.,   0.,   0.,   0.,   0.,   0.,   0.,\n",
              "         0.,   0.,   0.,   0.,   0.,   0.,   0.,   0.,   0.,   0.,   0.,\n",
              "         0.,  16.,  93., 252., 253., 187.,   0.,   0.,   0.,   0.,   0.,\n",
              "         0.,   0.,   0.,   0.,   0.,   0.,   0.,   0.,   0.,   0.,   0.,\n",
              "         0.,   0.,   0.,   0.,   0.,   0.,   0.,   0.,   0., 249., 253.,\n",
              "       249.,  64.,   0.,   0.,   0.,   0.,   0.,   0.,   0.,   0.,   0.,\n",
              "         0.,   0.,   0.,   0.,   0.,   0.,   0.,   0.,   0.,   0.,   0.,\n",
              "         0.,  46., 130., 183., 253., 253., 207.,   2.,   0.,   0.,   0.,\n",
              "         0.,   0.,   0.,   0.,   0.,   0.,   0.,   0.,   0.,   0.,   0.,\n",
              "         0.,   0.,   0.,   0.,   0.,  39., 148., 229., 253., 253., 253.,\n",
              "       250., 182.,   0.,   0.,   0.,   0.,   0.,   0.,   0.,   0.,   0.,\n",
              "         0.,   0.,   0.,   0.,   0.,   0.,   0.,   0.,   0.,  24., 114.,\n",
              "       221., 253., 253., 253., 253., 201.,  78.,   0.,   0.,   0.,   0.,\n",
              "         0.,   0.,   0.,   0.,   0.,   0.,   0.,   0.,   0.,   0.,   0.,\n",
              "         0.,   0.,  23.,  66., 213., 253., 253., 253., 253., 198.,  81.,\n",
              "         2.,   0.,   0.,   0.,   0.,   0.,   0.,   0.,   0.,   0.,   0.,\n",
              "         0.,   0.,   0.,   0.,   0.,   0.,  18., 171., 219., 253., 253.,\n",
              "       253., 253., 195.,  80.,   9.,   0.,   0.,   0.,   0.,   0.,   0.,\n",
              "         0.,   0.,   0.,   0.,   0.,   0.,   0.,   0.,   0.,   0.,  55.,\n",
              "       172., 226., 253., 253., 253., 253., 244., 133.,  11.,   0.,   0.,\n",
              "         0.,   0.,   0.,   0.,   0.,   0.,   0.,   0.,   0.,   0.,   0.,\n",
              "         0.,   0.,   0.,   0.,   0., 136., 253., 253., 253., 212., 135.,\n",
              "       132.,  16.,   0.,   0.,   0.,   0.,   0.,   0.,   0.,   0.,   0.,\n",
              "         0.,   0.,   0.,   0.,   0.,   0.,   0.,   0.,   0.,   0.,   0.,\n",
              "         0.,   0.,   0.,   0.,   0.,   0.,   0.,   0.,   0.,   0.,   0.,\n",
              "         0.,   0.,   0.,   0.,   0.,   0.,   0.,   0.,   0.,   0.,   0.,\n",
              "         0.,   0.,   0.,   0.,   0.,   0.,   0.,   0.,   0.,   0.,   0.,\n",
              "         0.,   0.,   0.,   0.,   0.,   0.,   0.,   0.,   0.,   0.,   0.,\n",
              "         0.,   0.,   0.,   0.,   0.,   0.,   0.,   0.,   0.,   0.,   0.,\n",
              "         0.,   0.,   0.,   0.,   0.,   0.,   0.,   0.,   0.,   0.,   0.,\n",
              "         0.,   0.,   0.,   0.,   0.,   0.,   0.,   0.,   0.,   0.,   0.,\n",
              "         0.,   0.,   0.])"
            ]
          },
          "metadata": {
            "tags": []
          },
          "execution_count": 5
        }
      ]
    },
    {
      "cell_type": "markdown",
      "metadata": {
        "id": "vXN-z8UtApY4"
      },
      "source": [
        "Al ser un problema de aprendizaje supervisado contamos con datos ya etiquetados a los que queremos llegar como resultado."
      ]
    },
    {
      "cell_type": "code",
      "metadata": {
        "colab": {
          "base_uri": "https://localhost:8080/",
          "height": 35
        },
        "id": "gGpA2Am8-eT3",
        "outputId": "20cb3d17-ede5-451c-cc87-7e74c2ac2869"
      },
      "source": [
        "# 70000 labels para cada imagen\n",
        "sample_label = target[0]\n",
        "sample_label"
      ],
      "execution_count": 6,
      "outputs": [
        {
          "output_type": "execute_result",
          "data": {
            "application/vnd.google.colaboratory.intrinsic+json": {
              "type": "string"
            },
            "text/plain": [
              "'5'"
            ]
          },
          "metadata": {
            "tags": []
          },
          "execution_count": 6
        }
      ]
    },
    {
      "cell_type": "markdown",
      "metadata": {
        "id": "YSOXTPI6BCkT"
      },
      "source": [
        "## Graficando nuestra imagen"
      ]
    },
    {
      "cell_type": "code",
      "metadata": {
        "colab": {
          "base_uri": "https://localhost:8080/",
          "height": 282
        },
        "id": "-NacLrZP-5v4",
        "outputId": "28740adf-2df4-4540-bb61-9351c6eb84a5"
      },
      "source": [
        "plt.imshow(digit_sample.reshape(28,28))"
      ],
      "execution_count": 7,
      "outputs": [
        {
          "output_type": "execute_result",
          "data": {
            "text/plain": [
              "<matplotlib.image.AxesImage at 0x7f9b567eb450>"
            ]
          },
          "metadata": {
            "tags": []
          },
          "execution_count": 7
        },
        {
          "output_type": "display_data",
          "data": {
            "image/png": "[encoded data removed]",
            "text/plain": [
              "<Figure size 432x288 with 1 Axes>"
            ]
          },
          "metadata": {
            "tags": [],
            "needs_background": "light"
          }
        }
      ]
    },
    {
      "cell_type": "markdown",
      "metadata": {
        "id": "Phj-3TdsCzXK"
      },
      "source": [
        "## Graficando varias imagenes"
      ]
    },
    {
      "cell_type": "code",
      "metadata": {
        "colab": {
          "base_uri": "https://localhost:8080/"
        },
        "id": "V6Vw1ytE_jcN",
        "outputId": "0d3a87a9-2076-4c4b-e909-c63e59a9ab37"
      },
      "source": [
        "numbers_sample = list(zip(data[30:35], target[30:35]))\n",
        "np.array(numbers_sample).shape"
      ],
      "execution_count": 8,
      "outputs": [
        {
          "output_type": "stream",
          "text": [
            "/usr/local/lib/python3.7/dist-packages/ipykernel_launcher.py:2: VisibleDeprecationWarning: Creating an ndarray from ragged nested sequences (which is a list-or-tuple of lists-or-tuples-or ndarrays with different lengths or shapes) is deprecated. If you meant to do this, you must specify 'dtype=object' when creating the ndarray\n",
            "  \n"
          ],
          "name": "stderr"
        },
        {
          "output_type": "execute_result",
          "data": {
            "text/plain": [
              "(5, 2)"
            ]
          },
          "metadata": {
            "tags": []
          },
          "execution_count": 8
        }
      ]
    },
    {
      "cell_type": "code",
      "metadata": {
        "colab": {
          "base_uri": "https://localhost:8080/",
          "height": 353
        },
        "id": "Jo2ArpNFDYaU",
        "outputId": "71614e11-3100-40cb-bbc5-89caa1c1091f"
      },
      "source": [
        "plt.figure(figsize=(30,30))\n",
        "for index, (image,label) in enumerate(numbers_sample):\n",
        "  reshaped_image = np.reshape(image, (28,28))\n",
        "  plt.subplot(1, len(numbers_sample), index + 1)\n",
        "  plt.imshow(reshaped_image)\n",
        "  plt.title(f\"Label: {label}\")"
      ],
      "execution_count": 9,
      "outputs": [
        {
          "output_type": "display_data",
          "data": {
            "image/png": "[encoded data removed]",
            "text/plain": [
              "<Figure size 2160x2160 with 5 Axes>"
            ]
          },
          "metadata": {
            "tags": [],
            "needs_background": "light"
          }
        }
      ]
    },
    {
      "cell_type": "markdown",
      "metadata": {
        "id": "loTJw67BGw4b"
      },
      "source": [
        "## Fase de entranamiento\n",
        "\n"
      ]
    },
    {
      "cell_type": "markdown",
      "metadata": {
        "id": "lZmSiSYaM8YB"
      },
      "source": [
        "### 1. Dividiendo nuestro set de datos en entrenamiento y pruebas"
      ]
    },
    {
      "cell_type": "code",
      "metadata": {
        "colab": {
          "base_uri": "https://localhost:8080/"
        },
        "id": "AvbfYQprG0jF",
        "outputId": "fef9e749-75cf-48d8-ec5c-90fef6500628"
      },
      "source": [
        "from sklearn.model_selection import train_test_split\n",
        "\n",
        "train_samples = 20000\n",
        "\n",
        "x_train, x_test, y_train, y_test = train_test_split(data, target,train_size=train_samples, test_size=10000, random_state=42)\n",
        "print(\"Tamaño de nuestros datos de entrenamiento: \", len(x_train))\n",
        "print(\"Tamaño de nuestros datos de prueba: \", len(x_test))"
      ],
      "execution_count": 10,
      "outputs": [
        {
          "output_type": "stream",
          "text": [
            "Tamaño de nuestros datos de entrenamiento:  20000\n",
            "Tamaño de nuestros datos de prueba:  10000\n"
          ],
          "name": "stdout"
        }
      ]
    },
    {
      "cell_type": "markdown",
      "metadata": {
        "id": "7wlIbGnBNEy5"
      },
      "source": [
        "### 2. Importando nuestro modelo"
      ]
    },
    {
      "cell_type": "code",
      "metadata": {
        "id": "kyWa7IhUHX-I"
      },
      "source": [
        "from sklearn.linear_model import LogisticRegression"
      ],
      "execution_count": 11,
      "outputs": []
    },
    {
      "cell_type": "markdown",
      "metadata": {
        "id": "w-o0oe2HNNU8"
      },
      "source": [
        "### 3. Creando la instancia de nuestro modelo\n",
        "\n",
        "Creamos nuestro pipeline"
      ]
    },
    {
      "cell_type": "code",
      "metadata": {
        "id": "ywgXPxQcHcNC"
      },
      "source": [
        "from sklearn.pipeline import make_pipeline\n",
        "from sklearn.preprocessing import StandardScaler\n",
        "\n",
        "# El solver es un optimizador, esto para encontrar el valor mínimo. Funciona en data sets largos y con datos escalados\n",
        "# La tolerancia es que tan lejos en distancia el solver parará la busqueda del mínimo.\n",
        "\n",
        "clf = LogisticRegression(solver='saga', tol=0.01)\n",
        "\n",
        "pipe = make_pipeline(StandardScaler(), clf)"
      ],
      "execution_count": 12,
      "outputs": []
    },
    {
      "cell_type": "markdown",
      "metadata": {
        "id": "1zfeVIYVNT0D"
      },
      "source": [
        "### 4. Entrenando nuestro modelo \n",
        "\n"
      ]
    },
    {
      "cell_type": "markdown",
      "metadata": {
        "id": "G2NAIDxNNfF7"
      },
      "source": [
        "Estandariza nuestros datos y después entrena el modelo"
      ]
    },
    {
      "cell_type": "code",
      "metadata": {
        "colab": {
          "base_uri": "https://localhost:8080/"
        },
        "id": "SQOAEA8SiTTq",
        "outputId": "7ea3f47b-7efb-4735-938d-68e926c2d121"
      },
      "source": [
        "pipe.fit(x_train,y_train)"
      ],
      "execution_count": 13,
      "outputs": [
        {
          "output_type": "execute_result",
          "data": {
            "text/plain": [
              "Pipeline(memory=None,\n",
              "         steps=[('standardscaler',\n",
              "                 StandardScaler(copy=True, with_mean=True, with_std=True)),\n",
              "                ('logisticregression',\n",
              "                 LogisticRegression(C=1.0, class_weight=None, dual=False,\n",
              "                                    fit_intercept=True, intercept_scaling=1,\n",
              "                                    l1_ratio=None, max_iter=100,\n",
              "                                    multi_class='auto', n_jobs=None,\n",
              "                                    penalty='l2', random_state=None,\n",
              "                                    solver='saga', tol=0.01, verbose=0,\n",
              "                                    warm_start=False))],\n",
              "         verbose=False)"
            ]
          },
          "metadata": {
            "tags": []
          },
          "execution_count": 13
        }
      ]
    },
    {
      "cell_type": "markdown",
      "metadata": {
        "id": "ht67Wc80Nlfm"
      },
      "source": [
        "## Evaluando nuestro modelo\n",
        "\n",
        "La regresión logística con Scikit-Learn usa por defecto la presición como métrica de evaluación del modelo. La presición se define como: \n",
        "\n",
        "$${\\text{Precisión}=\\frac{\\text{Número de predicciones correctas}}{\\text{Número total de predicciones}}}$$"
      ]
    },
    {
      "cell_type": "code",
      "metadata": {
        "id": "ip0bbyy7Lhbj",
        "colab": {
          "base_uri": "https://localhost:8080/"
        },
        "outputId": "2389d0dd-6624-43c6-a7a5-53e0cd159abe"
      },
      "source": [
        "score = pipe.score(x_test, y_test)\n",
        "score"
      ],
      "execution_count": 14,
      "outputs": [
        {
          "output_type": "execute_result",
          "data": {
            "text/plain": [
              "0.9067"
            ]
          },
          "metadata": {
            "tags": []
          },
          "execution_count": 14
        }
      ]
    },
    {
      "cell_type": "markdown",
      "metadata": {
        "id": "Civqza-9Nqrr"
      },
      "source": [
        "## Haciendo una predicción con nuestro modelo"
      ]
    },
    {
      "cell_type": "code",
      "metadata": {
        "id": "dEHcZ8N9LnaO",
        "colab": {
          "base_uri": "https://localhost:8080/"
        },
        "outputId": "171ab56a-b4f7-486a-92fc-00c180fb3aa9"
      },
      "source": [
        "guinea_pig = x_test[0]\n",
        "pipe.predict(guinea_pig.reshape(1,-1))"
      ],
      "execution_count": 15,
      "outputs": [
        {
          "output_type": "execute_result",
          "data": {
            "text/plain": [
              "array(['8'], dtype=object)"
            ]
          },
          "metadata": {
            "tags": []
          },
          "execution_count": 15
        }
      ]
    },
    {
      "cell_type": "code",
      "metadata": {
        "id": "-m6h6Ri2MACQ",
        "colab": {
          "base_uri": "https://localhost:8080/",
          "height": 282
        },
        "outputId": "9eb04ff3-3718-4bcd-838a-76bd3fefa2bb"
      },
      "source": [
        "plt.imshow(guinea_pig.reshape(28,28))"
      ],
      "execution_count": 16,
      "outputs": [
        {
          "output_type": "execute_result",
          "data": {
            "text/plain": [
              "<matplotlib.image.AxesImage at 0x7f9b550a6750>"
            ]
          },
          "metadata": {
            "tags": []
          },
          "execution_count": 16
        },
        {
          "output_type": "display_data",
          "data": {
            "image/png": "[encoded data removed]",
            "text/plain": [
              "<Figure size 432x288 with 1 Axes>"
            ]
          },
          "metadata": {
            "tags": [],
            "needs_background": "light"
          }
        }
      ]
    },
    {
      "cell_type": "code",
      "metadata": {
        "id": "3H3dgO2ER-DE",
        "colab": {
          "base_uri": "https://localhost:8080/"
        },
        "outputId": "6308f822-4a70-4987-e260-426fabe3724f"
      },
      "source": [
        "predictions = pipe.predict(x_test)\n",
        "predictions"
      ],
      "execution_count": 17,
      "outputs": [
        {
          "output_type": "execute_result",
          "data": {
            "text/plain": [
              "array(['8', '4', '5', ..., '3', '3', '3'], dtype=object)"
            ]
          },
          "metadata": {
            "tags": []
          },
          "execution_count": 17
        }
      ]
    },
    {
      "cell_type": "markdown",
      "metadata": {
        "id": "wAZCJvHrPfJr"
      },
      "source": [
        "## Creando y graficando una matriz de confusión \n",
        "\n",
        "Una matriz de confusión es una forma de visualizar el desempéño de nuestro algoritmo comparando el valor actual de la etiqueta vs el de la predicción realizada por el modelo."
      ]
    },
    {
      "cell_type": "code",
      "metadata": {
        "id": "0rb0ZMnnPjXF",
        "colab": {
          "base_uri": "https://localhost:8080/"
        },
        "outputId": "b5b72fad-e27f-4481-cc90-5cc657b4413d"
      },
      "source": [
        "from sklearn import metrics\n",
        "cm = metrics.confusion_matrix(y_test, predictions)\n",
        "cm"
      ],
      "execution_count": 18,
      "outputs": [
        {
          "output_type": "execute_result",
          "data": {
            "text/plain": [
              "array([[ 943,    1,    6,    2,    0,   10,   10,    3,    7,    1],\n",
              "       [   0, 1117,    3,    7,    0,    5,    1,    6,   12,    1],\n",
              "       [  11,   19,  861,   13,   12,    1,   15,   14,   20,    1],\n",
              "       [   3,   13,   28,  904,    3,   34,    5,   16,   16,   12],\n",
              "       [   2,    5,    5,    2,  838,    3,    8,    4,    5,   34],\n",
              "       [   9,   13,    6,   42,   14,  798,   10,    6,   31,    8],\n",
              "       [   6,    9,    9,    0,   10,   17,  905,    1,    4,    0],\n",
              "       [   3,   16,   11,    1,   13,    1,    0,  988,    0,   22],\n",
              "       [  11,   40,   17,   36,    9,   26,   10,    9,  793,   18],\n",
              "       [   7,    7,    5,   15,   37,    3,    0,   35,    7,  920]])"
            ]
          },
          "metadata": {
            "tags": []
          },
          "execution_count": 18
        }
      ]
    },
    {
      "cell_type": "code",
      "metadata": {
        "id": "rX79xpfISLv6",
        "colab": {
          "base_uri": "https://localhost:8080/",
          "height": 543
        },
        "outputId": "311b7b12-05a2-427d-8647-610f38379229"
      },
      "source": [
        "plt.figure(figsize=(9,9))\n",
        "sns.heatmap(cm, annot=True, linewidths=.5, square=True, cmap=\"Blues_r\")\n",
        "plt.title(f\"Puntaje de precisión: {score}\", fontsize=15)\n",
        "plt.xlabel(\"Valor de predicción\")\n",
        "plt.ylabel(\"Valor actual\")"
      ],
      "execution_count": 19,
      "outputs": [
        {
          "output_type": "execute_result",
          "data": {
            "text/plain": [
              "Text(60.0, 0.5, 'Valor actual')"
            ]
          },
          "metadata": {
            "tags": []
          },
          "execution_count": 19
        },
        {
          "output_type": "display_data",
          "data": {
            "image/png": "[encoded data removed]",
            "text/plain": [
              "<Figure size 648x648 with 2 Axes>"
            ]
          },
          "metadata": {
            "tags": [],
            "needs_background": "light"
          }
        }
      ]
    },
    {
      "cell_type": "markdown",
      "metadata": {
        "id": "Y3Bu2t8dFoYT"
      },
      "source": [
        "## Lecturas Recomendadas\n",
        "\n",
        "https://scikit-learn.org/stable/modules/generated/sklearn.linear_model.LogisticRegression.html"
      ]
    }
  ]
}