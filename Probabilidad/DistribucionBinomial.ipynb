{
  "nbformat": 4,
  "nbformat_minor": 0,
  "metadata": {
    "colab": {
      "name": "DistribucionBinomial.ipynb",
      "provenance": [],
      "toc_visible": true,
      "authorship_tag": "ABX9TyMX3rVAfMbIULzVTP3+yhDF",
      "include_colab_link": true
    },
    "kernelspec": {
      "name": "python3",
      "display_name": "Python 3"
    },
    "language_info": {
      "name": "python"
    }
  },
  "cells": [
    {
      "cell_type": "markdown",
      "metadata": {
        "id": "view-in-github",
        "colab_type": "text"
      },
      "source": [
        "<a href=\"https://colab.research.google.com/github/yazfir/Projects2021/blob/master/Probabilidad/DistribucionBinomial.ipynb\" target=\"_parent\"><img src=\"https://colab.research.google.com/assets/colab-badge.svg\" alt=\"Open In Colab\"/></a>"
      ]
    },
    {
      "cell_type": "code",
      "metadata": {
        "id": "I1SbnPQJTi41"
      },
      "source": [
        "import numpy as np                            # Librería para manejo de Matrices y Arreglos\n",
        "from numpy.random import binomial             # Generador aleatorio de números basado en la distribución binomial\n",
        "from scipy.stats import binom                 # Nos permite implementar la función binomial rápidamente\n",
        "from math import factorial                    # Librería general para funciones matemáticas\n",
        "import matplotlib.pyplot as plt               # Sirve para desarrollar visualizaciones"
      ],
      "execution_count": 2,
      "outputs": []
    },
    {
      "cell_type": "markdown",
      "metadata": {
        "id": "XSka0nZZTzB1"
      },
      "source": [
        "## Secuencias de eventos tipo Bernoulli\n",
        "\n",
        "$$\n",
        "P(k, n; p) = {n \\choose k} p^k (1-p)^{n-k} = \\frac{n!}{k!(n-k)!}p^k (1-p)^{n-k}\n",
        "$$\n"
      ]
    },
    {
      "cell_type": "code",
      "metadata": {
        "id": "OPXfRO-tOz7S"
      },
      "source": [
        "def fac(x):\n",
        "  return factorial(x)"
      ],
      "execution_count": 3,
      "outputs": []
    },
    {
      "cell_type": "code",
      "metadata": {
        "id": "myJESoc9OqJF"
      },
      "source": [
        "def my_binomial(k,n,p):\n",
        "  return fac(n) / ( fac(k) * fac(n-k) ) * ( p**k * (1-p)**(n-k) )"
      ],
      "execution_count": 4,
      "outputs": []
    },
    {
      "cell_type": "code",
      "metadata": {
        "colab": {
          "base_uri": "https://localhost:8080/"
        },
        "id": "v-8QhCByO0Jf",
        "outputId": "b6f40653-58df-4308-f07c-c02251af289a"
      },
      "source": [
        "my_binomial(2,3,0.5)"
      ],
      "execution_count": 5,
      "outputs": [
        {
          "output_type": "execute_result",
          "data": {
            "text/plain": [
              "0.375"
            ]
          },
          "metadata": {
            "tags": []
          },
          "execution_count": 5
        }
      ]
    },
    {
      "cell_type": "code",
      "metadata": {
        "colab": {
          "base_uri": "https://localhost:8080/"
        },
        "id": "UCODcXOEUiBk",
        "outputId": "e4b07a52-5add-4598-d189-33b9043fafe2"
      },
      "source": [
        "3/8.0"
      ],
      "execution_count": 6,
      "outputs": [
        {
          "output_type": "execute_result",
          "data": {
            "text/plain": [
              "0.375"
            ]
          },
          "metadata": {
            "tags": []
          },
          "execution_count": 6
        }
      ]
    },
    {
      "cell_type": "code",
      "metadata": {
        "colab": {
          "base_uri": "https://localhost:8080/"
        },
        "id": "ctrDAWCsUs-w",
        "outputId": "13186923-bdcf-4818-8153-92cbc1336c49"
      },
      "source": [
        "dist = binom(3,0.5)\n",
        "dist.pmf(2) #Probability Mass Function (pmf)"
      ],
      "execution_count": 7,
      "outputs": [
        {
          "output_type": "execute_result",
          "data": {
            "text/plain": [
              "0.375"
            ]
          },
          "metadata": {
            "tags": []
          },
          "execution_count": 7
        }
      ]
    },
    {
      "cell_type": "markdown",
      "metadata": {
        "id": "jkK0Ba8lVasA"
      },
      "source": [
        "## Validación del ejercicio hecho a mano\n",
        "\n",
        "$$\n",
        "P(k\\leq 2, n=3, p=1/2) = \\sum_{k=0}^2 \\left[ \\frac{n!}{k!(n-k)!}p^k (1-p)^{n-k} \\right] = \\frac{7}{8}\n",
        "$$"
      ]
    },
    {
      "cell_type": "markdown",
      "metadata": {
        "id": "4AnGSsWkVsNo"
      },
      "source": [
        "* K=0\n",
        "$$\n",
        "    \\frac{3!}{ 0! (3-0)!} (1/2)^0 (1-1/2)^{3-0} = \\frac{6}{(1)(6)} (1)(1/8) = \\frac{1}{8}\n",
        "$$\n",
        "\n",
        "* K=1\n",
        "$$\n",
        "    \\frac{3!}{ 1! (3-1)!} (1/2)^1 (1-1/2)^{3-1} = \\frac{6}{(1)(2)} (1/2)(1/4) = \\frac{6}{16} = \\frac{3}{8}\n",
        "$$\n",
        "\n",
        "* K=2\n",
        "$$\n",
        "    \\frac{3!}{ 2! (3-2)!} (1/2)^2 (1-1/2)^{3-2} = \\frac{6}{(2)(1)} (1/4)(1/2) = \\frac{6}{16} = \\frac{3}{8}\n",
        "$$\n",
        "\n",
        "  \n",
        "<br/><br/>\n",
        "\n",
        "\n",
        "$$\n",
        "\\sum \\left[ \\frac{1}{8} + \\frac{3}{8} + \\frac{3}{8} \\right] = \\frac{7}{8}\n",
        "$$"
      ]
    },
    {
      "cell_type": "code",
      "metadata": {
        "colab": {
          "base_uri": "https://localhost:8080/"
        },
        "id": "nCU3NYS4hjOr",
        "outputId": "e9c9fa11-d69e-44d4-b646-c759286f91dc"
      },
      "source": [
        "dist.cdf(2) #Cumulative Distribution Function (Distribución Acumulada)"
      ],
      "execution_count": 8,
      "outputs": [
        {
          "output_type": "execute_result",
          "data": {
            "text/plain": [
              "0.875"
            ]
          },
          "metadata": {
            "tags": []
          },
          "execution_count": 8
        }
      ]
    },
    {
      "cell_type": "code",
      "metadata": {
        "colab": {
          "base_uri": "https://localhost:8080/"
        },
        "id": "RWM_GuE2kDd0",
        "outputId": "7b92764b-51d8-4d2f-a3f2-7c93866ea5b6"
      },
      "source": [
        "7/8"
      ],
      "execution_count": 9,
      "outputs": [
        {
          "output_type": "execute_result",
          "data": {
            "text/plain": [
              "0.875"
            ]
          },
          "metadata": {
            "tags": []
          },
          "execution_count": 9
        }
      ]
    },
    {
      "cell_type": "markdown",
      "metadata": {
        "id": "nG3VNY1CI8wz"
      },
      "source": [
        "## Simulaciones de secuencias con generadores aleatorios\n",
        "\n",
        "* Los generadores aleatorios tienen como propósito simular muestras de datos que resultarían de muestreos en la vida real de procesos aleatorios como lanzar una moneda o un dado."
      ]
    },
    {
      "cell_type": "code",
      "metadata": {
        "colab": {
          "base_uri": "https://localhost:8080/"
        },
        "id": "d8P4gUxLOMEb",
        "outputId": "9bdacb7d-a67e-4958-a93c-9040ff904a12"
      },
      "source": [
        "# Simulación con 100 lanzamientos de moneda equilibrada\n",
        "# Nota.- Ejecutar esta celda varias veces para observar la variación en los resultados.\n",
        "\n",
        "p=0.5\n",
        "n=3\n",
        "binomial(n,p)"
      ],
      "execution_count": 20,
      "outputs": [
        {
          "output_type": "execute_result",
          "data": {
            "text/plain": [
              "0"
            ]
          },
          "metadata": {
            "tags": []
          },
          "execution_count": 20
        }
      ]
    },
    {
      "cell_type": "code",
      "metadata": {
        "colab": {
          "base_uri": "https://localhost:8080/"
        },
        "id": "XwLlB1HaPReu",
        "outputId": "cfee267a-3090-4730-bad3-90999a6c5f67"
      },
      "source": [
        "arr = []\n",
        "for _ in range(25):\n",
        "  arr.append(binomial(n,p))\n",
        "\n",
        "arr"
      ],
      "execution_count": 36,
      "outputs": [
        {
          "output_type": "execute_result",
          "data": {
            "text/plain": [
              "[1, 2, 0, 3, 0, 1, 2, 2, 1, 1, 2, 1, 0, 2, 2, 2, 1, 1, 2, 2, 2, 2, 2, 2, 1]"
            ]
          },
          "metadata": {
            "tags": []
          },
          "execution_count": 36
        }
      ]
    },
    {
      "cell_type": "code",
      "metadata": {
        "colab": {
          "base_uri": "https://localhost:8080/"
        },
        "id": "snuUrB3RT_a_",
        "outputId": "52524302-3a66-4fe1-bda6-c9c9ec44c01f"
      },
      "source": [
        "np.unique(arr, return_counts=True)  # Hace un conteo de cuantas repeticiones se tienen en 'arr'"
      ],
      "execution_count": 37,
      "outputs": [
        {
          "output_type": "execute_result",
          "data": {
            "text/plain": [
              "(array([0, 1, 2, 3]), array([ 3,  8, 13,  1]))"
            ]
          },
          "metadata": {
            "tags": []
          },
          "execution_count": 37
        }
      ]
    },
    {
      "cell_type": "code",
      "metadata": {
        "colab": {
          "base_uri": "https://localhost:8080/"
        },
        "id": "48-YcYoOVhxz",
        "outputId": "084abfd9-5f54-468a-f640-3b9f3bfe6cc5"
      },
      "source": [
        "np.unique(arr, return_counts=True)[1]/len(arr)    # Se obtiene todas las probabilidades del 2do arreglo [1] --->> Simulada"
      ],
      "execution_count": 38,
      "outputs": [
        {
          "output_type": "execute_result",
          "data": {
            "text/plain": [
              "array([0.12, 0.32, 0.52, 0.04])"
            ]
          },
          "metadata": {
            "tags": []
          },
          "execution_count": 38
        }
      ]
    },
    {
      "cell_type": "code",
      "metadata": {
        "colab": {
          "base_uri": "https://localhost:8080/"
        },
        "id": "_fPH3W4lYl22",
        "outputId": "eaac5680-0102-41f2-9ede-5b0d1c774f68"
      },
      "source": [
        "[binom(3,0.5).pmf(k) for k in [0,1,2,3]]          # Se obtiene todas las probabilidades de k  ----->> Teórica (tipo frecuentista)"
      ],
      "execution_count": 39,
      "outputs": [
        {
          "output_type": "execute_result",
          "data": {
            "text/plain": [
              "[0.12500000000000003, 0.375, 0.375, 0.12500000000000003]"
            ]
          },
          "metadata": {
            "tags": []
          },
          "execution_count": 39
        }
      ]
    },
    {
      "cell_type": "code",
      "metadata": {
        "colab": {
          "base_uri": "https://localhost:8080/",
          "height": 809
        },
        "id": "EFB2HT_DTc9E",
        "outputId": "ce5f44ae-ba02-4c92-bead-fba044de48e5"
      },
      "source": [
        "def plot_hist(num_trials):\n",
        "  values = [0,1,2,3]\n",
        "  arr = []\n",
        "  for _ in range(num_trials):\n",
        "    arr.append(binomial(n,p))\n",
        "  sim = np.unique(arr, return_counts=True)[1]/len(arr)\n",
        "  teorica = [binom(3,0.5).pmf(k) for k in values]\n",
        "  plt.bar(values, sim, color = 'red')\n",
        "  plt.bar(values, teorica, color = 'blue')\n",
        "  #plt.bar(values, teorica, alpha=0.5, color='blue')  # Alpha es el grado de transparencia\n",
        "  plt.title(f'{num_trials} experimentos')\n",
        "  plt.show()\n",
        "\n",
        "plot_hist(20); plot_hist(200); plot_hist(20000)"
      ],
      "execution_count": 42,
      "outputs": [
        {
          "output_type": "display_data",
          "data": {
            "image/png": "[encoded data removed]",
            "text/plain": [
              "<Figure size 432x288 with 1 Axes>"
            ]
          },
          "metadata": {
            "tags": [],
            "needs_background": "light"
          }
        },
        {
          "output_type": "display_data",
          "data": {
            "image/png": "[encoded data removed]",
            "text/plain": [
              "<Figure size 432x288 with 1 Axes>"
            ]
          },
          "metadata": {
            "tags": [],
            "needs_background": "light"
          }
        },
        {
          "output_type": "display_data",
          "data": {
            "image/png": "[encoded data removed]",
            "text/plain": [
              "<Figure size 432x288 with 1 Axes>"
            ]
          },
          "metadata": {
            "tags": [],
            "needs_background": "light"
          }
        }
      ]
    }
  ]
}