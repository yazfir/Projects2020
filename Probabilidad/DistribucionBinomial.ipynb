{
  "nbformat": 4,
  "nbformat_minor": 0,
  "metadata": {
    "colab": {
      "name": "DistribucionBinomial.ipynb",
      "provenance": [],
      "toc_visible": true,
      "authorship_tag": "ABX9TyOgqt86qwKUZin3f2DQSR90",
      "include_colab_link": true
    },
    "kernelspec": {
      "name": "python3",
      "display_name": "Python 3"
    },
    "language_info": {
      "name": "python"
    }
  },
  "cells": [
    {
      "cell_type": "markdown",
      "metadata": {
        "id": "view-in-github",
        "colab_type": "text"
      },
      "source": [
        "<a href=\"https://colab.research.google.com/github/yazfir/Projects2021/blob/master/Probabilidad/DistribucionBinomial.ipynb\" target=\"_parent\"><img src=\"https://colab.research.google.com/assets/colab-badge.svg\" alt=\"Open In Colab\"/></a>"
      ]
    },
    {
      "cell_type": "code",
      "metadata": {
        "id": "I1SbnPQJTi41"
      },
      "source": [
        "import numpy as np                            # Librería para manejo de Matrices y Arreglos\n",
        "from numpy.random import binomial             # Generador aleatorio de números basado en la distribución binomial\n",
        "from scipy.stats import binom                 # Nos permite implementar la función binomial rápidamente\n",
        "from math import factorial                    # Librería general para funciones matemáticas\n",
        "import matplotlib.pyplot as plt               # Sirve para desarrollar visualizaciones"
      ],
      "execution_count": 3,
      "outputs": []
    },
    {
      "cell_type": "markdown",
      "metadata": {
        "id": "XSka0nZZTzB1"
      },
      "source": [
        "## Secuencias de eventos tipo Bernoulli\n",
        "\n",
        "$$\n",
        "P(k, n; p) = {n \\choose k} p^k (1-p)^{n-k} = \\frac{n!}{k!(n-k)!}p^k (1-p)^{n-k}\n",
        "$$\n"
      ]
    },
    {
      "cell_type": "code",
      "metadata": {
        "id": "OPXfRO-tOz7S"
      },
      "source": [
        "def fac(x):\n",
        "  return factorial(x)"
      ],
      "execution_count": 4,
      "outputs": []
    },
    {
      "cell_type": "code",
      "metadata": {
        "id": "myJESoc9OqJF"
      },
      "source": [
        "def my_binomial(k,n,p):\n",
        "  return fac(n) / ( fac(k) * fac(n-k) ) * ( p**k * (1-p)**(n-k) )"
      ],
      "execution_count": 9,
      "outputs": []
    },
    {
      "cell_type": "code",
      "metadata": {
        "colab": {
          "base_uri": "https://localhost:8080/"
        },
        "id": "v-8QhCByO0Jf",
        "outputId": "8307e388-5969-4ec5-bc5f-71aa60a83052"
      },
      "source": [
        "my_binomial(2,3,0.5)"
      ],
      "execution_count": 10,
      "outputs": [
        {
          "output_type": "execute_result",
          "data": {
            "text/plain": [
              "0.375"
            ]
          },
          "metadata": {
            "tags": []
          },
          "execution_count": 10
        }
      ]
    },
    {
      "cell_type": "code",
      "metadata": {
        "colab": {
          "base_uri": "https://localhost:8080/"
        },
        "id": "UCODcXOEUiBk",
        "outputId": "984c3418-a6c0-41ed-ebea-768a43c6dacf"
      },
      "source": [
        "3/8.0"
      ],
      "execution_count": 11,
      "outputs": [
        {
          "output_type": "execute_result",
          "data": {
            "text/plain": [
              "0.375"
            ]
          },
          "metadata": {
            "tags": []
          },
          "execution_count": 11
        }
      ]
    },
    {
      "cell_type": "code",
      "metadata": {
        "colab": {
          "base_uri": "https://localhost:8080/"
        },
        "id": "ctrDAWCsUs-w",
        "outputId": "4b64ced7-0318-42d5-bdf2-50b374c0beff"
      },
      "source": [
        "dist = binom(3,0.5)\n",
        "dist.pmf(2) #Probability Mass Function (pmf)"
      ],
      "execution_count": 12,
      "outputs": [
        {
          "output_type": "execute_result",
          "data": {
            "text/plain": [
              "0.375"
            ]
          },
          "metadata": {
            "tags": []
          },
          "execution_count": 12
        }
      ]
    },
    {
      "cell_type": "markdown",
      "metadata": {
        "id": "jkK0Ba8lVasA"
      },
      "source": [
        "## Validación del ejercicio hecho a mano\n",
        "\n",
        "$$\n",
        "P(k\\leq 2, n=3, p=1/2) = \\sum_{k=0}^2 \\left[ \\frac{n!}{k!(n-k)!}p^k (1-p)^{n-k} \\right] = \\frac{7}{8}\n",
        "$$"
      ]
    },
    {
      "cell_type": "markdown",
      "metadata": {
        "id": "4AnGSsWkVsNo"
      },
      "source": [
        "* K=0\n",
        "$$\n",
        "    \\frac{3!}{ 0! (3-0)!} (1/2)^0 (1-1/2)^{3-0} = \\frac{6}{(1)(6)} (1)(1/8) = \\frac{1}{8}\n",
        "$$\n",
        "\n",
        "* K=1\n",
        "$$\n",
        "    \\frac{3!}{ 1! (3-1)!} (1/2)^1 (1-1/2)^{3-1} = \\frac{6}{(1)(2)} (1/2)(1/4) = \\frac{6}{16} = \\frac{3}{8}\n",
        "$$\n",
        "\n",
        "* K=2\n",
        "$$\n",
        "    \\frac{3!}{ 2! (3-2)!} (1/2)^2 (1-1/2)^{3-2} = \\frac{6}{(2)(1)} (1/4)(1/2) = \\frac{6}{16} = \\frac{3}{8}\n",
        "$$\n",
        "\n",
        "  \n",
        "<br/><br/>\n",
        "\n",
        "\n",
        "$$\n",
        "\\sum \\left[ \\frac{1}{8} + \\frac{3}{8} + \\frac{3}{8} \\right] = \\frac{7}{8}\n",
        "$$"
      ]
    },
    {
      "cell_type": "code",
      "metadata": {
        "colab": {
          "base_uri": "https://localhost:8080/"
        },
        "id": "nCU3NYS4hjOr",
        "outputId": "378a5409-13e6-441b-8b32-d60fc2b3d03c"
      },
      "source": [
        "dist.cdf(2) #Cumulative Distribution Function (Distribución Acumulada)"
      ],
      "execution_count": 13,
      "outputs": [
        {
          "output_type": "execute_result",
          "data": {
            "text/plain": [
              "0.875"
            ]
          },
          "metadata": {
            "tags": []
          },
          "execution_count": 13
        }
      ]
    },
    {
      "cell_type": "code",
      "metadata": {
        "colab": {
          "base_uri": "https://localhost:8080/"
        },
        "id": "RWM_GuE2kDd0",
        "outputId": "6ff1b30c-23c4-41d8-ecb2-3106c817270f"
      },
      "source": [
        "7/8"
      ],
      "execution_count": 14,
      "outputs": [
        {
          "output_type": "execute_result",
          "data": {
            "text/plain": [
              "0.875"
            ]
          },
          "metadata": {
            "tags": []
          },
          "execution_count": 14
        }
      ]
    }
  ]
}