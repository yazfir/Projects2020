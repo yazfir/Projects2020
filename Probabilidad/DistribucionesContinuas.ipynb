{
  "nbformat": 4,
  "nbformat_minor": 0,
  "metadata": {
    "colab": {
      "name": "DistribucionesContinua.ipynb",
      "provenance": [],
      "authorship_tag": "ABX9TyOK/28pwaEyWdLLNmHuo3Xs",
      "include_colab_link": true
    },
    "kernelspec": {
      "name": "python3",
      "display_name": "Python 3"
    },
    "language_info": {
      "name": "python"
    }
  },
  "cells": [
    {
      "cell_type": "markdown",
      "metadata": {
        "id": "view-in-github",
        "colab_type": "text"
      },
      "source": [
        "<a href=\"https://colab.research.google.com/github/yazfir/Projects2021/blob/master/Probabilidad/DistribucionesContinuas.ipynb\" target=\"_parent\"><img src=\"https://colab.research.google.com/assets/colab-badge.svg\" alt=\"Open In Colab\"/></a>"
      ]
    },
    {
      "cell_type": "markdown",
      "metadata": {
        "id": "kYWKo2rGHiZF"
      },
      "source": [
        "# Distribuciones Continuas\n",
        "\n",
        "La distribución más famosa de las distribuciones continuas es la **\"Distribución Normal\"**\n",
        " "
      ]
    },
    {
      "cell_type": "code",
      "metadata": {
        "id": "HdWqZXV-FpHV"
      },
      "source": [
        "import pandas as pd\n",
        "import numpy as np \n",
        "import matplotlib.pyplot as plt\n",
        "from scipy.stats import norm "
      ],
      "execution_count": 22,
      "outputs": []
    },
    {
      "cell_type": "markdown",
      "metadata": {
        "id": "5jRV-NS1Gr2B"
      },
      "source": [
        "## Distribución normal teórica\n",
        "\n",
        "\n",
        "$$P(X) = \\frac{1}{\\sigma \\sqrt{2 \\pi}} \\exp{\\left[-\\frac{1}{2}\\left(\\frac{X-\\mu}{\\sigma} \\right)^2 \\right]}$$\n",
        "\n",
        "* $\\mu$: (mu) media de la distribución\n",
        "* $\\sigma$: (sigma) desviación estándar de la distribución"
      ]
    },
    {
      "cell_type": "code",
      "metadata": {
        "id": "1XWIsYFKIRDP"
      },
      "source": [
        "def gaussian(x, mu, sigma):\n",
        "  return 1 / ( sigma * np.sqrt(2 * np.pi) ) * np.exp( -0.5 * ( (x - mu) / sigma) ** 2 )"
      ],
      "execution_count": 23,
      "outputs": []
    },
    {
      "cell_type": "code",
      "metadata": {
        "colab": {
          "base_uri": "https://localhost:8080/",
          "height": 282
        },
        "id": "TbExrb2yR86f",
        "outputId": "60924f63-b2e1-405f-e15a-b6afc4b4a9e7"
      },
      "source": [
        "x = np.arange(-4,4,0.1)\n",
        "y = gaussian(x, 0.0, 1.0)\n",
        "\n",
        "\n",
        "#plt.subplot(1, 2, 1) # row 1, col 2 index 1\n",
        "plt.plot(x,y)\n",
        "\n",
        "#y1 = gaussian(x, 1.0, 1.0)  # moviendo el promedio a 1\n",
        "#plt.subplot(1, 2, 2) # row 1, col 2 index 2\n",
        "#plt.plot(x,y1)\n",
        "\n"
      ],
      "execution_count": 49,
      "outputs": [
        {
          "output_type": "execute_result",
          "data": {
            "text/plain": [
              "[<matplotlib.lines.Line2D at 0x7f918f926750>]"
            ]
          },
          "metadata": {
            "tags": []
          },
          "execution_count": 49
        },
        {
          "output_type": "display_data",
          "data": {
            "image/png": "[encoded data removed]",
            "text/plain": [
              "<Figure size 432x288 with 1 Axes>"
            ]
          },
          "metadata": {
            "tags": [],
            "needs_background": "light"
          }
        }
      ]
    },
    {
      "cell_type": "code",
      "metadata": {
        "colab": {
          "base_uri": "https://localhost:8080/",
          "height": 282
        },
        "id": "ck7ptm0ucHuo",
        "outputId": "1bbe228c-14c3-49f9-99ef-48af51f86d45"
      },
      "source": [
        "y1 = gaussian(x, 1.0, 1.0)  # moviendo el promedio a 1: \"La función se desplaza\"\n",
        "\n",
        "plt.plot(x,y1)"
      ],
      "execution_count": 50,
      "outputs": [
        {
          "output_type": "execute_result",
          "data": {
            "text/plain": [
              "[<matplotlib.lines.Line2D at 0x7f918f8d2b90>]"
            ]
          },
          "metadata": {
            "tags": []
          },
          "execution_count": 50
        },
        {
          "output_type": "display_data",
          "data": {
            "image/png": "[encoded data removed]",
            "text/plain": [
              "<Figure size 432x288 with 1 Axes>"
            ]
          },
          "metadata": {
            "tags": [],
            "needs_background": "light"
          }
        }
      ]
    },
    {
      "cell_type": "code",
      "metadata": {
        "colab": {
          "base_uri": "https://localhost:8080/",
          "height": 282
        },
        "id": "gltKO-V3dShd",
        "outputId": "715663cd-3f9f-40ae-fd3c-4f238131ed3b"
      },
      "source": [
        "y2 = gaussian(x, 1.0, 0.01)  # Desviación estándar menor: \"La gaussiana es mas delgada\"\n",
        "\n",
        "plt.plot(x,y2)"
      ],
      "execution_count": 51,
      "outputs": [
        {
          "output_type": "execute_result",
          "data": {
            "text/plain": [
              "[<matplotlib.lines.Line2D at 0x7f918f868190>]"
            ]
          },
          "metadata": {
            "tags": []
          },
          "execution_count": 51
        },
        {
          "output_type": "display_data",
          "data": {
            "image/png": "[encoded data removed]",
            "text/plain": [
              "<Figure size 432x288 with 1 Axes>"
            ]
          },
          "metadata": {
            "tags": [],
            "needs_background": "light"
          }
        }
      ]
    },
    {
      "cell_type": "markdown",
      "metadata": {
        "id": "GTn3zhM5eYRP"
      },
      "source": [
        "# Usando SCIPY"
      ]
    },
    {
      "cell_type": "code",
      "metadata": {
        "colab": {
          "base_uri": "https://localhost:8080/",
          "height": 282
        },
        "id": "ax5cQAwqeQs5",
        "outputId": "38e6e854-53ed-4603-d717-5b318b08c911"
      },
      "source": [
        "dist = norm(0,1)\n",
        "x = np.arange(-4,4,0.1)\n",
        "y = [dist.pdf(value) for value in x]\n",
        "\n",
        "plt.plot(x,y)"
      ],
      "execution_count": 53,
      "outputs": [
        {
          "output_type": "execute_result",
          "data": {
            "text/plain": [
              "[<matplotlib.lines.Line2D at 0x7f918b7b5d10>]"
            ]
          },
          "metadata": {
            "tags": []
          },
          "execution_count": 53
        },
        {
          "output_type": "display_data",
          "data": {
            "image/png": "[encoded data removed]",
            "text/plain": [
              "<Figure size 432x288 with 1 Axes>"
            ]
          },
          "metadata": {
            "tags": [],
            "needs_background": "light"
          }
        }
      ]
    },
    {
      "cell_type": "code",
      "metadata": {
        "colab": {
          "base_uri": "https://localhost:8080/",
          "height": 282
        },
        "id": "upMM-nW9flCL",
        "outputId": "09e6dc1e-c18d-472e-d4da-8ba46dc4f6c6"
      },
      "source": [
        "# Distribución Acumulada de Probabilidad para \"Gaussiana\", que es la integral de la fórmula normal teórica.\n",
        "dist = norm(0,1)\n",
        "x = np.arange(-4,4,0.1)\n",
        "y = [dist.cdf(value) for value in x]\n",
        "\n",
        "plt.plot(x,y)"
      ],
      "execution_count": 54,
      "outputs": [
        {
          "output_type": "execute_result",
          "data": {
            "text/plain": [
              "[<matplotlib.lines.Line2D at 0x7f918b73e490>]"
            ]
          },
          "metadata": {
            "tags": []
          },
          "execution_count": 54
        },
        {
          "output_type": "display_data",
          "data": {
            "image/png": "[encoded data removed]",
            "text/plain": [
              "<Figure size 432x288 with 1 Axes>"
            ]
          },
          "metadata": {
            "tags": [],
            "needs_background": "light"
          }
        }
      ]
    },
    {
      "cell_type": "markdown",
      "metadata": {
        "id": "Mg-R4LIWiSef"
      },
      "source": [
        "## Distribución normal (gausiana) a partir de datos reales: \"Población de Mosquitos\"\n",
        "\n",
        "* *El archivo excel* lo puedes descargar en esta página: https://seattlecentral.edu/qelp/sets/057/057.html ó https://seattlecentral.edu/qelp/sets/057/s057.xls"
      ]
    },
    {
      "cell_type": "code",
      "metadata": {
        "colab": {
          "base_uri": "https://localhost:8080/",
          "height": 417
        },
        "id": "cC2tB1gVix9n",
        "outputId": "3402063b-e648-4293-bb8d-4708d91d0476"
      },
      "source": [
        "df = pd.read_excel('s057.xls')\n",
        "df"
      ],
      "execution_count": 55,
      "outputs": [
        {
          "output_type": "execute_result",
          "data": {
            "text/html": [
              "<div>\n",
              "<style scoped>\n",
              "    .dataframe tbody tr th:only-of-type {\n",
              "        vertical-align: middle;\n",
              "    }\n",
              "\n",
              "    .dataframe tbody tr th {\n",
              "        vertical-align: top;\n",
              "    }\n",
              "\n",
              "    .dataframe thead th {\n",
              "        text-align: right;\n",
              "    }\n",
              "</style>\n",
              "<table border=\"1\" class=\"dataframe\">\n",
              "  <thead>\n",
              "    <tr style=\"text-align: right;\">\n",
              "      <th></th>\n",
              "      <th>Normally Distributed Housefly Wing Lengths</th>\n",
              "      <th>Unnamed: 1</th>\n",
              "      <th>Unnamed: 2</th>\n",
              "      <th>Unnamed: 3</th>\n",
              "    </tr>\n",
              "  </thead>\n",
              "  <tbody>\n",
              "    <tr>\n",
              "      <th>0</th>\n",
              "      <td>Sokal, R.R., and P.E.Hunter. 1955.</td>\n",
              "      <td>NaN</td>\n",
              "      <td>NaN</td>\n",
              "      <td>NaN</td>\n",
              "    </tr>\n",
              "    <tr>\n",
              "      <th>1</th>\n",
              "      <td>NaN</td>\n",
              "      <td>NaN</td>\n",
              "      <td>NaN</td>\n",
              "      <td>NaN</td>\n",
              "    </tr>\n",
              "    <tr>\n",
              "      <th>2</th>\n",
              "      <td>length (x.1mm)</td>\n",
              "      <td>NaN</td>\n",
              "      <td>NaN</td>\n",
              "      <td>NaN</td>\n",
              "    </tr>\n",
              "    <tr>\n",
              "      <th>3</th>\n",
              "      <td>36</td>\n",
              "      <td>NaN</td>\n",
              "      <td>Bin</td>\n",
              "      <td>Frequency</td>\n",
              "    </tr>\n",
              "    <tr>\n",
              "      <th>4</th>\n",
              "      <td>37</td>\n",
              "      <td>NaN</td>\n",
              "      <td>36-38</td>\n",
              "      <td>2</td>\n",
              "    </tr>\n",
              "    <tr>\n",
              "      <th>...</th>\n",
              "      <td>...</td>\n",
              "      <td>...</td>\n",
              "      <td>...</td>\n",
              "      <td>...</td>\n",
              "    </tr>\n",
              "    <tr>\n",
              "      <th>98</th>\n",
              "      <td>52</td>\n",
              "      <td>NaN</td>\n",
              "      <td>NaN</td>\n",
              "      <td>NaN</td>\n",
              "    </tr>\n",
              "    <tr>\n",
              "      <th>99</th>\n",
              "      <td>53</td>\n",
              "      <td>NaN</td>\n",
              "      <td>NaN</td>\n",
              "      <td>NaN</td>\n",
              "    </tr>\n",
              "    <tr>\n",
              "      <th>100</th>\n",
              "      <td>53</td>\n",
              "      <td>NaN</td>\n",
              "      <td>NaN</td>\n",
              "      <td>NaN</td>\n",
              "    </tr>\n",
              "    <tr>\n",
              "      <th>101</th>\n",
              "      <td>54</td>\n",
              "      <td>NaN</td>\n",
              "      <td>NaN</td>\n",
              "      <td>NaN</td>\n",
              "    </tr>\n",
              "    <tr>\n",
              "      <th>102</th>\n",
              "      <td>55</td>\n",
              "      <td>NaN</td>\n",
              "      <td>NaN</td>\n",
              "      <td>NaN</td>\n",
              "    </tr>\n",
              "  </tbody>\n",
              "</table>\n",
              "<p>103 rows × 4 columns</p>\n",
              "</div>"
            ],
            "text/plain": [
              "    Normally Distributed Housefly Wing Lengths  ...  Unnamed: 3\n",
              "0          Sokal, R.R., and P.E.Hunter. 1955.   ...         NaN\n",
              "1                                          NaN  ...         NaN\n",
              "2                               length (x.1mm)  ...         NaN\n",
              "3                                           36  ...   Frequency\n",
              "4                                           37  ...           2\n",
              "..                                         ...  ...         ...\n",
              "98                                          52  ...         NaN\n",
              "99                                          53  ...         NaN\n",
              "100                                         53  ...         NaN\n",
              "101                                         54  ...         NaN\n",
              "102                                         55  ...         NaN\n",
              "\n",
              "[103 rows x 4 columns]"
            ]
          },
          "metadata": {
            "tags": []
          },
          "execution_count": 55
        }
      ]
    },
    {
      "cell_type": "code",
      "metadata": {
        "colab": {
          "base_uri": "https://localhost:8080/"
        },
        "id": "7b5iFN31jW_v",
        "outputId": "4567824d-dd69-4182-ec99-2a502e646d5a"
      },
      "source": [
        "df['Normally Distributed Housefly Wing Lengths'].values"
      ],
      "execution_count": 56,
      "outputs": [
        {
          "output_type": "execute_result",
          "data": {
            "text/plain": [
              "array(['Sokal, R.R., and P.E.Hunter. 1955. ', nan, 'length (x.1mm)', 36,\n",
              "       37, 38, 38, 39, 39, 40, 40, 40, 40, 41, 41, 41, 41, 41, 41, 42, 42,\n",
              "       42, 42, 42, 42, 42, 43, 43, 43, 43, 43, 43, 43, 43, 44, 44, 44, 44,\n",
              "       44, 44, 44, 44, 44, 45, 45, 45, 45, 45, 45, 45, 45, 45, 45, 46, 46,\n",
              "       46, 46, 46, 46, 46, 46, 46, 46, 47, 47, 47, 47, 47, 47, 47, 47, 47,\n",
              "       48, 48, 48, 48, 48, 48, 48, 48, 49, 49, 49, 49, 49, 49, 49, 50, 50,\n",
              "       50, 50, 50, 50, 51, 51, 51, 51, 52, 52, 53, 53, 54, 55],\n",
              "      dtype=object)"
            ]
          },
          "metadata": {
            "tags": []
          },
          "execution_count": 56
        }
      ]
    },
    {
      "cell_type": "code",
      "metadata": {
        "colab": {
          "base_uri": "https://localhost:8080/"
        },
        "id": "V33ygtlajvBA",
        "outputId": "316d4581-66e5-403f-ea73-994ab98f7711"
      },
      "source": [
        "df['Normally Distributed Housefly Wing Lengths'].values[3:]"
      ],
      "execution_count": 58,
      "outputs": [
        {
          "output_type": "execute_result",
          "data": {
            "text/plain": [
              "array([36, 37, 38, 38, 39, 39, 40, 40, 40, 40, 41, 41, 41, 41, 41, 41, 42,\n",
              "       42, 42, 42, 42, 42, 42, 43, 43, 43, 43, 43, 43, 43, 43, 44, 44, 44,\n",
              "       44, 44, 44, 44, 44, 44, 45, 45, 45, 45, 45, 45, 45, 45, 45, 45, 46,\n",
              "       46, 46, 46, 46, 46, 46, 46, 46, 46, 47, 47, 47, 47, 47, 47, 47, 47,\n",
              "       47, 48, 48, 48, 48, 48, 48, 48, 48, 49, 49, 49, 49, 49, 49, 49, 50,\n",
              "       50, 50, 50, 50, 50, 51, 51, 51, 51, 52, 52, 53, 53, 54, 55],\n",
              "      dtype=object)"
            ]
          },
          "metadata": {
            "tags": []
          },
          "execution_count": 58
        }
      ]
    },
    {
      "cell_type": "code",
      "metadata": {
        "colab": {
          "base_uri": "https://localhost:8080/"
        },
        "id": "TSiFtLw-kQUv",
        "outputId": "13790e03-4287-4761-f90b-4a57334ca766"
      },
      "source": [
        "arr = df['Normally Distributed Housefly Wing Lengths'].values[3:]\n",
        "np.unique(arr, return_counts=True) # Esta función sirve para obtener los valores únicos y además contar las veces que se repite cada uno. (Valores Únicos, Frecuencias). Devuelve 2 arreglos"
      ],
      "execution_count": 59,
      "outputs": [
        {
          "output_type": "execute_result",
          "data": {
            "text/plain": [
              "(array([36, 37, 38, 39, 40, 41, 42, 43, 44, 45, 46, 47, 48, 49, 50, 51, 52,\n",
              "        53, 54, 55], dtype=object),\n",
              " array([ 1,  1,  2,  2,  4,  6,  7,  8,  9, 10, 10,  9,  8,  7,  6,  4,  2,\n",
              "         2,  1,  1]))"
            ]
          },
          "metadata": {
            "tags": []
          },
          "execution_count": 59
        }
      ]
    },
    {
      "cell_type": "code",
      "metadata": {
        "colab": {
          "base_uri": "https://localhost:8080/",
          "height": 282
        },
        "id": "CairNz__lLrk",
        "outputId": "d6877f8c-db73-4523-960e-aa5f9f85d089"
      },
      "source": [
        "values, dist = np.unique(arr, return_counts=True)\n",
        "plt.bar(values, dist)"
      ],
      "execution_count": 60,
      "outputs": [
        {
          "output_type": "execute_result",
          "data": {
            "text/plain": [
              "<BarContainer object of 20 artists>"
            ]
          },
          "metadata": {
            "tags": []
          },
          "execution_count": 60
        },
        {
          "output_type": "display_data",
          "data": {
            "image/png": "[encoded data removed]",
            "text/plain": [
              "<Figure size 432x288 with 1 Axes>"
            ]
          },
          "metadata": {
            "tags": [],
            "needs_background": "light"
          }
        }
      ]
    },
    {
      "cell_type": "markdown",
      "metadata": {
        "id": "Af6rIscellwm"
      },
      "source": [
        "## Estimación de una Distribución"
      ]
    },
    {
      "cell_type": "code",
      "metadata": {
        "colab": {
          "base_uri": "https://localhost:8080/",
          "height": 282
        },
        "id": "NMCR6Wf6lsel",
        "outputId": "3805f5d6-d230-4343-ab55-7db071fe4d00"
      },
      "source": [
        "mu = arr.mean()\n",
        "sigma = arr.std()\n",
        "x = np.arange(30,60, 0.1)  # Entre 30 y 60 que son aproximadamente el mínimo y máximo de la gráfica anterior o valores del muestreo. Se parados por un valor de 0.1\n",
        "dist = norm(mu, sigma)\n",
        "y = [dist.pdf(value) for value in x]\n",
        "\n",
        "plt.plot(x,y)\n",
        "\n",
        "values, dist = np.unique(arr, return_counts=True)\n",
        "plt.bar(values, dist/len(arr))       # Los conteos (dist) se normalizan diviendo entre el número de eventos exitosos "
      ],
      "execution_count": 64,
      "outputs": [
        {
          "output_type": "execute_result",
          "data": {
            "text/plain": [
              "<BarContainer object of 20 artists>"
            ]
          },
          "metadata": {
            "tags": []
          },
          "execution_count": 64
        },
        {
          "output_type": "display_data",
          "data": {
            "image/png": "[encoded data removed]",
            "text/plain": [
              "<Figure size 432x288 with 1 Axes>"
            ]
          },
          "metadata": {
            "tags": [],
            "needs_background": "light"
          }
        }
      ]
    },
    {
      "cell_type": "markdown",
      "metadata": {
        "id": "UG6XcLJDpeWi"
      },
      "source": [
        "## Otras Distribuciones:\n",
        "\n",
        "*   Exponencial\n",
        "*   Pareto\n",
        "*   ...\n",
        "\n"
      ]
    }
  ]
}