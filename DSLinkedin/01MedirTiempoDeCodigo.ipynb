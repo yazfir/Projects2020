{
  "nbformat": 4,
  "nbformat_minor": 0,
  "metadata": {
    "colab": {
      "name": "MedirTiempoDeCodigo.ipynb",
      "provenance": [],
      "authorship_tag": "ABX9TyM+yxDex6zqIPVWYsO6fD0m",
      "include_colab_link": true
    },
    "kernelspec": {
      "name": "python3",
      "display_name": "Python 3"
    },
    "language_info": {
      "name": "python"
    }
  },
  "cells": [
    {
      "cell_type": "markdown",
      "metadata": {
        "id": "view-in-github",
        "colab_type": "text"
      },
      "source": [
        "<a href=\"https://colab.research.google.com/github/yazfir/Projects2021/blob/master/DSLinkedin/01MedirTiempoDeCodigo.ipynb\" target=\"_parent\"><img src=\"https://colab.research.google.com/assets/colab-badge.svg\" alt=\"Open In Colab\"/></a>"
      ]
    },
    {
      "cell_type": "markdown",
      "metadata": {
        "id": "ZJ_dcEC2Jv-D"
      },
      "source": [
        "<h1>Evaluar la eficiencia de nuestro código</h1>\n",
        "\n"
      ]
    },
    {
      "cell_type": "code",
      "metadata": {
        "id": "qs4PqQsWHbe2"
      },
      "source": [
        "import time"
      ],
      "execution_count": 1,
      "outputs": []
    },
    {
      "cell_type": "code",
      "metadata": {
        "colab": {
          "base_uri": "https://localhost:8080/"
        },
        "id": "2o5rHc_APXgk",
        "outputId": "46a22ced-ae67-4e14-f12d-5cb483d9b085"
      },
      "source": [
        "start = time.time()\n",
        "\n",
        "# Aquí va nuestro código a medir...\n",
        "\n",
        "time.sleep(0.5)  #Lo ocupamos para retrasar un poco el tiempo\n",
        "\n",
        "end = time.time()\n",
        "\n",
        "print(end - start)"
      ],
      "execution_count": 7,
      "outputs": [
        {
          "output_type": "stream",
          "text": [
            "0.5007915496826172\n"
          ],
          "name": "stdout"
        }
      ]
    },
    {
      "cell_type": "markdown",
      "metadata": {
        "id": "UfdLrtcJQEjJ"
      },
      "source": [
        "<h3>Código más complejo pero con output más humano</h3>"
      ]
    },
    {
      "cell_type": "code",
      "metadata": {
        "colab": {
          "base_uri": "https://localhost:8080/"
        },
        "id": "19VHt382PpVG",
        "outputId": "61d3f41d-420f-4a21-fd04-0b112d2c90b4"
      },
      "source": [
        "from datetime import timedelta\n",
        "\n",
        "start =time.monotonic()\n",
        "\n",
        "# Aquí va nuestro código a medir...\n",
        "\n",
        "time.sleep(1)\n",
        "\n",
        "end = time.monotonic()\n",
        "\n",
        "print(timedelta(seconds = end - start))"
      ],
      "execution_count": 9,
      "outputs": [
        {
          "output_type": "stream",
          "text": [
            "0:00:01.004522\n"
          ],
          "name": "stdout"
        }
      ]
    },
    {
      "cell_type": "markdown",
      "metadata": {
        "id": "RbCzlExfR-Uu"
      },
      "source": [
        "<h3>Si se quiere comparar los tiempos de 2 fragmentos de código y preguntar si uno duro más que otro.</h3>"
      ]
    },
    {
      "cell_type": "code",
      "metadata": {
        "colab": {
          "base_uri": "https://localhost:8080/"
        },
        "id": "mVpgD_c5RZGE",
        "outputId": "1c8bb1a0-866d-40dc-aab3-e2ad725aaa57"
      },
      "source": [
        "start = time.time()\n",
        "\n",
        "# Aquí va nuestro código a medir...\n",
        "\n",
        "time.sleep(0.5)  #Lo ocupamos para retrasar un poco el tiempo\n",
        "\n",
        "end = time.time()\n",
        "\n",
        "start2 = time.time()\n",
        "time.sleep(0.501)\n",
        "end2 = time.time()\n",
        "\n",
        "print(end - start > end2 - start2)"
      ],
      "execution_count": 10,
      "outputs": [
        {
          "output_type": "stream",
          "text": [
            "False\n"
          ],
          "name": "stdout"
        }
      ]
    },
    {
      "cell_type": "markdown",
      "metadata": {
        "id": "SWy6EfaOTbb1"
      },
      "source": [
        "*Consejo.- Una buena manera de obtener una estimación más precisa del tiempo necesario para ejecutar un código concreto y así minimizar el impacto que puedan tener procesos que este ejecutando el ordenador en 2do plano, es realizar el proceso que queremos evaluar dentro de un loop y almacenar los resultados es una lista en vez de una variable. Finalmente podremos comparar la media, la mediana, el máximo o hasta la distribución entera de tiempos de ejecución de diversos procesos y así escoger el más adecuado con un fundamento mucho más sólido y con un código que sólo es ligeramente más complejo que el aquí practicado.*"
      ]
    }
  ]
}