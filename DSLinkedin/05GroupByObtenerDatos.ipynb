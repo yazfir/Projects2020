{
  "nbformat": 4,
  "nbformat_minor": 0,
  "metadata": {
    "colab": {
      "name": "05GroupByObtenerDatos.ipynb",
      "provenance": [],
      "authorship_tag": "ABX9TyPJkp3582AydhbW/QbTOolu",
      "include_colab_link": true
    },
    "kernelspec": {
      "name": "python3",
      "display_name": "Python 3"
    },
    "language_info": {
      "name": "python"
    }
  },
  "cells": [
    {
      "cell_type": "markdown",
      "metadata": {
        "id": "view-in-github",
        "colab_type": "text"
      },
      "source": [
        "<a href=\"https://colab.research.google.com/github/yazfir/Projects2021/blob/master/DSLinkedin/05GroupByObtenerDatos.ipynb\" target=\"_parent\"><img src=\"https://colab.research.google.com/assets/colab-badge.svg\" alt=\"Open In Colab\"/></a>"
      ]
    },
    {
      "cell_type": "markdown",
      "metadata": {
        "id": "vTLPM7vJZyba"
      },
      "source": [
        "<h1>Usando Group By para obtener información esencial</h1>"
      ]
    },
    {
      "cell_type": "code",
      "metadata": {
        "id": "3pGfwQYVZibm"
      },
      "source": [
        "import pandas as pd"
      ],
      "execution_count": 61,
      "outputs": []
    },
    {
      "cell_type": "code",
      "metadata": {
        "id": "75WU_X1IaBmV"
      },
      "source": [
        "df = pd.read_csv('base_datos_2008.csv')"
      ],
      "execution_count": 63,
      "outputs": []
    },
    {
      "cell_type": "code",
      "metadata": {
        "id": "cp2uXvtd3Q8w",
        "outputId": "fb2b0bd8-cb33-4a6c-f612-6fac5e2684b8",
        "colab": {
          "base_uri": "https://localhost:8080/"
        }
      },
      "source": [
        "#Obtener el retraso máximo cada día de la semana\n",
        "\n",
        "df.groupby(by='DayOfWeek')['ArrDelay'].max()"
      ],
      "execution_count": 65,
      "outputs": [
        {
          "output_type": "execute_result",
          "data": {
            "text/plain": [
              "DayOfWeek\n",
              "1    1292.0\n",
              "2    1312.0\n",
              "3    1357.0\n",
              "4    1253.0\n",
              "5    1357.0\n",
              "6    1525.0\n",
              "7    2461.0\n",
              "Name: ArrDelay, dtype: float64"
            ]
          },
          "metadata": {
            "tags": []
          },
          "execution_count": 65
        }
      ]
    },
    {
      "cell_type": "code",
      "metadata": {
        "id": "TEuBBZyt39HR",
        "outputId": "68b455a4-7060-4e57-d909-934aea89b88b",
        "colab": {
          "base_uri": "https://localhost:8080/"
        }
      },
      "source": [
        "#Obtener la media retraso para cada día de la semana\n",
        "\n",
        "df.groupby(by='DayOfWeek')['ArrDelay'].mean()"
      ],
      "execution_count": 66,
      "outputs": [
        {
          "output_type": "execute_result",
          "data": {
            "text/plain": [
              "DayOfWeek\n",
              "1    12.350101\n",
              "2    13.883902\n",
              "3     9.744179\n",
              "4    11.489265\n",
              "5    13.855860\n",
              "6     6.260954\n",
              "7    11.455216\n",
              "Name: ArrDelay, dtype: float64"
            ]
          },
          "metadata": {
            "tags": []
          },
          "execution_count": 66
        }
      ]
    },
    {
      "cell_type": "code",
      "metadata": {
        "id": "1h2XS8jC4Hgu",
        "outputId": "09c5d4b7-c041-4b61-ab04-8fbf23e4f1e3",
        "colab": {
          "base_uri": "https://localhost:8080/",
          "height": 299
        }
      },
      "source": [
        "#Resumen estadístico para cada día de la semana\n",
        "\n",
        "df.groupby(by='DayOfWeek')['ArrDelay'].describe()"
      ],
      "execution_count": 67,
      "outputs": [
        {
          "output_type": "execute_result",
          "data": {
            "text/html": [
              "<div>\n",
              "<style scoped>\n",
              "    .dataframe tbody tr th:only-of-type {\n",
              "        vertical-align: middle;\n",
              "    }\n",
              "\n",
              "    .dataframe tbody tr th {\n",
              "        vertical-align: top;\n",
              "    }\n",
              "\n",
              "    .dataframe thead th {\n",
              "        text-align: right;\n",
              "    }\n",
              "</style>\n",
              "<table border=\"1\" class=\"dataframe\">\n",
              "  <thead>\n",
              "    <tr style=\"text-align: right;\">\n",
              "      <th></th>\n",
              "      <th>count</th>\n",
              "      <th>mean</th>\n",
              "      <th>std</th>\n",
              "      <th>min</th>\n",
              "      <th>25%</th>\n",
              "      <th>50%</th>\n",
              "      <th>75%</th>\n",
              "      <th>max</th>\n",
              "    </tr>\n",
              "    <tr>\n",
              "      <th>DayOfWeek</th>\n",
              "      <th></th>\n",
              "      <th></th>\n",
              "      <th></th>\n",
              "      <th></th>\n",
              "      <th></th>\n",
              "      <th></th>\n",
              "      <th></th>\n",
              "      <th></th>\n",
              "    </tr>\n",
              "  </thead>\n",
              "  <tbody>\n",
              "    <tr>\n",
              "      <th>1</th>\n",
              "      <td>176732.0</td>\n",
              "      <td>12.350101</td>\n",
              "      <td>42.125676</td>\n",
              "      <td>-80.0</td>\n",
              "      <td>-9.0</td>\n",
              "      <td>0.0</td>\n",
              "      <td>16.0</td>\n",
              "      <td>1292.0</td>\n",
              "    </tr>\n",
              "    <tr>\n",
              "      <th>2</th>\n",
              "      <td>186351.0</td>\n",
              "      <td>13.883902</td>\n",
              "      <td>44.109974</td>\n",
              "      <td>-68.0</td>\n",
              "      <td>-8.0</td>\n",
              "      <td>1.0</td>\n",
              "      <td>19.0</td>\n",
              "      <td>1312.0</td>\n",
              "    </tr>\n",
              "    <tr>\n",
              "      <th>3</th>\n",
              "      <td>190680.0</td>\n",
              "      <td>9.744179</td>\n",
              "      <td>38.390034</td>\n",
              "      <td>-75.0</td>\n",
              "      <td>-9.0</td>\n",
              "      <td>0.0</td>\n",
              "      <td>14.0</td>\n",
              "      <td>1357.0</td>\n",
              "    </tr>\n",
              "    <tr>\n",
              "      <th>4</th>\n",
              "      <td>196235.0</td>\n",
              "      <td>11.489265</td>\n",
              "      <td>38.915835</td>\n",
              "      <td>-69.0</td>\n",
              "      <td>-8.0</td>\n",
              "      <td>1.0</td>\n",
              "      <td>17.0</td>\n",
              "      <td>1253.0</td>\n",
              "    </tr>\n",
              "    <tr>\n",
              "      <th>5</th>\n",
              "      <td>195025.0</td>\n",
              "      <td>13.855860</td>\n",
              "      <td>40.213628</td>\n",
              "      <td>-86.0</td>\n",
              "      <td>-7.0</td>\n",
              "      <td>2.0</td>\n",
              "      <td>20.0</td>\n",
              "      <td>1357.0</td>\n",
              "    </tr>\n",
              "    <tr>\n",
              "      <th>6</th>\n",
              "      <td>144305.0</td>\n",
              "      <td>6.260954</td>\n",
              "      <td>36.032183</td>\n",
              "      <td>-91.0</td>\n",
              "      <td>-11.0</td>\n",
              "      <td>-2.0</td>\n",
              "      <td>11.0</td>\n",
              "      <td>1525.0</td>\n",
              "    </tr>\n",
              "    <tr>\n",
              "      <th>7</th>\n",
              "      <td>164533.0</td>\n",
              "      <td>11.455216</td>\n",
              "      <td>42.479417</td>\n",
              "      <td>-90.0</td>\n",
              "      <td>-9.0</td>\n",
              "      <td>0.0</td>\n",
              "      <td>16.0</td>\n",
              "      <td>2461.0</td>\n",
              "    </tr>\n",
              "  </tbody>\n",
              "</table>\n",
              "</div>"
            ],
            "text/plain": [
              "              count       mean        std   min   25%  50%   75%     max\n",
              "DayOfWeek                                                               \n",
              "1          176732.0  12.350101  42.125676 -80.0  -9.0  0.0  16.0  1292.0\n",
              "2          186351.0  13.883902  44.109974 -68.0  -8.0  1.0  19.0  1312.0\n",
              "3          190680.0   9.744179  38.390034 -75.0  -9.0  0.0  14.0  1357.0\n",
              "4          196235.0  11.489265  38.915835 -69.0  -8.0  1.0  17.0  1253.0\n",
              "5          195025.0  13.855860  40.213628 -86.0  -7.0  2.0  20.0  1357.0\n",
              "6          144305.0   6.260954  36.032183 -91.0 -11.0 -2.0  11.0  1525.0\n",
              "7          164533.0  11.455216  42.479417 -90.0  -9.0  0.0  16.0  2461.0"
            ]
          },
          "metadata": {
            "tags": []
          },
          "execution_count": 67
        }
      ]
    },
    {
      "cell_type": "code",
      "metadata": {
        "id": "_ZdZCcpG4rqg",
        "outputId": "b2063905-eef1-4ecf-cca5-f583113793c5",
        "colab": {
          "base_uri": "https://localhost:8080/",
          "height": 354
        }
      },
      "source": [
        "#Añadiendo otra columna para comparativa y esta siendo del mismo tipo de dato\n",
        "\n",
        "df.groupby(by='DayOfWeek')['ArrDelay','DepDelay'].mean()"
      ],
      "execution_count": 70,
      "outputs": [
        {
          "output_type": "stream",
          "text": [
            "/usr/local/lib/python3.7/dist-packages/ipykernel_launcher.py:3: FutureWarning: Indexing with multiple keys (implicitly converted to a tuple of keys) will be deprecated, use a list instead.\n",
            "  This is separate from the ipykernel package so we can avoid doing imports until\n"
          ],
          "name": "stderr"
        },
        {
          "output_type": "execute_result",
          "data": {
            "text/html": [
              "<div>\n",
              "<style scoped>\n",
              "    .dataframe tbody tr th:only-of-type {\n",
              "        vertical-align: middle;\n",
              "    }\n",
              "\n",
              "    .dataframe tbody tr th {\n",
              "        vertical-align: top;\n",
              "    }\n",
              "\n",
              "    .dataframe thead th {\n",
              "        text-align: right;\n",
              "    }\n",
              "</style>\n",
              "<table border=\"1\" class=\"dataframe\">\n",
              "  <thead>\n",
              "    <tr style=\"text-align: right;\">\n",
              "      <th></th>\n",
              "      <th>ArrDelay</th>\n",
              "      <th>DepDelay</th>\n",
              "    </tr>\n",
              "    <tr>\n",
              "      <th>DayOfWeek</th>\n",
              "      <th></th>\n",
              "      <th></th>\n",
              "    </tr>\n",
              "  </thead>\n",
              "  <tbody>\n",
              "    <tr>\n",
              "      <th>1</th>\n",
              "      <td>12.350101</td>\n",
              "      <td>13.587154</td>\n",
              "    </tr>\n",
              "    <tr>\n",
              "      <th>2</th>\n",
              "      <td>13.883902</td>\n",
              "      <td>13.834025</td>\n",
              "    </tr>\n",
              "    <tr>\n",
              "      <th>3</th>\n",
              "      <td>9.744179</td>\n",
              "      <td>11.270844</td>\n",
              "    </tr>\n",
              "    <tr>\n",
              "      <th>4</th>\n",
              "      <td>11.489265</td>\n",
              "      <td>12.206627</td>\n",
              "    </tr>\n",
              "    <tr>\n",
              "      <th>5</th>\n",
              "      <td>13.855860</td>\n",
              "      <td>14.555049</td>\n",
              "    </tr>\n",
              "    <tr>\n",
              "      <th>6</th>\n",
              "      <td>6.260954</td>\n",
              "      <td>9.089839</td>\n",
              "    </tr>\n",
              "    <tr>\n",
              "      <th>7</th>\n",
              "      <td>11.455216</td>\n",
              "      <td>13.282809</td>\n",
              "    </tr>\n",
              "  </tbody>\n",
              "</table>\n",
              "</div>"
            ],
            "text/plain": [
              "            ArrDelay   DepDelay\n",
              "DayOfWeek                      \n",
              "1          12.350101  13.587154\n",
              "2          13.883902  13.834025\n",
              "3           9.744179  11.270844\n",
              "4          11.489265  12.206627\n",
              "5          13.855860  14.555049\n",
              "6           6.260954   9.089839\n",
              "7          11.455216  13.282809"
            ]
          },
          "metadata": {
            "tags": []
          },
          "execution_count": 70
        }
      ]
    },
    {
      "cell_type": "code",
      "metadata": {
        "id": "ZqwD19Wa5c_B",
        "outputId": "3bd3ce21-0be0-4782-856a-006a0a70f6d7",
        "colab": {
          "base_uri": "https://localhost:8080/"
        }
      },
      "source": [
        "df.groupby(by='DayOfWeek')['ArrDelay'].max() - df.groupby(by='DayOfWeek')['ArrDelay'].min()"
      ],
      "execution_count": 71,
      "outputs": [
        {
          "output_type": "execute_result",
          "data": {
            "text/plain": [
              "DayOfWeek\n",
              "1    1372.0\n",
              "2    1380.0\n",
              "3    1432.0\n",
              "4    1322.0\n",
              "5    1443.0\n",
              "6    1616.0\n",
              "7    2551.0\n",
              "Name: ArrDelay, dtype: float64"
            ]
          },
          "metadata": {
            "tags": []
          },
          "execution_count": 71
        }
      ]
    },
    {
      "cell_type": "markdown",
      "metadata": {
        "id": "PJjWAHyI6QLy"
      },
      "source": [
        "##Generamos una nueva BD para un nuevo ejercicio"
      ]
    },
    {
      "cell_type": "code",
      "metadata": {
        "id": "1VbjED5s6AaY"
      },
      "source": [
        "dfINDHOU = df[df.Origin.isin(['IND','HOU'])]"
      ],
      "execution_count": 72,
      "outputs": []
    },
    {
      "cell_type": "code",
      "metadata": {
        "id": "wbp9lxWE63qE",
        "outputId": "39d8e144-3ba4-4c22-9f47-104fbdcf946d",
        "colab": {
          "base_uri": "https://localhost:8080/"
        }
      },
      "source": [
        "#Para cada día de la semana de los Origenes IND y HOU obtener la media de retrasos\n",
        "dfINDHOU.groupby(by=['DayOfWeek','Origin'])['ArrDelay'].mean()"
      ],
      "execution_count": 73,
      "outputs": [
        {
          "output_type": "execute_result",
          "data": {
            "text/plain": [
              "DayOfWeek  Origin\n",
              "1          HOU       14.536634\n",
              "           IND       12.935788\n",
              "2          HOU       14.869211\n",
              "           IND       20.685792\n",
              "3          HOU       13.650447\n",
              "           IND       12.058824\n",
              "4          HOU       18.280494\n",
              "           IND       10.592184\n",
              "5          HOU       13.287172\n",
              "           IND       13.045775\n",
              "6          HOU        4.344964\n",
              "           IND        1.398429\n",
              "7          HOU       12.109375\n",
              "           IND        7.203801\n",
              "Name: ArrDelay, dtype: float64"
            ]
          },
          "metadata": {
            "tags": []
          },
          "execution_count": 73
        }
      ]
    },
    {
      "cell_type": "code",
      "metadata": {
        "id": "tnAFx0ru7Hdh",
        "outputId": "7df904d3-a973-494b-a6cd-840afd5f1bf7",
        "colab": {
          "base_uri": "https://localhost:8080/"
        }
      },
      "source": [
        "#El orden si importa porque podría resultar en una mala interpretación\n",
        "\n",
        "dfINDHOU.groupby(by=['Origin','DayOfWeek'])['ArrDelay'].mean()"
      ],
      "execution_count": 75,
      "outputs": [
        {
          "output_type": "execute_result",
          "data": {
            "text/plain": [
              "Origin  DayOfWeek\n",
              "HOU     1            14.536634\n",
              "        2            14.869211\n",
              "        3            13.650447\n",
              "        4            18.280494\n",
              "        5            13.287172\n",
              "        6             4.344964\n",
              "        7            12.109375\n",
              "IND     1            12.935788\n",
              "        2            20.685792\n",
              "        3            12.058824\n",
              "        4            10.592184\n",
              "        5            13.045775\n",
              "        6             1.398429\n",
              "        7             7.203801\n",
              "Name: ArrDelay, dtype: float64"
            ]
          },
          "metadata": {
            "tags": []
          },
          "execution_count": 75
        }
      ]
    },
    {
      "cell_type": "markdown",
      "metadata": {
        "id": "2ygILTXf8kAk"
      },
      "source": [
        "<h3>Los objetos group by puede guardarse para un posterior uso.</h3>"
      ]
    },
    {
      "cell_type": "code",
      "metadata": {
        "id": "yTdGlX5o8BX4"
      },
      "source": [
        "mygroupby = dfINDHOU.groupby(by=['Origin','DayOfWeek'])['ArrDelay']"
      ],
      "execution_count": 76,
      "outputs": []
    },
    {
      "cell_type": "code",
      "metadata": {
        "id": "1f6fGvwx85U0",
        "outputId": "5561556b-5f61-4ba9-98f4-b7c051210558",
        "colab": {
          "base_uri": "https://localhost:8080/"
        }
      },
      "source": [
        "mygroupby.max()"
      ],
      "execution_count": 77,
      "outputs": [
        {
          "output_type": "execute_result",
          "data": {
            "text/plain": [
              "Origin  DayOfWeek\n",
              "HOU     1            301.0\n",
              "        2            341.0\n",
              "        3            344.0\n",
              "        4            328.0\n",
              "        5            232.0\n",
              "        6            322.0\n",
              "        7            674.0\n",
              "IND     1            382.0\n",
              "        2            434.0\n",
              "        3            399.0\n",
              "        4            462.0\n",
              "        5            246.0\n",
              "        6            162.0\n",
              "        7            309.0\n",
              "Name: ArrDelay, dtype: float64"
            ]
          },
          "metadata": {
            "tags": []
          },
          "execution_count": 77
        }
      ]
    },
    {
      "cell_type": "code",
      "metadata": {
        "id": "tphXhLvB89K5",
        "outputId": "fe89c7de-9e03-438e-f88a-48bdf32ceb7f",
        "colab": {
          "base_uri": "https://localhost:8080/"
        }
      },
      "source": [
        "mygroupby.min()"
      ],
      "execution_count": 78,
      "outputs": [
        {
          "output_type": "execute_result",
          "data": {
            "text/plain": [
              "Origin  DayOfWeek\n",
              "HOU     1           -40.0\n",
              "        2           -37.0\n",
              "        3           -38.0\n",
              "        4           -42.0\n",
              "        5           -40.0\n",
              "        6           -41.0\n",
              "        7           -49.0\n",
              "IND     1           -49.0\n",
              "        2           -40.0\n",
              "        3           -45.0\n",
              "        4           -44.0\n",
              "        5           -43.0\n",
              "        6           -38.0\n",
              "        7           -45.0\n",
              "Name: ArrDelay, dtype: float64"
            ]
          },
          "metadata": {
            "tags": []
          },
          "execution_count": 78
        }
      ]
    },
    {
      "cell_type": "code",
      "metadata": {
        "id": "o084FMvk9B8Z",
        "outputId": "a931dbce-017a-4aa1-adf9-bf679044227e",
        "colab": {
          "base_uri": "https://localhost:8080/",
          "height": 518
        }
      },
      "source": [
        "mygroupby.describe()"
      ],
      "execution_count": 79,
      "outputs": [
        {
          "output_type": "execute_result",
          "data": {
            "text/html": [
              "<div>\n",
              "<style scoped>\n",
              "    .dataframe tbody tr th:only-of-type {\n",
              "        vertical-align: middle;\n",
              "    }\n",
              "\n",
              "    .dataframe tbody tr th {\n",
              "        vertical-align: top;\n",
              "    }\n",
              "\n",
              "    .dataframe thead th {\n",
              "        text-align: right;\n",
              "    }\n",
              "</style>\n",
              "<table border=\"1\" class=\"dataframe\">\n",
              "  <thead>\n",
              "    <tr style=\"text-align: right;\">\n",
              "      <th></th>\n",
              "      <th></th>\n",
              "      <th>count</th>\n",
              "      <th>mean</th>\n",
              "      <th>std</th>\n",
              "      <th>min</th>\n",
              "      <th>25%</th>\n",
              "      <th>50%</th>\n",
              "      <th>75%</th>\n",
              "      <th>max</th>\n",
              "    </tr>\n",
              "    <tr>\n",
              "      <th>Origin</th>\n",
              "      <th>DayOfWeek</th>\n",
              "      <th></th>\n",
              "      <th></th>\n",
              "      <th></th>\n",
              "      <th></th>\n",
              "      <th></th>\n",
              "      <th></th>\n",
              "      <th></th>\n",
              "      <th></th>\n",
              "    </tr>\n",
              "  </thead>\n",
              "  <tbody>\n",
              "    <tr>\n",
              "      <th rowspan=\"7\" valign=\"top\">HOU</th>\n",
              "      <th>1</th>\n",
              "      <td>2020.0</td>\n",
              "      <td>14.536634</td>\n",
              "      <td>38.622199</td>\n",
              "      <td>-40.0</td>\n",
              "      <td>-5.0</td>\n",
              "      <td>1.0</td>\n",
              "      <td>18.00</td>\n",
              "      <td>301.0</td>\n",
              "    </tr>\n",
              "    <tr>\n",
              "      <th>2</th>\n",
              "      <td>1965.0</td>\n",
              "      <td>14.869211</td>\n",
              "      <td>40.113532</td>\n",
              "      <td>-37.0</td>\n",
              "      <td>-5.0</td>\n",
              "      <td>1.0</td>\n",
              "      <td>18.00</td>\n",
              "      <td>341.0</td>\n",
              "    </tr>\n",
              "    <tr>\n",
              "      <th>3</th>\n",
              "      <td>2014.0</td>\n",
              "      <td>13.650447</td>\n",
              "      <td>34.316055</td>\n",
              "      <td>-38.0</td>\n",
              "      <td>-4.0</td>\n",
              "      <td>2.0</td>\n",
              "      <td>18.75</td>\n",
              "      <td>344.0</td>\n",
              "    </tr>\n",
              "    <tr>\n",
              "      <th>4</th>\n",
              "      <td>2025.0</td>\n",
              "      <td>18.280494</td>\n",
              "      <td>40.083354</td>\n",
              "      <td>-42.0</td>\n",
              "      <td>-3.0</td>\n",
              "      <td>5.0</td>\n",
              "      <td>25.00</td>\n",
              "      <td>328.0</td>\n",
              "    </tr>\n",
              "    <tr>\n",
              "      <th>5</th>\n",
              "      <td>2058.0</td>\n",
              "      <td>13.287172</td>\n",
              "      <td>29.493103</td>\n",
              "      <td>-40.0</td>\n",
              "      <td>-4.0</td>\n",
              "      <td>3.0</td>\n",
              "      <td>21.00</td>\n",
              "      <td>232.0</td>\n",
              "    </tr>\n",
              "    <tr>\n",
              "      <th>6</th>\n",
              "      <td>1261.0</td>\n",
              "      <td>4.344964</td>\n",
              "      <td>27.834673</td>\n",
              "      <td>-41.0</td>\n",
              "      <td>-9.0</td>\n",
              "      <td>-2.0</td>\n",
              "      <td>7.00</td>\n",
              "      <td>322.0</td>\n",
              "    </tr>\n",
              "    <tr>\n",
              "      <th>7</th>\n",
              "      <td>1664.0</td>\n",
              "      <td>12.109375</td>\n",
              "      <td>35.464448</td>\n",
              "      <td>-49.0</td>\n",
              "      <td>-5.0</td>\n",
              "      <td>3.0</td>\n",
              "      <td>17.00</td>\n",
              "      <td>674.0</td>\n",
              "    </tr>\n",
              "    <tr>\n",
              "      <th rowspan=\"7\" valign=\"top\">IND</th>\n",
              "      <th>1</th>\n",
              "      <td>1059.0</td>\n",
              "      <td>12.935788</td>\n",
              "      <td>46.257862</td>\n",
              "      <td>-49.0</td>\n",
              "      <td>-10.0</td>\n",
              "      <td>0.0</td>\n",
              "      <td>15.00</td>\n",
              "      <td>382.0</td>\n",
              "    </tr>\n",
              "    <tr>\n",
              "      <th>2</th>\n",
              "      <td>1098.0</td>\n",
              "      <td>20.685792</td>\n",
              "      <td>53.123020</td>\n",
              "      <td>-40.0</td>\n",
              "      <td>-7.0</td>\n",
              "      <td>4.0</td>\n",
              "      <td>26.75</td>\n",
              "      <td>434.0</td>\n",
              "    </tr>\n",
              "    <tr>\n",
              "      <th>3</th>\n",
              "      <td>1122.0</td>\n",
              "      <td>12.058824</td>\n",
              "      <td>38.770789</td>\n",
              "      <td>-45.0</td>\n",
              "      <td>-9.0</td>\n",
              "      <td>2.0</td>\n",
              "      <td>19.00</td>\n",
              "      <td>399.0</td>\n",
              "    </tr>\n",
              "    <tr>\n",
              "      <th>4</th>\n",
              "      <td>1177.0</td>\n",
              "      <td>10.592184</td>\n",
              "      <td>39.115739</td>\n",
              "      <td>-44.0</td>\n",
              "      <td>-9.0</td>\n",
              "      <td>2.0</td>\n",
              "      <td>16.00</td>\n",
              "      <td>462.0</td>\n",
              "    </tr>\n",
              "    <tr>\n",
              "      <th>5</th>\n",
              "      <td>1136.0</td>\n",
              "      <td>13.045775</td>\n",
              "      <td>36.745962</td>\n",
              "      <td>-43.0</td>\n",
              "      <td>-8.0</td>\n",
              "      <td>3.0</td>\n",
              "      <td>22.00</td>\n",
              "      <td>246.0</td>\n",
              "    </tr>\n",
              "    <tr>\n",
              "      <th>6</th>\n",
              "      <td>891.0</td>\n",
              "      <td>1.398429</td>\n",
              "      <td>25.527151</td>\n",
              "      <td>-38.0</td>\n",
              "      <td>-14.0</td>\n",
              "      <td>-4.0</td>\n",
              "      <td>9.00</td>\n",
              "      <td>162.0</td>\n",
              "    </tr>\n",
              "    <tr>\n",
              "      <th>7</th>\n",
              "      <td>947.0</td>\n",
              "      <td>7.203801</td>\n",
              "      <td>35.057001</td>\n",
              "      <td>-45.0</td>\n",
              "      <td>-11.0</td>\n",
              "      <td>-1.0</td>\n",
              "      <td>12.50</td>\n",
              "      <td>309.0</td>\n",
              "    </tr>\n",
              "  </tbody>\n",
              "</table>\n",
              "</div>"
            ],
            "text/plain": [
              "                   count       mean        std   min   25%  50%    75%    max\n",
              "Origin DayOfWeek                                                             \n",
              "HOU    1          2020.0  14.536634  38.622199 -40.0  -5.0  1.0  18.00  301.0\n",
              "       2          1965.0  14.869211  40.113532 -37.0  -5.0  1.0  18.00  341.0\n",
              "       3          2014.0  13.650447  34.316055 -38.0  -4.0  2.0  18.75  344.0\n",
              "       4          2025.0  18.280494  40.083354 -42.0  -3.0  5.0  25.00  328.0\n",
              "       5          2058.0  13.287172  29.493103 -40.0  -4.0  3.0  21.00  232.0\n",
              "       6          1261.0   4.344964  27.834673 -41.0  -9.0 -2.0   7.00  322.0\n",
              "       7          1664.0  12.109375  35.464448 -49.0  -5.0  3.0  17.00  674.0\n",
              "IND    1          1059.0  12.935788  46.257862 -49.0 -10.0  0.0  15.00  382.0\n",
              "       2          1098.0  20.685792  53.123020 -40.0  -7.0  4.0  26.75  434.0\n",
              "       3          1122.0  12.058824  38.770789 -45.0  -9.0  2.0  19.00  399.0\n",
              "       4          1177.0  10.592184  39.115739 -44.0  -9.0  2.0  16.00  462.0\n",
              "       5          1136.0  13.045775  36.745962 -43.0  -8.0  3.0  22.00  246.0\n",
              "       6           891.0   1.398429  25.527151 -38.0 -14.0 -4.0   9.00  162.0\n",
              "       7           947.0   7.203801  35.057001 -45.0 -11.0 -1.0  12.50  309.0"
            ]
          },
          "metadata": {
            "tags": []
          },
          "execution_count": 79
        }
      ]
    }
  ]
}