{
  "nbformat": 4,
  "nbformat_minor": 0,
  "metadata": {
    "colab": {
      "name": "ProdInternoConNorma.ipynb",
      "provenance": [],
      "authorship_tag": "ABX9TyOPFC4tKRAsTj+/uPbhXjRi",
      "include_colab_link": true
    },
    "kernelspec": {
      "name": "python3",
      "display_name": "Python 3"
    },
    "language_info": {
      "name": "python"
    }
  },
  "cells": [
    {
      "cell_type": "markdown",
      "metadata": {
        "id": "view-in-github",
        "colab_type": "text"
      },
      "source": [
        "<a href=\"https://colab.research.google.com/github/yazfir/Projects2021/blob/master/AlgebraLineal/ProdInternoConNorma.ipynb\" target=\"_parent\"><img src=\"https://colab.research.google.com/assets/colab-badge.svg\" alt=\"Open In Colab\"/></a>"
      ]
    },
    {
      "cell_type": "code",
      "metadata": {
        "id": "Rm-JqBqrM-Bd"
      },
      "source": [
        "import numpy as np\n",
        "\n",
        "import matplotlib.pyplot as plt\n",
        "import seaborn as sns"
      ],
      "execution_count": 1,
      "outputs": []
    },
    {
      "cell_type": "markdown",
      "metadata": {
        "id": "L-aaRk0LNSYI"
      },
      "source": [
        "# El producto interno como función de una norma y su visualización\n",
        "\n",
        "$$\n",
        "v_{1}\\\\\n",
        "v_{2}\\\\\n",
        "\\\\\n",
        "\\\\\n",
        "v_{1}^t v_{2} = norma_{2}(v_{1}) norma_{2}(v_{2}) cos(angulo)\n",
        "$$"
      ]
    },
    {
      "cell_type": "code",
      "metadata": {
        "id": "M61gVjkcNRnm"
      },
      "source": [
        "v1 = np.array([0,0,0,3])\n",
        "v2 = np.array([0,0,3,3])"
      ],
      "execution_count": 2,
      "outputs": []
    },
    {
      "cell_type": "code",
      "metadata": {
        "colab": {
          "base_uri": "https://localhost:8080/",
          "height": 596
        },
        "id": "v7Caom9EO_lO",
        "outputId": "79ef7d2c-8e77-4247-8de2-80ded0efd432"
      },
      "source": [
        "plt.figure(figsize=(10,10))\n",
        "\n",
        "plt.xlim(-2,6)\n",
        "plt.ylim(-2,6)\n",
        "\n",
        "\n",
        "\n",
        "plt.quiver([v1[0], v2[0]],\n",
        "           [v1[1], v2[1]],\n",
        "           [v1[2], v2[2]],\n",
        "           [v1[3], v2[3]],\n",
        "           angles = 'xy', scale_units = 'xy', scale = 1,\n",
        "           color = sns.color_palette()\n",
        "          )\n",
        "\n",
        "plt.show()"
      ],
      "execution_count": 5,
      "outputs": [
        {
          "output_type": "display_data",
          "data": {
            "image/png": "[encoded data removed]",
            "text/plain": [
              "<Figure size 720x720 with 1 Axes>"
            ]
          },
          "metadata": {
            "tags": [],
            "needs_background": "light"
          }
        }
      ]
    },
    {
      "cell_type": "code",
      "metadata": {
        "colab": {
          "base_uri": "https://localhost:8080/"
        },
        "id": "yISqLrz4Pypz",
        "outputId": "40a06806-37d0-4b59-8031-0941d661a433"
      },
      "source": [
        "v1 = np.array([0,3])\n",
        "v2 = np.array([3,3])\n",
        "\n",
        "print(v1.T.dot(v2))"
      ],
      "execution_count": 6,
      "outputs": [
        {
          "output_type": "stream",
          "text": [
            "9\n"
          ],
          "name": "stdout"
        }
      ]
    },
    {
      "cell_type": "code",
      "metadata": {
        "colab": {
          "base_uri": "https://localhost:8080/"
        },
        "id": "b8o4meAiP1se",
        "outputId": "b61ef6a9-8975-4a01-9d49-65e458a96d21"
      },
      "source": [
        "norma_v1 = np.linalg.norm(v1)\n",
        "norma_v2 = np.linalg.norm(v2)\n",
        "\n",
        "print(norma_v1 * norma_v2 * np.cos(np.deg2rad(45)))"
      ],
      "execution_count": 7,
      "outputs": [
        {
          "output_type": "stream",
          "text": [
            "9.0\n"
          ],
          "name": "stdout"
        }
      ]
    },
    {
      "cell_type": "code",
      "metadata": {
        "id": "wyKIHACpP5ni"
      },
      "source": [
        ""
      ],
      "execution_count": null,
      "outputs": []
    }
  ]
}