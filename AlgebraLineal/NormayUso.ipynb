{
  "nbformat": 4,
  "nbformat_minor": 0,
  "metadata": {
    "colab": {
      "name": "NormayUso.ipynb",
      "provenance": [],
      "authorship_tag": "ABX9TyPWqmHuj6DfmUbaNTbyABxd",
      "include_colab_link": true
    },
    "kernelspec": {
      "name": "python3",
      "display_name": "Python 3"
    },
    "language_info": {
      "name": "python"
    }
  },
  "cells": [
    {
      "cell_type": "markdown",
      "metadata": {
        "id": "view-in-github",
        "colab_type": "text"
      },
      "source": [
        "<a href=\"https://colab.research.google.com/github/yazfir/Projects2021/blob/master/AlgebraLineal/NormayUso.ipynb\" target=\"_parent\"><img src=\"https://colab.research.google.com/assets/colab-badge.svg\" alt=\"Open In Colab\"/></a>"
      ]
    },
    {
      "cell_type": "code",
      "metadata": {
        "id": "Z10PCl30r3sD"
      },
      "source": [
        "import numpy as np\n",
        "\n",
        "import matplotlib.pyplot as plt\n",
        "import seaborn as sns # Para utilizar paleta de colores al graficar"
      ],
      "execution_count": 2,
      "outputs": []
    },
    {
      "cell_type": "markdown",
      "metadata": {
        "id": "O2R2yI9hsKsw"
      },
      "source": [
        "# Norma\n",
        "\n",
        "- Con el podemos medir el tamaño de un vector.\n",
        "\n",
        "- En machine learnign, ¿ por qué querríamos saber el tamaño de un vector ? Por ejemplo, para saber cuál es el error que estamos cometiendo al hacer nuestras aproximaciones o las clasificaciones.\n",
        "\n",
        "```\n",
        "Propiedades\n",
        "\n",
        "- noma(v) >= 0\n",
        "- nomra(v) = 0 sólo sí v = 0\n",
        "- Si realizamos la suma de 2 vectores v3 = v1 + v2 y calculamos entonces sus nomras:\n",
        "\n",
        "norma(v3) <= norma(v1) + norma(v2)\n",
        "\n",
        "- Norma de una escalar por un vector es igual al valor absoluto de la escalar por la norma del vector original\n",
        "\n",
        "norma(a*v) = abs(a)*norma(v)\n",
        "```\n"
      ]
    },
    {
      "cell_type": "code",
      "metadata": {
        "colab": {
          "base_uri": "https://localhost:8080/"
        },
        "id": "LNJ4VkMhwQLW",
        "outputId": "b78e52f5-1109-42cc-9aac-ea44e2ac130e"
      },
      "source": [
        "v1 = np.array([2,7])\n",
        "v2 = np.array([3,5])\n",
        "\n",
        "print(v1)\n",
        "print(v2)"
      ],
      "execution_count": 3,
      "outputs": [
        {
          "output_type": "stream",
          "text": [
            "[2 7]\n",
            "[3 5]\n"
          ],
          "name": "stdout"
        }
      ]
    },
    {
      "cell_type": "code",
      "metadata": {
        "colab": {
          "base_uri": "https://localhost:8080/"
        },
        "id": "e-H9hY7gzsZM",
        "outputId": "36f57589-1ea7-4a24-e1b3-c2af754d2d91"
      },
      "source": [
        "v1v2 = v1+v2\n",
        "print(v1v2)"
      ],
      "execution_count": 5,
      "outputs": [
        {
          "output_type": "stream",
          "text": [
            "[ 5 12]\n"
          ],
          "name": "stdout"
        }
      ]
    },
    {
      "cell_type": "code",
      "metadata": {
        "colab": {
          "base_uri": "https://localhost:8080/"
        },
        "id": "yClZRfl0zv8q",
        "outputId": "482d1329-02d9-4ff0-88e3-20fc01ff91a3"
      },
      "source": [
        "np.linalg.norm(v1v2)"
      ],
      "execution_count": 7,
      "outputs": [
        {
          "output_type": "execute_result",
          "data": {
            "text/plain": [
              "13.0"
            ]
          },
          "metadata": {
            "tags": []
          },
          "execution_count": 7
        }
      ]
    },
    {
      "cell_type": "code",
      "metadata": {
        "colab": {
          "base_uri": "https://localhost:8080/"
        },
        "id": "yED0yuFwz4mf",
        "outputId": "59692cfa-c989-4b42-c469-1cbcd69d5334"
      },
      "source": [
        "# norma(v1v2) <= norma (v1) + norma(v2)\n",
        "\n",
        "norma_v1 = np.linalg.norm(v1)\n",
        "norma_v2 = np.linalg.norm(v2)\n",
        "norma_v1v2 = np.linalg.norm(v1v2)\n",
        "\n",
        "print(norma_v1v2 <= (norma_v1 + norma_v2))"
      ],
      "execution_count": 9,
      "outputs": [
        {
          "output_type": "stream",
          "text": [
            "True\n"
          ],
          "name": "stdout"
        }
      ]
    },
    {
      "cell_type": "code",
      "metadata": {
        "colab": {
          "base_uri": "https://localhost:8080/"
        },
        "id": "QUf68sIA0aOh",
        "outputId": "fbd88b4d-a705-45fb-b6ee-e9685fb38e91"
      },
      "source": [
        "print(norma_v1+norma_v2)"
      ],
      "execution_count": 10,
      "outputs": [
        {
          "output_type": "stream",
          "text": [
            "13.11106178412582\n"
          ],
          "name": "stdout"
        }
      ]
    },
    {
      "cell_type": "code",
      "metadata": {
        "id": "hpDwcXSL0a9_"
      },
      "source": [
        "v1 = np.array([0,0,2,7])\n",
        "v2 = np.array([0,0,3,5])\n",
        "\n",
        "v1_aux = np.array([v1[2],v1[3],v2[2],v2[3]])\n",
        "v1v2 = np.array([0,0,5,12])"
      ],
      "execution_count": 11,
      "outputs": []
    },
    {
      "cell_type": "code",
      "metadata": {
        "colab": {
          "base_uri": "https://localhost:8080/",
          "height": 609
        },
        "id": "BrjKV5F50eBA",
        "outputId": "7362ba02-cfa4-41b3-cae5-5391e5867a76"
      },
      "source": [
        "plt.figure(figsize=(10,10))\n",
        "\n",
        "plt.quiver([v1[0], v1_aux[0], v1v2[0]],\n",
        "           [v1[1], v1_aux[1], v1v2[1]],\n",
        "           [v1[2], v1_aux[2], v1v2[2]],\n",
        "           [v1[3], v1_aux[3], v1v2[3]],\n",
        "          angles = 'xy', scale_units = 'xy', scale = 1,\n",
        "           color = sns.color_palette()          \n",
        "          )\n",
        "\n",
        "plt.xlim(-0.5, 6)\n",
        "plt.ylim(-0.5, 15)"
      ],
      "execution_count": 17,
      "outputs": [
        {
          "output_type": "execute_result",
          "data": {
            "text/plain": [
              "(-0.5, 15.0)"
            ]
          },
          "metadata": {
            "tags": []
          },
          "execution_count": 17
        },
        {
          "output_type": "display_data",
          "data": {
            "image/png": "[encoded data removed]",
            "text/plain": [
              "<Figure size 720x720 with 1 Axes>"
            ]
          },
          "metadata": {
            "tags": [],
            "needs_background": "light"
          }
        }
      ]
    },
    {
      "cell_type": "markdown",
      "metadata": {
        "id": "HmanQZc8363c"
      },
      "source": [
        "El gráfico anterior representa la desigualdad triangular."
      ]
    }
  ]
}