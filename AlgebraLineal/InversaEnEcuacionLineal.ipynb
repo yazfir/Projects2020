{
  "nbformat": 4,
  "nbformat_minor": 0,
  "metadata": {
    "colab": {
      "name": "InversaEnEcuacionLineal.ipynb",
      "provenance": [],
      "authorship_tag": "ABX9TyM2Lk88OcRe5GHckKpO6k/H",
      "include_colab_link": true
    },
    "kernelspec": {
      "name": "python3",
      "display_name": "Python 3"
    },
    "language_info": {
      "name": "python"
    }
  },
  "cells": [
    {
      "cell_type": "markdown",
      "metadata": {
        "id": "view-in-github",
        "colab_type": "text"
      },
      "source": [
        "<a href=\"https://colab.research.google.com/github/yazfir/Projects2021/blob/master/AlgebraLineal/InversaEnEcuacionLineal.ipynb\" target=\"_parent\"><img src=\"https://colab.research.google.com/assets/colab-badge.svg\" alt=\"Open In Colab\"/></a>"
      ]
    },
    {
      "cell_type": "code",
      "metadata": {
        "id": "5FegU7nJ1v1P"
      },
      "source": [
        "import numpy as np"
      ],
      "execution_count": 1,
      "outputs": []
    },
    {
      "cell_type": "markdown",
      "metadata": {
        "id": "E77TJoXp11XH"
      },
      "source": [
        "# Aplicando la inversa de una matriz en un sistema de ecuaciones lineal\n",
        "\n",
        "\n",
        "3x + y = 1\n",
        "\n",
        "2x + y = 1\n",
        "\n",
        "$$\n",
        "\\begin{bmatrix}\n",
        "3 & 1\\\\\n",
        "2 & 1\n",
        "\\end{bmatrix}\n",
        "\\begin{bmatrix}\n",
        "x\\\\\n",
        "y\n",
        "\\end{bmatrix}=\n",
        "\\begin{bmatrix}\n",
        "1\\\\\n",
        "1\n",
        "\\end{bmatrix}\n",
        "$$\n",
        "\n",
        "A*x = b\n"
      ]
    },
    {
      "cell_type": "code",
      "metadata": {
        "id": "fj7THWcf5wRW"
      },
      "source": [
        "np.set_printoptions(suppress=True) # Ayuda a que si un número es muy cercano a cero no muestre todos los decimales, sólo cero."
      ],
      "execution_count": 2,
      "outputs": []
    },
    {
      "cell_type": "code",
      "metadata": {
        "colab": {
          "base_uri": "https://localhost:8080/"
        },
        "id": "j304DXCR53Hh",
        "outputId": "80acc559-9dab-4788-840a-120d3be87a5b"
      },
      "source": [
        "A = np.array([[3,1],[2,1]])\n",
        "A"
      ],
      "execution_count": 3,
      "outputs": [
        {
          "output_type": "execute_result",
          "data": {
            "text/plain": [
              "array([[3, 1],\n",
              "       [2, 1]])"
            ]
          },
          "metadata": {
            "tags": []
          },
          "execution_count": 3
        }
      ]
    },
    {
      "cell_type": "code",
      "metadata": {
        "colab": {
          "base_uri": "https://localhost:8080/"
        },
        "id": "DHNsgLQp6KcE",
        "outputId": "457cde87-5627-4109-f054-d6460a6c7dd5"
      },
      "source": [
        "b = np.array([[1],[1]])\n",
        "b"
      ],
      "execution_count": 4,
      "outputs": [
        {
          "output_type": "execute_result",
          "data": {
            "text/plain": [
              "array([[1],\n",
              "       [1]])"
            ]
          },
          "metadata": {
            "tags": []
          },
          "execution_count": 4
        }
      ]
    },
    {
      "cell_type": "code",
      "metadata": {
        "colab": {
          "base_uri": "https://localhost:8080/"
        },
        "id": "cZVqxTox6-pg",
        "outputId": "923b41e5-26a1-4e14-9507-f236771f4b8a"
      },
      "source": [
        "inversa_A = np.linalg.inv(A)\n",
        "inversa_A"
      ],
      "execution_count": 6,
      "outputs": [
        {
          "output_type": "execute_result",
          "data": {
            "text/plain": [
              "array([[ 1., -1.],\n",
              "       [-2.,  3.]])"
            ]
          },
          "metadata": {
            "tags": []
          },
          "execution_count": 6
        }
      ]
    },
    {
      "cell_type": "code",
      "metadata": {
        "colab": {
          "base_uri": "https://localhost:8080/"
        },
        "id": "1tm6n7ie7-Ja",
        "outputId": "7d06125c-e848-4f2e-d293-20438ccedf31"
      },
      "source": [
        "x = inversa_A.dot(b)\n",
        "x"
      ],
      "execution_count": 8,
      "outputs": [
        {
          "output_type": "execute_result",
          "data": {
            "text/plain": [
              "array([[0.],\n",
              "       [1.]])"
            ]
          },
          "metadata": {
            "tags": []
          },
          "execution_count": 8
        }
      ]
    },
    {
      "cell_type": "markdown",
      "metadata": {
        "id": "ADmbyevy-n1s"
      },
      "source": [
        "Entonces:\n",
        "\n",
        "x = 0 y = 1"
      ]
    },
    {
      "cell_type": "code",
      "metadata": {
        "colab": {
          "base_uri": "https://localhost:8080/"
        },
        "id": "w3bSU-Hl_epk",
        "outputId": "1b3db4ff-456c-4aea-f54b-89f65f9dfbca"
      },
      "source": [
        "# Comprobación\n",
        "print(A.dot(x))"
      ],
      "execution_count": 17,
      "outputs": [
        {
          "output_type": "stream",
          "text": [
            "[[1.]\n",
            " [1.]]\n"
          ],
          "name": "stdout"
        }
      ]
    },
    {
      "cell_type": "markdown",
      "metadata": {
        "id": "LJtPTNTg8jgs"
      },
      "source": [
        "-3x + y = 5\n",
        "\n",
        "-2x + y = 3\n",
        "\n",
        "$$\n",
        "\\begin{bmatrix}\n",
        "-3 & 1\\\\\n",
        "-2 & 1\n",
        "\\end{bmatrix}\n",
        "\\begin{bmatrix}\n",
        "x\\\\\n",
        "y\n",
        "\\end{bmatrix}=\n",
        "\\begin{bmatrix}\n",
        "5\\\\\n",
        "3\n",
        "\\end{bmatrix}\n",
        "$$\n",
        "\n",
        "A*x = b\n"
      ]
    },
    {
      "cell_type": "code",
      "metadata": {
        "colab": {
          "base_uri": "https://localhost:8080/"
        },
        "id": "JmzN9pLU83Lr",
        "outputId": "28bc3973-3fa7-44a0-c024-c7dffb2f589b"
      },
      "source": [
        "A2 = np.array([[-3,1],[-2,1]])\n",
        "A2"
      ],
      "execution_count": 10,
      "outputs": [
        {
          "output_type": "execute_result",
          "data": {
            "text/plain": [
              "array([[-3,  1],\n",
              "       [-2,  1]])"
            ]
          },
          "metadata": {
            "tags": []
          },
          "execution_count": 10
        }
      ]
    },
    {
      "cell_type": "code",
      "metadata": {
        "colab": {
          "base_uri": "https://localhost:8080/"
        },
        "id": "BXzVMfH29QNL",
        "outputId": "fb409bcc-0800-4ee7-f40e-d6bd14e9b53d"
      },
      "source": [
        "A2_inversa = np.linalg.inv(A2)\n",
        "A2_inversa"
      ],
      "execution_count": 11,
      "outputs": [
        {
          "output_type": "execute_result",
          "data": {
            "text/plain": [
              "array([[-1.,  1.],\n",
              "       [-2.,  3.]])"
            ]
          },
          "metadata": {
            "tags": []
          },
          "execution_count": 11
        }
      ]
    },
    {
      "cell_type": "code",
      "metadata": {
        "colab": {
          "base_uri": "https://localhost:8080/"
        },
        "id": "xwgzT7EC9haM",
        "outputId": "5eecd1bb-a3f7-4f84-82af-eea806b1961d"
      },
      "source": [
        "b2 = np.array([[5],[3]])\n",
        "b2"
      ],
      "execution_count": 15,
      "outputs": [
        {
          "output_type": "execute_result",
          "data": {
            "text/plain": [
              "array([[5],\n",
              "       [3]])"
            ]
          },
          "metadata": {
            "tags": []
          },
          "execution_count": 15
        }
      ]
    },
    {
      "cell_type": "code",
      "metadata": {
        "colab": {
          "base_uri": "https://localhost:8080/"
        },
        "id": "xDBIqHne-JB-",
        "outputId": "14307ba3-a4d0-4547-a1e9-e03162dc5153"
      },
      "source": [
        "x2 = A2_inversa.dot(b2)\n",
        "x2"
      ],
      "execution_count": 16,
      "outputs": [
        {
          "output_type": "execute_result",
          "data": {
            "text/plain": [
              "array([[-2.],\n",
              "       [-1.]])"
            ]
          },
          "metadata": {
            "tags": []
          },
          "execution_count": 16
        }
      ]
    },
    {
      "cell_type": "markdown",
      "metadata": {
        "id": "GkrFglgU-d7w"
      },
      "source": [
        "Entonces:\n",
        "\n",
        "x = -2 y = -1"
      ]
    },
    {
      "cell_type": "code",
      "metadata": {
        "colab": {
          "base_uri": "https://localhost:8080/"
        },
        "id": "7-3opH10_snl",
        "outputId": "2f62434c-c16b-42b9-e7c4-38aa79aade68"
      },
      "source": [
        "#Comprobación\n",
        "\n",
        "print(A2.dot(x2))"
      ],
      "execution_count": 18,
      "outputs": [
        {
          "output_type": "stream",
          "text": [
            "[[5.]\n",
            " [3.]]\n"
          ],
          "name": "stdout"
        }
      ]
    }
  ]
}