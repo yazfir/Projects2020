{
  "nbformat": 4,
  "nbformat_minor": 0,
  "metadata": {
    "colab": {
      "name": "CombinacionLineal.ipynb",
      "provenance": [],
      "toc_visible": true,
      "authorship_tag": "ABX9TyMxR6he0VMRfHhY659YX484",
      "include_colab_link": true
    },
    "kernelspec": {
      "name": "python3",
      "display_name": "Python 3"
    },
    "language_info": {
      "name": "python"
    }
  },
  "cells": [
    {
      "cell_type": "markdown",
      "metadata": {
        "id": "view-in-github",
        "colab_type": "text"
      },
      "source": [
        "<a href=\"https://colab.research.google.com/github/yazfir/Projects2021/blob/master/AlgebraLineal/CombinacionLineal.ipynb\" target=\"_parent\"><img src=\"https://colab.research.google.com/assets/colab-badge.svg\" alt=\"Open In Colab\"/></a>"
      ]
    },
    {
      "cell_type": "code",
      "metadata": {
        "id": "khIWKn1j8raN"
      },
      "source": [
        "import numpy as np\n",
        "import matplotlib.pyplot as plt"
      ],
      "execution_count": 1,
      "outputs": []
    },
    {
      "cell_type": "markdown",
      "metadata": {
        "id": "QUp2Qog49VWJ"
      },
      "source": [
        "# Combinación Lineal\n",
        "\n",
        "Es la multiplicación de un Vector (v1) multiplicado por una escalar más la multiplicación de otro Vector (v2) por otra escalar.\n",
        "\n",
        "( v1 * 2 ) + ( v2 * 3 ) = v1 v2"
      ]
    },
    {
      "cell_type": "code",
      "metadata": {
        "id": "WFdIqLu0846f"
      },
      "source": [
        "%run 'AuxFun.ipynb'"
      ],
      "execution_count": 2,
      "outputs": []
    },
    {
      "cell_type": "code",
      "metadata": {
        "id": "QkJLadLp-TO6"
      },
      "source": [
        "v1 = np.array([2,5])\n",
        "v2 = np.array([3,2])"
      ],
      "execution_count": 4,
      "outputs": []
    },
    {
      "cell_type": "code",
      "metadata": {
        "colab": {
          "base_uri": "https://localhost:8080/"
        },
        "id": "ekg_4KwG-gIq",
        "outputId": "6fc3b66f-fa7f-4c01-e6be-e93aaec5ebdf"
      },
      "source": [
        "v1v2 = ( 2 * v1 ) + ( 1 * v2 )\n",
        "\n",
        "v1v2"
      ],
      "execution_count": 9,
      "outputs": [
        {
          "output_type": "execute_result",
          "data": {
            "text/plain": [
              "array([ 7, 12])"
            ]
          },
          "metadata": {
            "tags": []
          },
          "execution_count": 9
        }
      ]
    },
    {
      "cell_type": "code",
      "metadata": {
        "colab": {
          "base_uri": "https://localhost:8080/",
          "height": 286
        },
        "id": "J9CgobI7-zxR",
        "outputId": "cf05372e-3c62-46c1-c94d-fb30d83d6a9f"
      },
      "source": [
        "graficarVectores([v1, v2, v1v2], ['orange','blue','red'])\n",
        "\n",
        "plt.xlim(-1, 8)\n",
        "plt.ylim(-1, 12)"
      ],
      "execution_count": 10,
      "outputs": [
        {
          "output_type": "execute_result",
          "data": {
            "text/plain": [
              "(-1.0, 12.0)"
            ]
          },
          "metadata": {
            "tags": []
          },
          "execution_count": 10
        },
        {
          "output_type": "display_data",
          "data": {
            "image/png": "[encoded data removed]",
            "text/plain": [
              "<Figure size 432x288 with 1 Axes>"
            ]
          },
          "metadata": {
            "tags": [],
            "needs_background": "light"
          }
        }
      ]
    },
    {
      "cell_type": "code",
      "metadata": {
        "colab": {
          "base_uri": "https://localhost:8080/",
          "height": 265
        },
        "id": "habJ_YPn_E1K",
        "outputId": "6e9196c8-f535-4bd5-fb73-d6fb86f400f4"
      },
      "source": [
        "#Se definen todos los lugares por los que queremos que varien nuestros vectores\n",
        "\n",
        "for a in range(-10,10):                 # Escalar 'a' en el rango -10 a 10\n",
        "    for b in range(-10,10):             # Escalar 'b' en el rango -10 a 10\n",
        "\n",
        "        plt.scatter(\n",
        "            v1[0]*a + v2[0]*b, \n",
        "            v1[1]*a + v2[1]*b,\n",
        "            marker = '.',\n",
        "            color = \"orange\")\n",
        "        \n",
        "plt.xlim(-70,70)\n",
        "plt.ylim(-80,70)\n",
        "\n",
        "plt.axvline(x=0, color='grey')\n",
        "plt.axhline(y=0, color='grey')\n",
        "\n",
        "plt.show()"
      ],
      "execution_count": 21,
      "outputs": [
        {
          "output_type": "display_data",
          "data": {
            "image/png": "[encoded data removed]",
            "text/plain": [
              "<Figure size 432x288 with 1 Axes>"
            ]
          },
          "metadata": {
            "tags": [],
            "needs_background": "light"
          }
        }
      ]
    }
  ]
}