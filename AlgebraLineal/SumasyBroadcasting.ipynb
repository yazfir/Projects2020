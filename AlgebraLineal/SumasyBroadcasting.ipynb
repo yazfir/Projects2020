{
  "nbformat": 4,
  "nbformat_minor": 0,
  "metadata": {
    "colab": {
      "name": "SumasyBroadcasting.ipynb",
      "provenance": [],
      "authorship_tag": "ABX9TyPKxxfIWqZppALWPq13EeXB",
      "include_colab_link": true
    },
    "kernelspec": {
      "name": "python3",
      "display_name": "Python 3"
    },
    "language_info": {
      "name": "python"
    }
  },
  "cells": [
    {
      "cell_type": "markdown",
      "metadata": {
        "id": "view-in-github",
        "colab_type": "text"
      },
      "source": [
        "<a href=\"https://colab.research.google.com/github/yazfir/Projects2021/blob/master/AlgebraLineal/SumasyBroadcasting.ipynb\" target=\"_parent\"><img src=\"https://colab.research.google.com/assets/colab-badge.svg\" alt=\"Open In Colab\"/></a>"
      ]
    },
    {
      "cell_type": "code",
      "metadata": {
        "id": "YGSYkysCCLmR"
      },
      "source": [
        "import numpy as np"
      ],
      "execution_count": 1,
      "outputs": []
    },
    {
      "cell_type": "markdown",
      "metadata": {
        "id": "sjF1MtnGCjQ_"
      },
      "source": [
        "# Suma de Matrices (Con Dimensiones Distintas)"
      ]
    },
    {
      "cell_type": "code",
      "metadata": {
        "id": "5i2WFOl2CfZW"
      },
      "source": [
        "escalar = 5.679\n",
        "vector = np.array([3,4,5])\n",
        "matriz = np.array([[1,2],[3,4],[5,6]])"
      ],
      "execution_count": 2,
      "outputs": []
    },
    {
      "cell_type": "markdown",
      "metadata": {
        "id": "2VhHOqvJDTAL"
      },
      "source": [
        "A = vector + matriz = error\n",
        "\n",
        "$$ C = \\begin{bmatrix}\n",
        "1 & 2\\\\\n",
        "3 & 4\\\\\n",
        "5 & 6\n",
        "\\end{bmatrix} +\n",
        "\\begin{bmatrix}\n",
        "3 & 4 & 5\n",
        "\\end{bmatrix} = error$$"
      ]
    },
    {
      "cell_type": "code",
      "metadata": {
        "colab": {
          "base_uri": "https://localhost:8080/",
          "height": 198
        },
        "id": "_YYSfDhwHy6V",
        "outputId": "4a0e1fb1-9dc1-4118-b13c-38f09fed59d0"
      },
      "source": [
        "A = vector + matriz\n",
        "\n",
        "A"
      ],
      "execution_count": 3,
      "outputs": [
        {
          "output_type": "error",
          "ename": "ValueError",
          "evalue": "ignored",
          "traceback": [
            "\u001b[0;31m---------------------------------------------------------------------------\u001b[0m",
            "\u001b[0;31mValueError\u001b[0m                                Traceback (most recent call last)",
            "\u001b[0;32m<ipython-input-3-dbd1e3f36164>\u001b[0m in \u001b[0;36m<module>\u001b[0;34m()\u001b[0m\n\u001b[0;32m----> 1\u001b[0;31m \u001b[0mA\u001b[0m \u001b[0;34m=\u001b[0m \u001b[0mvector\u001b[0m \u001b[0;34m+\u001b[0m \u001b[0mmatriz\u001b[0m\u001b[0;34m\u001b[0m\u001b[0;34m\u001b[0m\u001b[0m\n\u001b[0m\u001b[1;32m      2\u001b[0m \u001b[0;34m\u001b[0m\u001b[0m\n\u001b[1;32m      3\u001b[0m \u001b[0mA\u001b[0m\u001b[0;34m\u001b[0m\u001b[0;34m\u001b[0m\u001b[0m\n",
            "\u001b[0;31mValueError\u001b[0m: operands could not be broadcast together with shapes (3,) (3,2) "
          ]
        }
      ]
    },
    {
      "cell_type": "markdown",
      "metadata": {
        "id": "ZvFSPsqLIARk"
      },
      "source": [
        "A = vector + matriz_t = ...\n",
        "\n",
        "$$ A = \\begin{bmatrix}\n",
        "1 & 3 & 5\\\\\n",
        "2 & 4 & 6\n",
        "\\end{bmatrix} +\n",
        "\\begin{bmatrix}\n",
        "3 & 4 & 5\n",
        "\\end{bmatrix}=\n",
        "\\begin{bmatrix}\n",
        "4 & 7 & 10\\\\\n",
        "5 & 8 & 11\n",
        "\\end{bmatrix}\n",
        "$$"
      ]
    },
    {
      "cell_type": "code",
      "metadata": {
        "colab": {
          "base_uri": "https://localhost:8080/"
        },
        "id": "5AVhpdm5Kpbf",
        "outputId": "9341dc95-2072-4ea9-a1fe-c4c78b77eb49"
      },
      "source": [
        "A = matriz.T + vector\n",
        "print(matriz.T)\n",
        "print('\\n')\n",
        "print(vector)\n",
        "print('\\n')\n",
        "print(A)"
      ],
      "execution_count": 4,
      "outputs": [
        {
          "output_type": "stream",
          "text": [
            "[[1 3 5]\n",
            " [2 4 6]]\n",
            "\n",
            "\n",
            "[3 4 5]\n",
            "\n",
            "\n",
            "[[ 4  7 10]\n",
            " [ 5  8 11]]\n"
          ],
          "name": "stdout"
        }
      ]
    },
    {
      "cell_type": "markdown",
      "metadata": {
        "id": "JeC-vtM9N1fe"
      },
      "source": [
        "#Broadcasting"
      ]
    },
    {
      "cell_type": "code",
      "metadata": {
        "colab": {
          "base_uri": "https://localhost:8080/"
        },
        "id": "25CpV9-2M-0A",
        "outputId": "6e2b161e-7d92-4727-f4f6-2f648b90a6d6"
      },
      "source": [
        "D = matriz + np.array([[42],[42],[42]])\n",
        "D"
      ],
      "execution_count": 12,
      "outputs": [
        {
          "output_type": "execute_result",
          "data": {
            "text/plain": [
              "array([[43, 44],\n",
              "       [45, 46],\n",
              "       [47, 48]])"
            ]
          },
          "metadata": {
            "tags": []
          },
          "execution_count": 12
        }
      ]
    },
    {
      "cell_type": "code",
      "metadata": {
        "colab": {
          "base_uri": "https://localhost:8080/"
        },
        "id": "yCQ1n8BnLPTH",
        "outputId": "2624a6c8-1301-42c5-8bac-8d752addaee3"
      },
      "source": [
        "C = matriz + 42  # Esto se llama broadcasting y es completar el elemento de menor dimensión hasta completar el de mayor dimensión\n",
        "C"
      ],
      "execution_count": 11,
      "outputs": [
        {
          "output_type": "execute_result",
          "data": {
            "text/plain": [
              "array([[43, 44],\n",
              "       [45, 46],\n",
              "       [47, 48]])"
            ]
          },
          "metadata": {
            "tags": []
          },
          "execution_count": 11
        }
      ]
    }
  ]
}