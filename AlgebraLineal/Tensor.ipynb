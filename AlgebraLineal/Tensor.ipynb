{
  "nbformat": 4,
  "nbformat_minor": 0,
  "metadata": {
    "colab": {
      "name": "Tensor.ipynb",
      "provenance": [],
      "authorship_tag": "ABX9TyNIx+0ROqe3ZDpxk+85xyrt",
      "include_colab_link": true
    },
    "kernelspec": {
      "name": "python3",
      "display_name": "Python 3"
    },
    "language_info": {
      "name": "python"
    }
  },
  "cells": [
    {
      "cell_type": "markdown",
      "metadata": {
        "id": "view-in-github",
        "colab_type": "text"
      },
      "source": [
        "<a href=\"https://colab.research.google.com/github/yazfir/Projects2021/blob/master/AlgebraLineal/Tensor.ipynb\" target=\"_parent\"><img src=\"https://colab.research.google.com/assets/colab-badge.svg\" alt=\"Open In Colab\"/></a>"
      ]
    },
    {
      "cell_type": "markdown",
      "metadata": {
        "id": "5oQuXgv5pCve"
      },
      "source": [
        "## Una escalar en matemáticas no es más que un número."
      ]
    },
    {
      "cell_type": "code",
      "metadata": {
        "colab": {
          "base_uri": "https://localhost:8080/"
        },
        "id": "4YLDL9ssnOAu",
        "outputId": "23758c59-7a45-4b6d-e3ba-53af117188ae"
      },
      "source": [
        "escalar = 5.678\n",
        "\n",
        "escalar"
      ],
      "execution_count": 1,
      "outputs": [
        {
          "output_type": "execute_result",
          "data": {
            "text/plain": [
              "5.678"
            ]
          },
          "metadata": {
            "tags": []
          },
          "execution_count": 1
        }
      ]
    },
    {
      "cell_type": "markdown",
      "metadata": {
        "id": "ePPDMBDbqeQF"
      },
      "source": [
        "## En Python una escalar es cualquier asignación a una variable de cualquiera de los tipos que maneja el lenguaje de programación."
      ]
    },
    {
      "cell_type": "code",
      "metadata": {
        "colab": {
          "base_uri": "https://localhost:8080/"
        },
        "id": "_snN4g1-qxS6",
        "outputId": "f404f4d6-9430-49ab-a26a-843b1c0f83ad"
      },
      "source": [
        "escalar_python = True\n",
        "\n",
        "print(escalar_python)\n",
        "\n",
        "type(escalar_python)"
      ],
      "execution_count": 4,
      "outputs": [
        {
          "output_type": "stream",
          "text": [
            "True\n"
          ],
          "name": "stdout"
        },
        {
          "output_type": "execute_result",
          "data": {
            "text/plain": [
              "bool"
            ]
          },
          "metadata": {
            "tags": []
          },
          "execution_count": 4
        }
      ]
    },
    {
      "cell_type": "markdown",
      "metadata": {
        "id": "SHqBTmgxr5-2"
      },
      "source": [
        "## El vector esta compuesto por contener varios escalares:\n",
        "\n",
        "\n",
        "```\n",
        "* [ 1, 2, 3, 4, 5 ]   ***  # Tiene un grado de libertad.***\n",
        "```\n",
        "\n",
        "## La matriz esta compuesta por contener varios vectores:\n",
        "\n",
        "\n",
        "\n",
        "```\n",
        "* [1,2,3]\n",
        "  [4,5,6]\n",
        "  [7,8,9]   **# Tiene 2 grados de libertad (Filas y Columnas)**\n",
        "```\n",
        "\n",
        "## El tensor esta compuesto por contener varias matrices:\n",
        "\n",
        "\n",
        "\n",
        "```\n",
        "  [1,2,3]  [1,2,3]  [1,2,3]\n",
        "  [4,5,6]  [4,5,6]  [4,5,6]\n",
        "  [7,8,9]  [7,8,9]  [7,8,9]     **# Tiene 3 grados de libertad (Filas, Columnas y Dimensión)**\n",
        "```\n",
        "\n",
        "\n",
        "\n",
        "\n",
        "\n",
        "\n"
      ]
    },
    {
      "cell_type": "code",
      "metadata": {
        "colab": {
          "base_uri": "https://localhost:8080/"
        },
        "id": "OB7TPzWxujE-",
        "outputId": "5a014a47-4b68-4233-cc68-1c2d7784d7c0"
      },
      "source": [
        "import numpy as np  # numpy: numerical python\n",
        "\n",
        "vector = np.array([1,2,3,4])\n",
        "\n",
        "vector\n"
      ],
      "execution_count": 5,
      "outputs": [
        {
          "output_type": "execute_result",
          "data": {
            "text/plain": [
              "array([1, 2, 3, 4])"
            ]
          },
          "metadata": {
            "tags": []
          },
          "execution_count": 5
        }
      ]
    },
    {
      "cell_type": "code",
      "metadata": {
        "colab": {
          "base_uri": "https://localhost:8080/"
        },
        "id": "DH_nKIw3u6hc",
        "outputId": "7d485a59-3788-45d4-9805-3939e31938fd"
      },
      "source": [
        "matriz = np.array([[1,2,3],[4,5,6],[7,8,9]])\n",
        "\n",
        "matriz"
      ],
      "execution_count": 6,
      "outputs": [
        {
          "output_type": "execute_result",
          "data": {
            "text/plain": [
              "array([[1, 2, 3],\n",
              "       [4, 5, 6],\n",
              "       [7, 8, 9]])"
            ]
          },
          "metadata": {
            "tags": []
          },
          "execution_count": 6
        }
      ]
    },
    {
      "cell_type": "code",
      "metadata": {
        "colab": {
          "base_uri": "https://localhost:8080/"
        },
        "id": "o4Uw6EbOvONC",
        "outputId": "2ddf246e-7418-415a-a1f8-7b8d7b9d9d67"
      },
      "source": [
        "tensor = np.array([\n",
        "                   \n",
        "                   [[1,2,3],[4,5,6],[7,8,9]],\n",
        "                   [[10,11,12],[13,14,15],[16,17,18]],\n",
        "                   [[19,20,21],[22,23,24],[25,26,27]],\n",
        "])\n",
        "\n",
        "tensor"
      ],
      "execution_count": 7,
      "outputs": [
        {
          "output_type": "execute_result",
          "data": {
            "text/plain": [
              "array([[[ 1,  2,  3],\n",
              "        [ 4,  5,  6],\n",
              "        [ 7,  8,  9]],\n",
              "\n",
              "       [[10, 11, 12],\n",
              "        [13, 14, 15],\n",
              "        [16, 17, 18]],\n",
              "\n",
              "       [[19, 20, 21],\n",
              "        [22, 23, 24],\n",
              "        [25, 26, 27]]])"
            ]
          },
          "metadata": {
            "tags": []
          },
          "execution_count": 7
        }
      ]
    },
    {
      "cell_type": "code",
      "metadata": {
        "colab": {
          "base_uri": "https://localhost:8080/",
          "height": 269
        },
        "id": "HFq9vTxH2N6w",
        "outputId": "6ada54f5-438f-452a-ff8f-92838c8d26e4"
      },
      "source": [
        "import matplotlib.pyplot as plt\n",
        "\n",
        "plt.imshow(tensor, interpolation='nearest')\n",
        "plt.show()"
      ],
      "execution_count": 9,
      "outputs": [
        {
          "output_type": "display_data",
          "data": {
            "image/png": "[encoded data removed]",
            "text/plain": [
              "<Figure size 432x288 with 1 Axes>"
            ]
          },
          "metadata": {
            "tags": [],
            "needs_background": "light"
          }
        }
      ]
    },
    {
      "cell_type": "code",
      "metadata": {
        "colab": {
          "base_uri": "https://localhost:8080/",
          "height": 269
        },
        "id": "s2jSanQN259D",
        "outputId": "1fdabfc2-470d-4944-fa95-ab92d3a9d663"
      },
      "source": [
        "tensor = np.array([\n",
        "    [[0,0,0],[0,0,0],[0,0,0]],\n",
        "    [[128,128,128],[128,128,128],[128,128,128]],\n",
        "    [[255,255,255],[255,255,255],[255,255,255]],\n",
        "])\n",
        "\n",
        "plt.imshow(tensor, interpolation='nearest')\n",
        "plt.show()"
      ],
      "execution_count": 10,
      "outputs": [
        {
          "output_type": "display_data",
          "data": {
            "image/png": "[encoded data removed]",
            "text/plain": [
              "<Figure size 432x288 with 1 Axes>"
            ]
          },
          "metadata": {
            "tags": [],
            "needs_background": "light"
          }
        }
      ]
    }
  ]
}