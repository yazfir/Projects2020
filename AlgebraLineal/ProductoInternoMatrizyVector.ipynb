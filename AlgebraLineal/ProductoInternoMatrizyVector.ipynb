{
  "nbformat": 4,
  "nbformat_minor": 0,
  "metadata": {
    "colab": {
      "name": "ProductoInternoMatrizyVector.ipynb",
      "provenance": [],
      "authorship_tag": "ABX9TyMj2o+E7OOlPdsr3dzPtbbm",
      "include_colab_link": true
    },
    "kernelspec": {
      "name": "python3",
      "display_name": "Python 3"
    },
    "language_info": {
      "name": "python"
    }
  },
  "cells": [
    {
      "cell_type": "markdown",
      "metadata": {
        "id": "view-in-github",
        "colab_type": "text"
      },
      "source": [
        "<a href=\"https://colab.research.google.com/github/yazfir/Projects2021/blob/master/AlgebraLineal/ProductoInternoMatrizyVector.ipynb\" target=\"_parent\"><img src=\"https://colab.research.google.com/assets/colab-badge.svg\" alt=\"Open In Colab\"/></a>"
      ]
    },
    {
      "cell_type": "code",
      "metadata": {
        "id": "FU-n-qz3OhIh"
      },
      "source": [
        "import numpy as np"
      ],
      "execution_count": 1,
      "outputs": []
    },
    {
      "cell_type": "markdown",
      "metadata": {
        "id": "B8mnTCALPGS3"
      },
      "source": [
        "#Producto Interno - Matriz y Vector"
      ]
    },
    {
      "cell_type": "code",
      "metadata": {
        "id": "XX5sSlWCPL2g"
      },
      "source": [
        "escalar = 5.679\n",
        "vector = np.array([2,3])\n",
        "matriz = np.array([[1,2],[3,4],[5,6]])"
      ],
      "execution_count": 2,
      "outputs": []
    },
    {
      "cell_type": "markdown",
      "metadata": {
        "id": "WXYAEKieS-Kw"
      },
      "source": [
        "Multiplicación - Matriz por Vector\n",
        "\n",
        "$$ A = \\begin{bmatrix}\n",
        "1 & 2\\\\\n",
        "3 & 4\\\\\n",
        "5 & 6\n",
        "\\end{bmatrix}*\n",
        "\\begin{bmatrix}\n",
        "2 & 3\n",
        "\\end{bmatrix}=\n",
        "\\begin{bmatrix}\n",
        "2 & 6\\\\\n",
        "6 & 12\\\\\n",
        "10 & 18\n",
        "\\end{bmatrix}\n",
        "$$"
      ]
    },
    {
      "cell_type": "code",
      "metadata": {
        "colab": {
          "base_uri": "https://localhost:8080/"
        },
        "id": "K_neglw3PR4u",
        "outputId": "253f47c2-470b-43c3-ad12-b01ad625cb29"
      },
      "source": [
        "A = matriz * vector\n",
        "A"
      ],
      "execution_count": 3,
      "outputs": [
        {
          "output_type": "execute_result",
          "data": {
            "text/plain": [
              "array([[ 2,  6],\n",
              "       [ 6, 12],\n",
              "       [10, 18]])"
            ]
          },
          "metadata": {
            "tags": []
          },
          "execution_count": 3
        }
      ]
    },
    {
      "cell_type": "markdown",
      "metadata": {
        "id": "N7JuFWE1UnOP"
      },
      "source": [
        "Producto Interno - Matriz por Vector\n",
        "\n",
        "$$ B = \\begin{bmatrix}\n",
        "1 & 2\\\\\n",
        "3 & 4\\\\\n",
        "5 & 6\n",
        "\\end{bmatrix}*\n",
        "\\begin{bmatrix}\n",
        "2 & 3\n",
        "\\end{bmatrix}=\n",
        "\\begin{bmatrix}\n",
        "(1*2) & + & (2*3)\\\\\n",
        "(3*2) & + & (4*3)\\\\\n",
        "(5*2) & + & (6*3)\n",
        "\\end{bmatrix}=\n",
        "\\begin{bmatrix}\n",
        "8 & 18 & 28\n",
        "\\end{bmatrix}\n",
        "$$"
      ]
    },
    {
      "cell_type": "code",
      "metadata": {
        "colab": {
          "base_uri": "https://localhost:8080/"
        },
        "id": "oPO6rt5fXHav",
        "outputId": "483af5c5-7aa4-4400-a360-2206ab2ab3de"
      },
      "source": [
        "B = matriz.dot(vector)\n",
        "B"
      ],
      "execution_count": 4,
      "outputs": [
        {
          "output_type": "execute_result",
          "data": {
            "text/plain": [
              "array([ 8, 18, 28])"
            ]
          },
          "metadata": {
            "tags": []
          },
          "execution_count": 4
        }
      ]
    },
    {
      "cell_type": "code",
      "metadata": {
        "colab": {
          "base_uri": "https://localhost:8080/"
        },
        "id": "T-Ax1nwxXdvx",
        "outputId": "46a0512b-f68d-48f0-f3dd-9f94d22e6f3c"
      },
      "source": [
        "C = np.dot(matriz, vector) # Es otra manera de hacer producto interno\n",
        "C"
      ],
      "execution_count": 5,
      "outputs": [
        {
          "output_type": "execute_result",
          "data": {
            "text/plain": [
              "array([ 8, 18, 28])"
            ]
          },
          "metadata": {
            "tags": []
          },
          "execution_count": 5
        }
      ]
    },
    {
      "cell_type": "code",
      "metadata": {
        "colab": {
          "base_uri": "https://localhost:8080/"
        },
        "id": "O63YdiPsX5Ct",
        "outputId": "78b54de7-ef96-4688-b5b5-e0de9319f794"
      },
      "source": [
        "D = vector.dot(matriz.T)\n",
        "D"
      ],
      "execution_count": 7,
      "outputs": [
        {
          "output_type": "execute_result",
          "data": {
            "text/plain": [
              "array([ 8, 18, 28])"
            ]
          },
          "metadata": {
            "tags": []
          },
          "execution_count": 7
        }
      ]
    }
  ]
}