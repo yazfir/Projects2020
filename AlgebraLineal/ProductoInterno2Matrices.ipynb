{
  "nbformat": 4,
  "nbformat_minor": 0,
  "metadata": {
    "colab": {
      "name": "ProductoInterno2Matrices.ipynb",
      "provenance": [],
      "authorship_tag": "ABX9TyMuj282b1HMTdweDoPJNx1g",
      "include_colab_link": true
    },
    "kernelspec": {
      "name": "python3",
      "display_name": "Python 3"
    },
    "language_info": {
      "name": "python"
    }
  },
  "cells": [
    {
      "cell_type": "markdown",
      "metadata": {
        "id": "view-in-github",
        "colab_type": "text"
      },
      "source": [
        "<a href=\"https://colab.research.google.com/github/yazfir/Projects2021/blob/master/AlgebraLineal/ProductoInterno2Matrices.ipynb\" target=\"_parent\"><img src=\"https://colab.research.google.com/assets/colab-badge.svg\" alt=\"Open In Colab\"/></a>"
      ]
    },
    {
      "cell_type": "code",
      "metadata": {
        "id": "3zt6SdGxaBmI"
      },
      "source": [
        "import numpy as np"
      ],
      "execution_count": 1,
      "outputs": []
    },
    {
      "cell_type": "markdown",
      "metadata": {
        "id": "6KKBat6uRh2H"
      },
      "source": [
        "#Producto Interno entre 2 Matrices"
      ]
    },
    {
      "cell_type": "code",
      "metadata": {
        "id": "6iDB0QDeRq-o"
      },
      "source": [
        "A = np.array([[1,2,3],[4,5,6],[7,8,9],[10,11,12]])\n",
        "B = np.array([[2,3],[5,7],[11,13]])"
      ],
      "execution_count": 2,
      "outputs": []
    },
    {
      "cell_type": "code",
      "metadata": {
        "colab": {
          "base_uri": "https://localhost:8080/"
        },
        "id": "GdI1CMv_Rv3M",
        "outputId": "9496a2c3-72ff-4697-818a-cb9591914b58"
      },
      "source": [
        "A.shape"
      ],
      "execution_count": 3,
      "outputs": [
        {
          "output_type": "execute_result",
          "data": {
            "text/plain": [
              "(4, 3)"
            ]
          },
          "metadata": {
            "tags": []
          },
          "execution_count": 3
        }
      ]
    },
    {
      "cell_type": "code",
      "metadata": {
        "colab": {
          "base_uri": "https://localhost:8080/"
        },
        "id": "YyrbxLjiR2Kk",
        "outputId": "b834dc5c-2088-4147-ffa0-bab4da406ae2"
      },
      "source": [
        "B.shape"
      ],
      "execution_count": 4,
      "outputs": [
        {
          "output_type": "execute_result",
          "data": {
            "text/plain": [
              "(3, 2)"
            ]
          },
          "metadata": {
            "tags": []
          },
          "execution_count": 4
        }
      ]
    },
    {
      "cell_type": "markdown",
      "metadata": {
        "id": "PxK-OVzmUkpb"
      },
      "source": [
        "Multiplicación de 2 Matrices (Dimensiones Diferentes)\n",
        " - Se puede hacer esta multiplicación si el tamaño de las filas de la 1er Matriz coincide con el tamaño de las columnas de la 2da Matriz.\n",
        "\n",
        "$$ C = \n",
        "\\begin{bmatrix}\n",
        "1 & 2 & 3\\\\\n",
        "4 & 5 & 6\\\\\n",
        "7 & 8 & 9\\\\\n",
        "10 & 11 & 12\n",
        "\\end{bmatrix}*\n",
        "\\begin{bmatrix}\n",
        "2 & 3\\\\\n",
        "5 & 7\\\\\n",
        "11 & 13\n",
        "\\end{bmatrix}=\n",
        "\\begin{bmatrix}\n",
        "(1*2)+(2*5)+(3*11) & (1*3)+(2*7)+(3*13)\\\\\n",
        "(4*2)+(5*5)+(6*11) & (4*3)+(5*7)+(6*13)\\\\\n",
        "(7*2)+(8*5)+(9*11) & (7*3)+(8*7)+(9*13)\\\\\n",
        "(10*2)+(11*5)+(12*11) & (10*3)+(11*7)+(12*13)\n",
        "\\end{bmatrix}=\n",
        "\\begin{bmatrix}\n",
        "45 & 56\\\\\n",
        "99 & 125\\\\\n",
        "153 & 194\\\\\n",
        "207 & 263\n",
        "\\end{bmatrix}\n",
        "$$"
      ]
    },
    {
      "cell_type": "code",
      "metadata": {
        "colab": {
          "base_uri": "https://localhost:8080/"
        },
        "id": "lfXeY7LnTkHx",
        "outputId": "c2007fbe-1a80-4849-c766-3040075a7fef"
      },
      "source": [
        "C = A.dot(B) # Se puede porque A=(4,3) y B=(3,2) por lo tanto 3 = 3. El resultado es el cruce de las otras dimensiones, o sea (2,4)\n",
        "C"
      ],
      "execution_count": 5,
      "outputs": [
        {
          "output_type": "execute_result",
          "data": {
            "text/plain": [
              "array([[ 45,  56],\n",
              "       [ 99, 125],\n",
              "       [153, 194],\n",
              "       [207, 263]])"
            ]
          },
          "metadata": {
            "tags": []
          },
          "execution_count": 5
        }
      ]
    },
    {
      "cell_type": "code",
      "metadata": {
        "colab": {
          "base_uri": "https://localhost:8080/",
          "height": 181
        },
        "id": "xY7JKyAFUEjL",
        "outputId": "61d847a1-fe2a-401f-ce61-885ada9165a5"
      },
      "source": [
        "D = B.dot(C) # No se puede porque B=(3,2) y A=(4,3) por lo tanto 2 <> 4\n",
        "D"
      ],
      "execution_count": 6,
      "outputs": [
        {
          "output_type": "error",
          "ename": "ValueError",
          "evalue": "ignored",
          "traceback": [
            "\u001b[0;31m---------------------------------------------------------------------------\u001b[0m",
            "\u001b[0;31mValueError\u001b[0m                                Traceback (most recent call last)",
            "\u001b[0;32m<ipython-input-6-8cacdcc86c37>\u001b[0m in \u001b[0;36m<module>\u001b[0;34m()\u001b[0m\n\u001b[0;32m----> 1\u001b[0;31m \u001b[0mD\u001b[0m \u001b[0;34m=\u001b[0m \u001b[0mB\u001b[0m\u001b[0;34m.\u001b[0m\u001b[0mdot\u001b[0m\u001b[0;34m(\u001b[0m\u001b[0mC\u001b[0m\u001b[0;34m)\u001b[0m \u001b[0;31m# No se puede porque B=(3,2) y A=(4,3) por lo tanto 2 <> 4\u001b[0m\u001b[0;34m\u001b[0m\u001b[0;34m\u001b[0m\u001b[0m\n\u001b[0m\u001b[1;32m      2\u001b[0m \u001b[0mD\u001b[0m\u001b[0;34m\u001b[0m\u001b[0;34m\u001b[0m\u001b[0m\n",
            "\u001b[0;31mValueError\u001b[0m: shapes (3,2) and (4,2) not aligned: 2 (dim 1) != 4 (dim 0)"
          ]
        }
      ]
    }
  ]
}