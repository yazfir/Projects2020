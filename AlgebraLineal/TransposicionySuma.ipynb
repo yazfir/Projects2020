{
  "nbformat": 4,
  "nbformat_minor": 0,
  "metadata": {
    "colab": {
      "name": "Transposicion.ipynb",
      "provenance": [],
      "authorship_tag": "ABX9TyNP2eFkN8F591WXbIsOuvR9",
      "include_colab_link": true
    },
    "kernelspec": {
      "name": "python3",
      "display_name": "Python 3"
    },
    "language_info": {
      "name": "python"
    }
  },
  "cells": [
    {
      "cell_type": "markdown",
      "metadata": {
        "id": "view-in-github",
        "colab_type": "text"
      },
      "source": [
        "<a href=\"https://colab.research.google.com/github/yazfir/Projects2021/blob/master/AlgebraLineal/TransposicionySuma.ipynb\" target=\"_parent\"><img src=\"https://colab.research.google.com/assets/colab-badge.svg\" alt=\"Open In Colab\"/></a>"
      ]
    },
    {
      "cell_type": "code",
      "metadata": {
        "id": "tITC0Ut6wh-j"
      },
      "source": [
        "import numpy as np"
      ],
      "execution_count": 1,
      "outputs": []
    },
    {
      "cell_type": "code",
      "metadata": {
        "id": "6sth-EOEwydK"
      },
      "source": [
        "escalar = 5.679\n",
        "vector = np.array([3,4,5,6])\n",
        "matriz = np.array([[1,2],[3,4],[5,6]])\n",
        "tensor = np.array([\n",
        "    [[1,2,3,30],[4,5,6,31],[7,8,9,32]],\n",
        "    [[11,12,13,33],[14,15,16,34],[17,18,19,35]],\n",
        "    [[21,22,23,36],[24,25,26,37],[27,28,29,38]],\n",
        "])"
      ],
      "execution_count": 2,
      "outputs": []
    },
    {
      "cell_type": "code",
      "metadata": {
        "colab": {
          "base_uri": "https://localhost:8080/",
          "height": 198
        },
        "id": "2Qfs4laJw3TT",
        "outputId": "adbb4cbf-3679-455b-c0f8-9e5c134d2237"
      },
      "source": [
        "# Transponer en Python es con el atributo: .T\n",
        "# Podemos denotar estas variables con: _t\n",
        "\n",
        "escalar_t = escalar.T #Mandara error porque una escalar no puede transponerse"
      ],
      "execution_count": 3,
      "outputs": [
        {
          "output_type": "error",
          "ename": "AttributeError",
          "evalue": "ignored",
          "traceback": [
            "\u001b[0;31m---------------------------------------------------------------------------\u001b[0m",
            "\u001b[0;31mAttributeError\u001b[0m                            Traceback (most recent call last)",
            "\u001b[0;32m<ipython-input-3-5ae41766d593>\u001b[0m in \u001b[0;36m<module>\u001b[0;34m()\u001b[0m\n\u001b[1;32m      2\u001b[0m \u001b[0;31m# Podemos denotar estas variables con: _t\u001b[0m\u001b[0;34m\u001b[0m\u001b[0;34m\u001b[0m\u001b[0;34m\u001b[0m\u001b[0m\n\u001b[1;32m      3\u001b[0m \u001b[0;34m\u001b[0m\u001b[0m\n\u001b[0;32m----> 4\u001b[0;31m \u001b[0mescalar_t\u001b[0m \u001b[0;34m=\u001b[0m \u001b[0mescalar\u001b[0m\u001b[0;34m.\u001b[0m\u001b[0mT\u001b[0m\u001b[0;34m\u001b[0m\u001b[0;34m\u001b[0m\u001b[0m\n\u001b[0m",
            "\u001b[0;31mAttributeError\u001b[0m: 'float' object has no attribute 'T'"
          ]
        }
      ]
    },
    {
      "cell_type": "code",
      "metadata": {
        "colab": {
          "base_uri": "https://localhost:8080/"
        },
        "id": "_NOKaeU2yrSN",
        "outputId": "3f33a562-7952-4cd7-9921-fd82b0a61403"
      },
      "source": [
        "vector_t = vector.T\n",
        "vector_t #Para un vector queda igual ya que al no tener filas y columnas para transponerse lo deja igual"
      ],
      "execution_count": 4,
      "outputs": [
        {
          "output_type": "execute_result",
          "data": {
            "text/plain": [
              "array([3, 4, 5, 6])"
            ]
          },
          "metadata": {
            "tags": []
          },
          "execution_count": 4
        }
      ]
    },
    {
      "cell_type": "code",
      "metadata": {
        "colab": {
          "base_uri": "https://localhost:8080/"
        },
        "id": "up5imGJF00Kv",
        "outputId": "9b013bab-0937-40f0-9cbd-c9e5ccfb58d9"
      },
      "source": [
        "matriz_t = matriz.T\n",
        "print(matriz)\n",
        "print('\\n')\n",
        "print(matriz_t)"
      ],
      "execution_count": 8,
      "outputs": [
        {
          "output_type": "stream",
          "text": [
            "[[1 2]\n",
            " [3 4]\n",
            " [5 6]]\n",
            "\n",
            "\n",
            "[[1 3 5]\n",
            " [2 4 6]]\n"
          ],
          "name": "stdout"
        }
      ]
    },
    {
      "cell_type": "code",
      "metadata": {
        "colab": {
          "base_uri": "https://localhost:8080/"
        },
        "id": "oq6Tz2pX1l1E",
        "outputId": "3ddb15b7-1e2b-4d87-cec6-e7ab5ba53d32"
      },
      "source": [
        "print(matriz.shape)\n",
        "print('\\n')\n",
        "print(matriz_t.shape)"
      ],
      "execution_count": 9,
      "outputs": [
        {
          "output_type": "stream",
          "text": [
            "(3, 2)\n",
            "\n",
            "\n",
            "(2, 3)\n"
          ],
          "name": "stdout"
        }
      ]
    },
    {
      "cell_type": "code",
      "metadata": {
        "colab": {
          "base_uri": "https://localhost:8080/"
        },
        "id": "ZWt1Jway15Wg",
        "outputId": "dad0bb8a-543e-480f-c77b-326c4716b9d7"
      },
      "source": [
        "tensor_t = tensor.T\n",
        "\n",
        "print(tensor)\n",
        "print('\\n')\n",
        "print(tensor_t)"
      ],
      "execution_count": 11,
      "outputs": [
        {
          "output_type": "stream",
          "text": [
            "[[[ 1  2  3 30]\n",
            "  [ 4  5  6 31]\n",
            "  [ 7  8  9 32]]\n",
            "\n",
            " [[11 12 13 33]\n",
            "  [14 15 16 34]\n",
            "  [17 18 19 35]]\n",
            "\n",
            " [[21 22 23 36]\n",
            "  [24 25 26 37]\n",
            "  [27 28 29 38]]]\n",
            "\n",
            "\n",
            "[[[ 1 11 21]\n",
            "  [ 4 14 24]\n",
            "  [ 7 17 27]]\n",
            "\n",
            " [[ 2 12 22]\n",
            "  [ 5 15 25]\n",
            "  [ 8 18 28]]\n",
            "\n",
            " [[ 3 13 23]\n",
            "  [ 6 16 26]\n",
            "  [ 9 19 29]]\n",
            "\n",
            " [[30 33 36]\n",
            "  [31 34 37]\n",
            "  [32 35 38]]]\n"
          ],
          "name": "stdout"
        }
      ]
    },
    {
      "cell_type": "markdown",
      "metadata": {
        "id": "mNg1Z_GS2quv"
      },
      "source": [
        "La transpuesta de una matriz ya transpuesta da como resultado la matriz original previo a ser transpuesta.\n",
        "\n",
        "( $A^{t}$ )$^t$ = $A$"
      ]
    },
    {
      "cell_type": "code",
      "metadata": {
        "colab": {
          "base_uri": "https://localhost:8080/"
        },
        "id": "EaKyeQoc6hxd",
        "outputId": "ed752ddb-769c-4cc3-e7d6-1e403d41fe08"
      },
      "source": [
        "matriz_t_t = matriz_t.T\n",
        "\n",
        "print(matriz)\n",
        "print('\\n')\n",
        "print(matriz_t_t)"
      ],
      "execution_count": 13,
      "outputs": [
        {
          "output_type": "stream",
          "text": [
            "[[1 2]\n",
            " [3 4]\n",
            " [5 6]]\n",
            "\n",
            "\n",
            "[[1 2]\n",
            " [3 4]\n",
            " [5 6]]\n"
          ],
          "name": "stdout"
        }
      ]
    },
    {
      "cell_type": "markdown",
      "metadata": {
        "id": "UcdcAOy075_w"
      },
      "source": [
        "# Suma de Matrices (Mismas Dimensiones)\n",
        "\n",
        "$$ matriz = \\begin{bmatrix}\n",
        "1 & 2\\\\\n",
        "3 & 4\\\\\n",
        "5 & 6\n",
        "\\end{bmatrix}$$"
      ]
    },
    {
      "cell_type": "code",
      "metadata": {
        "colab": {
          "base_uri": "https://localhost:8080/",
          "height": 198
        },
        "id": "f3nJ7GkE8_pd",
        "outputId": "fae2e27b-3c05-4412-963c-8d154a2c87e3"
      },
      "source": [
        "A = matriz\n",
        "B = matriz_t\n",
        "C = A + B # No se puede sumar porque ambas matrices deben ser de las mismas dimensiones"
      ],
      "execution_count": 14,
      "outputs": [
        {
          "output_type": "error",
          "ename": "ValueError",
          "evalue": "ignored",
          "traceback": [
            "\u001b[0;31m---------------------------------------------------------------------------\u001b[0m",
            "\u001b[0;31mValueError\u001b[0m                                Traceback (most recent call last)",
            "\u001b[0;32m<ipython-input-14-1ef557c9c8e2>\u001b[0m in \u001b[0;36m<module>\u001b[0;34m()\u001b[0m\n\u001b[1;32m      1\u001b[0m \u001b[0mA\u001b[0m \u001b[0;34m=\u001b[0m \u001b[0mmatriz\u001b[0m\u001b[0;34m\u001b[0m\u001b[0;34m\u001b[0m\u001b[0m\n\u001b[1;32m      2\u001b[0m \u001b[0mB\u001b[0m \u001b[0;34m=\u001b[0m \u001b[0mmatriz_t\u001b[0m\u001b[0;34m\u001b[0m\u001b[0;34m\u001b[0m\u001b[0m\n\u001b[0;32m----> 3\u001b[0;31m \u001b[0mC\u001b[0m \u001b[0;34m=\u001b[0m \u001b[0mA\u001b[0m \u001b[0;34m+\u001b[0m \u001b[0mB\u001b[0m \u001b[0;31m# No se puede sumar porque ambas matrices deben ser de las mismas dimensiones\u001b[0m\u001b[0;34m\u001b[0m\u001b[0;34m\u001b[0m\u001b[0m\n\u001b[0m",
            "\u001b[0;31mValueError\u001b[0m: operands could not be broadcast together with shapes (3,2) (2,3) "
          ]
        }
      ]
    },
    {
      "cell_type": "markdown",
      "metadata": {
        "id": "CB3uut0H96Qu"
      },
      "source": [
        "$$ C = \\begin{bmatrix}\n",
        "1 & 2\\\\\n",
        "3 & 4\\\\\n",
        "5 & 6\n",
        "\\end{bmatrix}+\n",
        "\\begin{bmatrix}\n",
        "6 & 5\\\\\n",
        "4 & 3\\\\\n",
        "2 & 1\n",
        "\\end{bmatrix}=\n",
        "\\begin{bmatrix}\n",
        "7 & 7\\\\\n",
        "7 & 7\\\\\n",
        "7 & 7\n",
        "\\end{bmatrix}\n",
        "$$"
      ]
    },
    {
      "cell_type": "code",
      "metadata": {
        "colab": {
          "base_uri": "https://localhost:8080/"
        },
        "id": "3jgiCNbS9iXB",
        "outputId": "3929e809-8a92-4fbc-f9b2-1730bae3115b"
      },
      "source": [
        "A = np.array([[1,2],[3,4],[5,6]])\n",
        "B = np.array([[6,5],[4,3],[2,1]])\n",
        "C = A+B\n",
        "print(A)\n",
        "print('\\n+')\n",
        "print(B)\n",
        "print('\\n=')\n",
        "print(C)"
      ],
      "execution_count": 17,
      "outputs": [
        {
          "output_type": "stream",
          "text": [
            "[[1 2]\n",
            " [3 4]\n",
            " [5 6]]\n",
            "\n",
            "+\n",
            "[[6 5]\n",
            " [4 3]\n",
            " [2 1]]\n",
            "\n",
            "=\n",
            "[[7 7]\n",
            " [7 7]\n",
            " [7 7]]\n"
          ],
          "name": "stdout"
        }
      ]
    },
    {
      "cell_type": "markdown",
      "metadata": {
        "id": "LZ28sss8_TpC"
      },
      "source": [
        "#Matriz + Escalar\n",
        "\n",
        "$$ D = \\begin{bmatrix}\n",
        "1 & 2\\\\\n",
        "3 & 4\\\\\n",
        "5 & 6\n",
        "\\end{bmatrix}+5.679=\n",
        "\\begin{bmatrix}\n",
        "6.679 & 7.679\\\\\n",
        "8.679 & 9.679\\\\\n",
        "10.679 & 11.679\n",
        "\\end{bmatrix}\n",
        "$$"
      ]
    },
    {
      "cell_type": "code",
      "metadata": {
        "colab": {
          "base_uri": "https://localhost:8080/"
        },
        "id": "Bwt6e-FJ_-1_",
        "outputId": "11d3d929-88eb-44cc-86c3-c50842600779"
      },
      "source": [
        "D = matriz + escalar\n",
        "\n",
        "D"
      ],
      "execution_count": 18,
      "outputs": [
        {
          "output_type": "execute_result",
          "data": {
            "text/plain": [
              "array([[ 6.679,  7.679],\n",
              "       [ 8.679,  9.679],\n",
              "       [10.679, 11.679]])"
            ]
          },
          "metadata": {
            "tags": []
          },
          "execution_count": 18
        }
      ]
    }
  ]
}