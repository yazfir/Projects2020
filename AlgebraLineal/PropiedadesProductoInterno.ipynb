{
  "nbformat": 4,
  "nbformat_minor": 0,
  "metadata": {
    "colab": {
      "name": "PropiedadesProductoInterno.ipynb",
      "provenance": [],
      "authorship_tag": "ABX9TyNp/wnlnGmtPQ2W5brtxxtq",
      "include_colab_link": true
    },
    "kernelspec": {
      "name": "python3",
      "display_name": "Python 3"
    },
    "language_info": {
      "name": "python"
    }
  },
  "cells": [
    {
      "cell_type": "markdown",
      "metadata": {
        "id": "view-in-github",
        "colab_type": "text"
      },
      "source": [
        "<a href=\"https://colab.research.google.com/github/yazfir/Projects2021/blob/master/AlgebraLineal/PropiedadesProductoInterno.ipynb\" target=\"_parent\"><img src=\"https://colab.research.google.com/assets/colab-badge.svg\" alt=\"Open In Colab\"/></a>"
      ]
    },
    {
      "cell_type": "code",
      "metadata": {
        "id": "3eBVMypjbs0l"
      },
      "source": [
        "import numpy as np"
      ],
      "execution_count": 1,
      "outputs": []
    },
    {
      "cell_type": "markdown",
      "metadata": {
        "id": "qGEOWgUcbyHH"
      },
      "source": [
        "#Propiedades de las Matrices\n",
        " - La multiplicación de matrices es asociativa y distributiva, no es conmutativa"
      ]
    },
    {
      "cell_type": "markdown",
      "metadata": {
        "id": "VxOM-FSIeFV3"
      },
      "source": [
        "* Propiedad Asociativa:\n",
        " \n",
        " A * (B * C) = (A * B) * C \n",
        "\n",
        "* Propiedad Distributiva:\n",
        "\n",
        " A * (B + C) =  (A * B) + (A * C)\n",
        "\n",
        "* Propiedad Conmutativa:\n",
        "\n",
        " B * C = C * B\n"
      ]
    },
    {
      "cell_type": "code",
      "metadata": {
        "id": "9k_nJl3VcO27"
      },
      "source": [
        "A = np.array([[2,3],[5,7],[11,13]])\n",
        "B = np.array([[1,3],[2,1]])\n",
        "C = np.array([[3,1],[4,2]])"
      ],
      "execution_count": 2,
      "outputs": []
    },
    {
      "cell_type": "code",
      "metadata": {
        "colab": {
          "base_uri": "https://localhost:8080/"
        },
        "id": "jpOZMGHDftMB",
        "outputId": "742ff03d-7b7c-4492-86ff-2ed2aa768f4e"
      },
      "source": [
        "# Asociativa\n",
        "\n",
        "ABC = A.dot(B.dot(C))\n",
        "ABC"
      ],
      "execution_count": 3,
      "outputs": [
        {
          "output_type": "execute_result",
          "data": {
            "text/plain": [
              "array([[ 60,  26],\n",
              "       [145,  63],\n",
              "       [295, 129]])"
            ]
          },
          "metadata": {
            "tags": []
          },
          "execution_count": 3
        }
      ]
    },
    {
      "cell_type": "code",
      "metadata": {
        "colab": {
          "base_uri": "https://localhost:8080/"
        },
        "id": "v_fny_QXf9aw",
        "outputId": "df5d6aeb-8c70-47ae-dba8-8b042ed14fc4"
      },
      "source": [
        "ABC_C = A.dot(B).dot(C)\n",
        "ABC_C"
      ],
      "execution_count": 4,
      "outputs": [
        {
          "output_type": "execute_result",
          "data": {
            "text/plain": [
              "array([[ 60,  26],\n",
              "       [145,  63],\n",
              "       [295, 129]])"
            ]
          },
          "metadata": {
            "tags": []
          },
          "execution_count": 4
        }
      ]
    },
    {
      "cell_type": "code",
      "metadata": {
        "colab": {
          "base_uri": "https://localhost:8080/"
        },
        "id": "_ArVIAalgZ0X",
        "outputId": "22869a1c-fc30-4acf-b4e7-619ecfc7d826"
      },
      "source": [
        "# Distributiva\n",
        "\n",
        "D = A.dot(B+C)\n",
        "E = (A.dot(B))+(A.dot(C))\n",
        "\n",
        "print(D)\n",
        "print('\\n')\n",
        "print(E)"
      ],
      "execution_count": 5,
      "outputs": [
        {
          "output_type": "stream",
          "text": [
            "[[ 26  17]\n",
            " [ 62  41]\n",
            " [122  83]]\n",
            "\n",
            "\n",
            "[[ 26  17]\n",
            " [ 62  41]\n",
            " [122  83]]\n"
          ],
          "name": "stdout"
        }
      ]
    },
    {
      "cell_type": "code",
      "metadata": {
        "colab": {
          "base_uri": "https://localhost:8080/"
        },
        "id": "9AGwjcR0hZHa",
        "outputId": "c1af4573-e46a-4526-f7a7-764565f28215"
      },
      "source": [
        "print(D == E)"
      ],
      "execution_count": 6,
      "outputs": [
        {
          "output_type": "stream",
          "text": [
            "[[ True  True]\n",
            " [ True  True]\n",
            " [ True  True]]\n"
          ],
          "name": "stdout"
        }
      ]
    },
    {
      "cell_type": "code",
      "metadata": {
        "colab": {
          "base_uri": "https://localhost:8080/"
        },
        "id": "Zthrk6-Fhtck",
        "outputId": "57c364b6-003a-48e4-9181-2133d0503f93"
      },
      "source": [
        "# Conmutativa. Las matrices casi nunca son conmutativas\n",
        "\n",
        "F = B.dot(C)\n",
        "G = C.dot(B)\n",
        "\n",
        "print(F==G)\n",
        "print('\\n')\n",
        "print(F)\n",
        "print('\\n')\n",
        "print(G)"
      ],
      "execution_count": 8,
      "outputs": [
        {
          "output_type": "stream",
          "text": [
            "[[False False]\n",
            " [False False]]\n",
            "\n",
            "\n",
            "[[15  7]\n",
            " [10  4]]\n",
            "\n",
            "\n",
            "[[ 5 10]\n",
            " [ 8 14]]\n"
          ],
          "name": "stdout"
        }
      ]
    },
    {
      "cell_type": "code",
      "metadata": {
        "colab": {
          "base_uri": "https://localhost:8080/"
        },
        "id": "GoUcBeXkh7aI",
        "outputId": "4de2acc0-7e81-47ed-de37-e56155944d07"
      },
      "source": [
        "# Conmutativa. Los vectores si son conmutativos.\n",
        "\n",
        "v1 = np.array([[2],[7]])\n",
        "v2 = np.array([[3],[5]])\n",
        "\n",
        "v1_tv2 = v1.T.dot(v2)\n",
        "v2_tv1 = v2.T.dot(v1)\n",
        "\n",
        "print(v1_tv2)\n",
        "print('\\n')\n",
        "print(v2_tv1)"
      ],
      "execution_count": 11,
      "outputs": [
        {
          "output_type": "stream",
          "text": [
            "[[41]]\n",
            "\n",
            "\n",
            "[[41]]\n"
          ],
          "name": "stdout"
        }
      ]
    },
    {
      "cell_type": "code",
      "metadata": {
        "colab": {
          "base_uri": "https://localhost:8080/"
        },
        "id": "bo-f0vQ6lfdB",
        "outputId": "48b48a8d-4293-46ca-f156-36a244ae5a39"
      },
      "source": [
        "# Ejemplo de Matrices Conmutativas-\n",
        "\n",
        "X = np.array([[5,5],[5,5]])\n",
        "Y = np.array([[5,5],[5,5]])\n",
        "\n",
        "M = X.dot(Y)\n",
        "N = Y.dot(X)\n",
        "\n",
        "print(M==N)\n",
        "print('\\n')\n",
        "print(M)\n",
        "print('\\n')\n",
        "print(N)"
      ],
      "execution_count": 13,
      "outputs": [
        {
          "output_type": "stream",
          "text": [
            "[[ True  True]\n",
            " [ True  True]]\n",
            "\n",
            "\n",
            "[[50 50]\n",
            " [50 50]]\n",
            "\n",
            "\n",
            "[[50 50]\n",
            " [50 50]]\n"
          ],
          "name": "stdout"
        }
      ]
    }
  ]
}